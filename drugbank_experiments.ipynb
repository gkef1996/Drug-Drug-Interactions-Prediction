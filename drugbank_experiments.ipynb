{
 "cells": [
  {
   "cell_type": "code",
   "execution_count": 1,
   "metadata": {},
   "outputs": [],
   "source": [
    "import os\n",
    "import csv\n",
    "import gzip\n",
    "import collections\n",
    "import re\n",
    "import io\n",
    "import json\n",
    "import pickle\n",
    "from tqdm import tqdm\n",
    "import xml.etree.ElementTree as ET\n",
    "import zipfile\n",
    "import requests\n",
    "import pandas as pd\n",
    "from tqdm import tqdm\n",
    "import pubchempy as pcp\n",
    "from rdkit.Chem import PandasTools\n",
    "from rdkit.Chem import SDMolSupplier\n",
    "from rdkit.Chem import MolFromSmiles\n",
    "import seaborn as sns\n",
    "import matplotlib.pyplot as plt\n",
    "import numpy as np\n",
    "from random import randrange, choice\n",
    "from threading import Thread"
   ]
  },
  {
   "cell_type": "code",
   "execution_count": 2,
   "metadata": {},
   "outputs": [],
   "source": [
    "### KL Divergence Computation\n",
    "import numpy as np\n",
    "\n",
    "def KL_aux(a, b):\n",
    "    a = np.asarray(a, dtype=float)\n",
    "    b = np.asarray(b, dtype=float)\n",
    "\n",
    "    return np.sum(np.where(a != 0, a * np.log(a / b), 0))\n",
    "\n",
    "#### KL Divergence for incompatible distributions (input: Series for each dataset)\n",
    "def KL(x,y):\n",
    "    x = x.value_counts().sort_index()\n",
    "    y = y.value_counts().sort_index()\n",
    "    index = x.index.union(y.index).unique()\n",
    "    x = x.reindex(index).fillna(1)\n",
    "    y = y.reindex(index).fillna(1)\n",
    "    x = x/x.values.sum()\n",
    "    y = y/y.values.sum()\n",
    "    return KL_aux(x,y)"
   ]
  },
  {
   "cell_type": "code",
   "execution_count": 61,
   "metadata": {},
   "outputs": [
    {
     "name": "stdout",
     "output_type": "stream",
     "text": [
      "Total drug entities: 14594\n",
      "Total drugs on Stuctures (MOL) supplementary file: 11290\n",
      "Computing mol2vec embeddings for all available MOL structures\n"
     ]
    }
   ],
   "source": [
    "def get_text(element, tag):\n",
    "    e = element.find(tag)\n",
    "    if e is not None:\n",
    "        return e.text\n",
    "    else:\n",
    "        return ''\n",
    "\n",
    "database = open(\"../Datasets/DrugBank/full database.xml\", 'r')\n",
    "tree = ET.parse(database)\n",
    "root = tree.getroot()\n",
    "print(\"Total drug entities: {}\".format(len(root)))\n",
    "\n",
    "### Read Structures from SDF format\n",
    "structures_df = PandasTools.LoadSDF(\"../Datasets/DrugBank/structures.sdf\")\n",
    "print(\"Total drugs on Stuctures (MOL) supplementary file: {}\".format(structures_df.shape[0]))\n",
    "\n",
    "### Read Structures in CSV Format (fewer columns)\n",
    "#structures_df = pd.read_csv(\"../Datasets/DrugBank/structure links.csv\")  \n",
    "\n",
    "### Add mol2vec vectors to structures_df\n",
    "#Loading pre-trained model via word2vec\n",
    "from gensim.models import word2vec\n",
    "model = word2vec.Word2Vec.load('model_300dim.pkl')\n",
    "\n",
    "from mol2vec.features import mol2alt_sentence, mol2sentence, MolSentence, DfVec, sentences2vec\n",
    "\n",
    "# Compute mol2vec vectors for all smiles \n",
    "print(\"Computing mol2vec embeddings for all available MOL structures\")\n",
    "#Constructing sentences\n",
    "structures_df['sentence'] = structures_df.apply(lambda x: MolSentence(mol2alt_sentence(x['ROMol'], 1)), axis=1)\n",
    "\n",
    "#Extracting embeddings to a numpy.array\n",
    "#Note that we always should mark unseen='UNK' in sentence2vec() so that model is taught how to handle unknown substructures\n",
    "structures_df['mol2vec'] = [DfVec(x) for x in sentences2vec(structures_df['sentence'], model, unseen='UNK')]\n",
    "# Keep track of Drugbank IDs for which we have MOL structure data\n",
    "valid_ids = set(structures_df.DRUGBANK_ID.unique())"
   ]
  },
  {
   "cell_type": "code",
   "execution_count": 62,
   "metadata": {},
   "outputs": [
    {
     "name": "stderr",
     "output_type": "stream",
     "text": [
      "100%|██████████| 14594/14594 [00:03<00:00, 4859.31it/s]\n"
     ]
    }
   ],
   "source": [
    "### Parse DrugBank Database to find interactions\n",
    "total_drugs = 0\n",
    "interactions_dict = {}\n",
    "groups_dict = {}\n",
    "name_dict = {}\n",
    "kingdom_dict = {}\n",
    "superclass_dict = {}\n",
    "categories_dict = {}\n",
    "for drug in tqdm(root, total = len(root)):\n",
    "    total_drugs += 1\n",
    "\n",
    "     #---------drugbank-id --------\n",
    "    dbid = drug.find(\"{http://www.drugbank.ca}drugbank-id\")\n",
    "    #print(dbid.text)\n",
    "    current_id = dbid.text\n",
    "\n",
    "    name = drug.find(\"{http://www.drugbank.ca}name\")\n",
    "    if name is not None:\n",
    "        #print(name.text)\n",
    "        name_dict[current_id] = name.text\n",
    "\n",
    "    #-----------------Interactions -----\n",
    "    interactions = drug.find(\"{http://www.drugbank.ca}drug-interactions\")\n",
    "    \n",
    "    interaction_list = []\n",
    "    for t in interactions:\n",
    "        i = t.find(\"{http://www.drugbank.ca}drugbank-id\")\n",
    "        #print(i.text)\n",
    "        interaction_list.append(i.text)\n",
    "\n",
    "    interactions_dict[current_id] = interaction_list\n",
    "\n",
    "     #-----------------External Identifiers -----\n",
    "    ext_identifiers = drug.find(\"{http://www.drugbank.ca}external-identifiers\")\n",
    "    \n",
    "    interaction_list = []\n",
    "    for t in interactions:\n",
    "        i = t.find(\"{http://www.drugbank.ca}drugbank-id\")\n",
    "        #print(i.text)\n",
    "        interaction_list.append(i.text)\n",
    "\n",
    "    #------------------Drug Classification\n",
    "    classification = drug.find(\"{http://www.drugbank.ca}classification\")\n",
    "    if classification is not None:\n",
    "        kingdom = classification.find(\"{http://www.drugbank.ca}kingdom\").text\n",
    "        kingdom_dict[current_id] = kingdom\n",
    "        superclass = classification.find(\"{http://www.drugbank.ca}superclass\").text\n",
    "        superclass_dict[current_id] = superclass\n",
    "    \n",
    "    #-----------------Drug Category (Amino Acids)\n",
    "    categories = drug.find(\"{http://www.drugbank.ca}categories\")\n",
    "    if categories is not None:\n",
    "        category = categories.find(\"{http://www.drugbank.ca}category\")\n",
    "        if category is not None:\n",
    "            categories_string = category.find(\"{http://www.drugbank.ca}category\").text\n",
    "            categories_dict[current_id] = list(map(lambda x : x if (\"and \" not in x) else x.split('and ')[1], categories_string.split(';')))\n",
    "    \n",
    "    #----------------Drug Groups (e.g. Approved)\n",
    "    groups = drug.find(\"{http://www.drugbank.ca}groups\")\n",
    "    if groups is not None:\n",
    "        groups = groups.find(\"{http://www.drugbank.ca}group\").text.split(';')\n",
    "        groups_dict[current_id] = groups[0]\n",
    "        if len(groups) > 1 :\n",
    "            print(current_id) # check if any drug belongs to more than one group\n",
    "            break\n",
    "\n",
    "### Create Dataframes for drugs and interactions\n",
    "drugs_df = pd.DataFrame(name_dict.items(), columns=['DrugbankId', 'Name'])\n",
    "drugs_df['Group'] = drugs_df.DrugbankId.map(groups_dict)\n",
    "drugs_df['Kingdom'] = drugs_df.DrugbankId.map(kingdom_dict)\n",
    "drugs_df['Superclass'] = drugs_df.DrugbankId.map(superclass_dict)\n",
    "drugs_df['Categories'] = drugs_df.DrugbankId.map(categories_dict)\n",
    "interactions_df = pd.DataFrame(interactions_dict.items(), columns=['SDID', 'ODID'])\n",
    "interactions_df = interactions_df.explode('ODID')"
   ]
  },
  {
   "cell_type": "code",
   "execution_count": 4,
   "metadata": {},
   "outputs": [
    {
     "name": "stdout",
     "output_type": "stream",
     "text": [
      "Unsupported IDs: 3304\n"
     ]
    }
   ],
   "source": [
    "### Set of unsupported DIDs:\n",
    "interaction_dids = set(interactions_df.SDID.unique())\n",
    "unsupported_ids = interaction_dids.difference(valid_ids)\n",
    "print(\"Unsupported IDs: {}\".format(len(unsupported_ids)))"
   ]
  },
  {
   "cell_type": "code",
   "execution_count": 5,
   "metadata": {},
   "outputs": [
    {
     "name": "stderr",
     "output_type": "stream",
     "text": [
      "100%|██████████| 3304/3304 [44:09<00:00,  1.25it/s]  \n"
     ]
    },
    {
     "name": "stdout",
     "output_type": "stream",
     "text": [
      "Fetched SMILES from PubChemPy: 454 / 3304\n",
      "Warining: could not convert the following SMILES to Chm.Mol: \n",
      "    DATABASE_ID                                  SMILES ROMol\n",
      "328     DB01929  C1=CC2=C(C(=C1N)Cl(=O)=O)C(=NC(=N2)N)N  None\n",
      "Droping substances that were not converted.\n"
     ]
    }
   ],
   "source": [
    "did2smiles = {}\n",
    "### Use PubChem for each unsupported ID\n",
    "for uid in tqdm(unsupported_ids, total = len(unsupported_ids)):\n",
    "    res_list = pcp.get_compounds(name_dict[uid], 'name')\n",
    "    if len(res_list) == 0: \n",
    "        continue\n",
    "    did2smiles[uid] = res_list[0].isomeric_smiles\n",
    "print(\"Fetched SMILES from PubChemPy: {} / {}\".format(len(did2smiles.keys()), len(unsupported_ids)))\n",
    "### Append new SMILES to structures_df\n",
    "new_structures = pd.DataFrame(did2smiles.items(), columns=['DATABASE_ID', 'SMILES'])\n",
    "new_structures['ROMol'] = new_structures['SMILES'].apply(lambda x: MolFromSmiles(x))\n",
    "if new_structures[new_structures['ROMol'].isnull()].shape[0] > 0:\n",
    "    print('Warining: could not convert the following SMILES to Chm.Mol: \\n{}'.format(new_structures[new_structures['ROMol'].isnull()]))\n",
    "    print(\"Droping substances that were not converted.\")\n",
    "    new_structures = new_structures.dropna()\n",
    "structures_df = structures_df.append(new_structures)\n",
    "### Update unsupported IDs\n",
    "valid_ids = set(structures_df.DATABASE_ID.unique())\n",
    "unsupported_ids = interaction_dids.difference(valid_ids)\n",
    "### Compute Mol2Vec for all structures again (to cover new entries from PubChem)\n",
    "structures_df['sentence'] = structures_df.apply(lambda x: MolSentence(mol2alt_sentence(x['ROMol'], 1)), axis=1)\n",
    "structures_df['mol2vec'] = [DfVec(x) for x in sentences2vec(structures_df['sentence'], model, unseen='UNK')]"
   ]
  },
  {
   "cell_type": "code",
   "execution_count": 6,
   "metadata": {},
   "outputs": [
    {
     "name": "stdout",
     "output_type": "stream",
     "text": [
      "Valid IDs with SMILES\n",
      "Total Valid Interactions: 2414352 (from original 2778368 interactions)\n",
      "Total Valid Drug IDs: 11743\n"
     ]
    }
   ],
   "source": [
    "#### Organizing Available Data\n",
    "print(\"Valid IDs with SMILES\")\n",
    "# Remove from interactions dataframe unsupported ids\n",
    "valid_interactions = interactions_df[interactions_df['SDID'].isin(valid_ids)]\n",
    "valid_interactions = valid_interactions[valid_interactions['ODID'].isin(valid_ids)]\n",
    "print(\"Total Valid Interactions: {} (from original {} interactions)\".format(valid_interactions.shape[0], interactions_df.shape[0]))\n",
    "print(\"Total Valid Drug IDs: {}\".format(len(valid_ids)))"
   ]
  },
  {
   "cell_type": "code",
   "execution_count": 7,
   "metadata": {},
   "outputs": [
    {
     "name": "stdout",
     "output_type": "stream",
     "text": [
      "Classification DF shape:(1207176, 4)\n"
     ]
    }
   ],
   "source": [
    "##### Mol2Vec Experiment Setup\n",
    "\n",
    "#### Prepare a dataframe for the classification problem {col1: features_vector, col2: call_value}. \n",
    "#### features vector: concatenated features_vectors of two substances. Values: 0-->do not interact, 1-->interact\n",
    "id2mol2vec = dict(zip(structures_df.DATABASE_ID, structures_df.mol2vec))\n",
    "classification_df = pd.DataFrame({'features_vector':valid_interactions.apply(lambda r: [str(r.SDID), str(r.ODID)], axis = 1)})\n",
    "mask = [(x[0] < x[1]) for x in classification_df['features_vector']]\n",
    "classification_df = classification_df[mask] # Keep only one relation per drug interaction (A-->B, discard B-->A)\n",
    "classification_df['class'] = 1 \n",
    "classification_df['SDID'] =  classification_df.apply(lambda r: r.features_vector[0], axis=1)\n",
    "classification_df['ODID'] =  classification_df.apply(lambda r: r.features_vector[1], axis=1)\n",
    "classification_df['features_vector'] = classification_df.apply(lambda r: np.concatenate([id2mol2vec[r.features_vector[0]].vec, id2mol2vec[r.features_vector[1]].vec]), axis=1)\n",
    "print(\"Classification DF shape:{}\".format(classification_df.shape))"
   ]
  },
  {
   "cell_type": "code",
   "execution_count": 3,
   "metadata": {},
   "outputs": [],
   "source": [
    "### SAVE Data from Pickles --- folder: drugbank_experiment_pickles\n",
    "# with open('drugbank_experiment_pickles/structures_df.pickle', 'wb') as handle:\n",
    "#     pickle.dump(structures_df, handle, protocol=pickle.HIGHEST_PROTOCOL)\n",
    "# with open('drugbank_experiment_pickles/valid_interactions.pickle', 'wb') as handle:\n",
    "#     pickle.dump(valid_interactions, handle, protocol=pickle.HIGHEST_PROTOCOL)\n",
    "# with open('drugbank_experiment_pickles/classification_df.pickle', 'wb') as handle:\n",
    "#     pickle.dump(classification_df, handle, protocol=pickle.HIGHEST_PROTOCOL)\n",
    "# with open('drugbank_experiment_pickles/valid_ids.pickle', 'wb') as handle:\n",
    "#     pickle.dump(valid_ids, handle, protocol=pickle.HIGHEST_PROTOCOL)\n",
    "# with open('drugbank_edge_betweeness_centrality.pickle', 'wb') as handle:  # Store betweeness centrality of graph\n",
    "#     pickle.dump(edge_betweeness_centrality, handle, protocol=pickle.HIGHEST_PROTOCOL)\n",
    "# with open('drugbank_groups_dict_centrality.pickle', 'wb') as handle:  # Store betweeness centrality of graph\n",
    "#     pickle.dump(groups_dict, handle, protocol=pickle.HIGHEST_PROTOCOL)\n",
    "\n",
    "\n",
    "### LOAD Data from Pickles --- folder: drugbank_experiment_pickless\n",
    "\n",
    "with open('drugbank_experiment_pickles/structures_df.pickle', 'rb') as handle:\n",
    "    structures_df = pickle.load(handle)\n",
    "\n",
    "with open('drugbank_experiment_pickles/valid_interactions.pickle', 'rb') as handle:\n",
    "    valid_interactions = pickle.load(handle)\n",
    "\n",
    "with open('drugbank_experiment_pickles/classification_df.pickle', 'rb') as handle:\n",
    "    classification_df = pickle.load(handle)\n",
    "\n",
    "with open('drugbank_experiment_pickles/valid_ids.pickle', 'rb') as handle:\n",
    "    valid_ids = pickle.load(handle)\n",
    "    \n",
    "with open('drugbank_edge_betweeness_centrality.pickle', 'rb') as handle:\n",
    "    edge_betweeness_centrality = pickle.load(handle) \n",
    "\n",
    "with open('drugbank_groups_dict_centrality.pickle', 'rb') as handle:\n",
    "    groups_dict = pickle.load(handle) "
   ]
  },
  {
   "cell_type": "code",
   "execution_count": 23,
   "metadata": {},
   "outputs": [
    {
     "name": "stdout",
     "output_type": "stream",
     "text": [
      "Initiating Multithreading Execution\n",
      "Exited Multithreaded Section\n",
      "Creating Dataframe with negative samples\n",
      "Removing Duplicate vectors\n",
      "Applying mapp to feature vectors\n"
     ]
    }
   ],
   "source": [
    "### Create Negative Samples\n",
    "# Add samples with substances that do not interact\n",
    "# Generate random tuples from the substances list, and if they do not appear on the interactions_df add them as a non interaction\n",
    "\n",
    "def getSetWithAllPairs(df, col1, col2):\n",
    "    return set(list(zip(df[col1],df[col2])))\n",
    " \n",
    "def getNegSamples(pairs_to_avoid, substances_df, neg_sample_size, result_list, result_idx, bad_cids):\n",
    "    subs_did_list = list(set(valid_interactions.SDID.unique()).union(valid_interactions.ODID.unique()))\n",
    "    neg_examples = []\n",
    "    while len(neg_examples) < neg_sample_size:\n",
    "        # Generate random pair\n",
    "        did_a = choice(subs_did_list)\n",
    "        did_b = choice(subs_did_list)\n",
    "        if((did_a in bad_cids) or (did_b in bad_cids)):\n",
    "            continue\n",
    "        flag1 = (did_a, did_b) not in pairs_to_avoid\n",
    "        flag2 = (did_b, did_a) not in pairs_to_avoid\n",
    "        if(did_a != did_b and flag1 and flag2):\n",
    "            try:   \n",
    "                neg_examples.append([did_a, did_b, 0])\n",
    "            except IndexError:\n",
    "                print(\"IndexError for subject: {} and object: {}\".format(did_a, did_b))\n",
    "    result_list[result_idx-1] = neg_examples\n",
    "    return\n",
    "\n",
    "thread_list = []\n",
    "NEG_SAMPLE_SIZE = 350000 # For each thread\n",
    "THREADS = 4\n",
    "result_list = [None]*THREADS\n",
    "pairs_2_avoid = getSetWithAllPairs(valid_interactions, 'SDID', 'ODID')\n",
    "bad_cids = {}\n",
    "print(\"Initiating Multithreading Execution\")\n",
    "for i in range(THREADS):\n",
    "    thread = Thread(target = getNegSamples, args = [pairs_2_avoid,structures_df, NEG_SAMPLE_SIZE, result_list, i, bad_cids])\n",
    "    thread_list.append(thread)\n",
    "    thread.start()\n",
    "\n",
    "for t in thread_list:\n",
    "    t.join()\n",
    "\n",
    "print(\"Exited Multithreaded Section\")\n",
    "\n",
    "neg_examples = []\n",
    "for l in result_list:\n",
    "    if l != None: neg_examples.extend(l)\n",
    "            \n",
    "cid2mol2vec = dict(zip(structures_df.DATABASE_ID, structures_df.mol2vec))\n",
    "print(\"Creating Dataframe with negative samples\")\n",
    "neg_examples_df = pd.DataFrame(data = neg_examples, columns=['SDID', 'ODID', 'class'])\n",
    "print(\"Removing Duplicate vectors\") \n",
    "#Remove duplicates\n",
    "neg_examples_df = neg_examples_df.drop_duplicates()\n",
    "\n",
    "# Create features_vector column\n",
    "print(\"Applying mapp to feature vectors\")\n",
    "neg_examples_df[\"features_vector\"] = neg_examples_df.apply(lambda r: np.concatenate([cid2mol2vec[r.SDID].vec, cid2mol2vec[r.ODID].vec]), axis = 1)\n",
    "mol2vec_neg_examples_df = neg_examples_df # store negative examples for cross evaluating with node2vec experiment"
   ]
  },
  {
   "cell_type": "code",
   "execution_count": 24,
   "metadata": {},
   "outputs": [
    {
     "name": "stdout",
     "output_type": "stream",
     "text": [
      "Shape of Test Dataframe: (2527526, 4)\n"
     ]
    }
   ],
   "source": [
    "### Create Test Dataframe with positive and negative examples of interactions\n",
    "test_dataframe = pd.concat([classification_df, neg_examples_df], axis=0)\n",
    "print(\"Shape of Test Dataframe: {}\".format(test_dataframe.shape))"
   ]
  },
  {
   "cell_type": "code",
   "execution_count": 25,
   "metadata": {},
   "outputs": [
    {
     "name": "stdout",
     "output_type": "stream",
     "text": [
      "Shape of X_train: (2878850,) ------ Class_0: 1502158\n",
      "Shape of X_test: (1668168,)  ------ Class_0: 870700\n",
      "Shape of X_val: (508034,)  ------ Class_0: 266288\n"
     ]
    }
   ],
   "source": [
    "############################# Starting the Classification Experiments #########################\n",
    "import torch\n",
    "import torch.nn as nn\n",
    "import torch.optim as optim\n",
    "from torch.utils.data import Dataset, DataLoader\n",
    "\n",
    "from sklearn.preprocessing import StandardScaler    \n",
    "from sklearn.model_selection import train_test_split\n",
    "from sklearn.metrics import confusion_matrix, classification_report\n",
    "\n",
    "# Function to recover bidirectional interactions\n",
    "def addReverseVector(df):\n",
    "    #m = (df['class'] == 1) #uncomment to add reverse vectors only for one class\n",
    "    #df1 = df[m].copy()\n",
    "    df1 = df.copy()\n",
    "    df1['features_vector'] = df1.features_vector.apply(lambda x: np.concatenate([x[:len(x)//2], x[len(x)//2:]]))\n",
    "    return  pd.concat([df, df1], axis=0)\n",
    "\n",
    "# Separate features vector from class\n",
    "test_df = test_dataframe[['features_vector', 'SDID', 'ODID', 'class']]\n",
    "X = test_df.iloc[:, 0:-1]\n",
    "y = test_df.iloc[:, -1]\n",
    "\n",
    "# Train-Test Split\n",
    "X_train, X_test, y_train, y_test = train_test_split(X, y, test_size=0.33, random_state=69)\n",
    "X_train, X_val, y_train, y_val = train_test_split(X_train, y_train, test_size=0.15, random_state=69)\n",
    "trainDF = addReverseVector(pd.concat([X_train,y_train], axis=1))\n",
    "X_train, y_train= trainDF.features_vector, trainDF['class']\n",
    "testDF = addReverseVector(pd.concat([X_test,y_test], axis=1))\n",
    "X_test, y_test, test_pairs = testDF.features_vector, testDF['class'],  testDF[['SDID', 'ODID']]\n",
    "valDF = addReverseVector(pd.concat([X_val,y_val], axis=1))\n",
    "X_val, y_val= valDF.features_vector, valDF['class']\n",
    "\n",
    "print(\"Shape of X_train: {} ------ Class_0: {} -- Class_1: {}\".format(X_train.shape,  y_train[(y_train.values==0)].count(), y_train[(y_train.values==1)].count()))\n",
    "print(\"Shape of X_test: {}  ------ Class_0: {} -- Class_1: {}\".format(X_test.shape, y_test[(y_test.values==0)].count(), y_test[(y_test.values==1)].count()))\n",
    "print(\"Shape of X_val: {}  ------ Class_0: {}  -- Class_1: {}\".format(X_val.shape, y_val[(y_val.values==0)].count(), y_val[(y_val.values==1)].count()))"
   ]
  },
  {
   "cell_type": "code",
   "execution_count": 26,
   "metadata": {},
   "outputs": [
    {
     "name": "stdout",
     "output_type": "stream",
     "text": [
      "Plotting counts for Train Data\n"
     ]
    },
    {
     "data": {
      "text/plain": [
       "<AxesSubplot:xlabel='class', ylabel='count'>"
      ]
     },
     "execution_count": 26,
     "metadata": {},
     "output_type": "execute_result"
    },
    {
     "data": {
      "image/png": "[encoded data removed]",
      "text/plain": [
       "<Figure size 432x288 with 1 Axes>"
      ]
     },
     "metadata": {
      "needs_background": "light"
     },
     "output_type": "display_data"
    }
   ],
   "source": [
    "print(\"Plotting counts for Train Data\")\n",
    "sns.countplot(x = 'class', data=pd.DataFrame(data=y_train, columns=['class']))"
   ]
  },
  {
   "cell_type": "code",
   "execution_count": 27,
   "metadata": {},
   "outputs": [
    {
     "name": "stdout",
     "output_type": "stream",
     "text": [
      "Plotting counts for Validation Data\n"
     ]
    },
    {
     "data": {
      "text/plain": [
       "<AxesSubplot:xlabel='class', ylabel='count'>"
      ]
     },
     "execution_count": 27,
     "metadata": {},
     "output_type": "execute_result"
    },
    {
     "data": {
      "image/png": "[encoded data removed]",
      "text/plain": [
       "<Figure size 432x288 with 1 Axes>"
      ]
     },
     "metadata": {
      "needs_background": "light"
     },
     "output_type": "display_data"
    }
   ],
   "source": [
    "print(\"Plotting counts for Validation Data\")\n",
    "sns.countplot(x = 'class', data=pd.DataFrame(data=y_val, columns=['class']))"
   ]
  },
  {
   "cell_type": "code",
   "execution_count": 28,
   "metadata": {},
   "outputs": [
    {
     "name": "stdout",
     "output_type": "stream",
     "text": [
      "Plotting counts for Test Data\n"
     ]
    },
    {
     "data": {
      "text/plain": [
       "<AxesSubplot:xlabel='class', ylabel='count'>"
      ]
     },
     "execution_count": 28,
     "metadata": {},
     "output_type": "execute_result"
    },
    {
     "data": {
      "image/png": "[encoded data removed]",
      "text/plain": [
       "<Figure size 432x288 with 1 Axes>"
      ]
     },
     "metadata": {
      "needs_background": "light"
     },
     "output_type": "display_data"
    }
   ],
   "source": [
    "print(\"Plotting counts for Test Data\")\n",
    "sns.countplot(x = 'class', data=pd.DataFrame(data=y_test, columns=['class']))"
   ]
  },
  {
   "cell_type": "code",
   "execution_count": 29,
   "metadata": {},
   "outputs": [
    {
     "name": "stderr",
     "output_type": "stream",
     "text": [
      "C:\\Users\\user\\AppData\\Local\\Temp/ipykernel_6460/1360306577.py:16: UserWarning: Creating a tensor from a list of numpy.ndarrays is extremely slow. Please consider converting the list to a single numpy.ndarray with numpy.array() before converting to a tensor. (Triggered internally at  ..\\torch\\csrc\\utils\\tensor_new.cpp:201.)\n",
      "  train_data = TrainData(torch.FloatTensor(X_train.values.tolist()),\n"
     ]
    }
   ],
   "source": [
    "## train dataclass TrainData(Dataset):\n",
    "\n",
    "class TrainData(Dataset):\n",
    "    \n",
    "    def __init__(self, X_data, y_data):\n",
    "        self.X_data = X_data\n",
    "        self.y_data = y_data\n",
    "        \n",
    "    def __getitem__(self, index):\n",
    "        return self.X_data[index], self.y_data[index]\n",
    "        \n",
    "    def __len__ (self):\n",
    "        return len(self.X_data)\n",
    "\n",
    "\n",
    "train_data = TrainData(torch.FloatTensor(X_train.values.tolist()), \n",
    "                       torch.FloatTensor(y_train.values.tolist()))\n",
    "## test data    \n",
    "\n",
    "class TestData(Dataset):\n",
    "    \n",
    "    def __init__(self, X_data):\n",
    "        self.X_data = X_data\n",
    "        \n",
    "    def __getitem__(self, index):\n",
    "        return self.X_data[index]\n",
    "        \n",
    "    def __len__ (self):\n",
    "        return len(self.X_data)\n",
    "    \n",
    "test_data = TestData(torch.FloatTensor(X_test.values.tolist()))\n",
    "val_data = TestData(torch.FloatTensor(X_val.values.tolist()))\n"
   ]
  },
  {
   "cell_type": "code",
   "execution_count": 30,
   "metadata": {},
   "outputs": [],
   "source": [
    "import torch\n",
    "import torch.autograd as autograd\n",
    "import torch.nn as nn\n",
    "import torch.nn.functional as F\n",
    "import torch.optim as optim\n",
    "\n",
    "class BinaryClassification(nn.Module):\n",
    "    def __init__(self):\n",
    "        super(BinaryClassification, self).__init__()        # Number of input features is 600.\n",
    "        self.layer_1 = nn.Linear(600, 1024)\n",
    "        self.layer_2 = nn.Linear(1024, 512)\n",
    "        self.layer_3 = nn.Linear(512, 256)\n",
    "        self.layer_out = nn.Linear(256, 1)\n",
    "        \n",
    "        self.relu = nn.ReLU()\n",
    "        self.dropout = nn.Dropout(p=0.1)\n",
    "        self.batchnorm1 = nn.BatchNorm1d(1024)\n",
    "        self.batchnorm2 = nn.BatchNorm1d(512)\n",
    "        self.batchnorm3 = nn.BatchNorm1d(256)\n",
    "        \n",
    "    def forward(self, inputs):\n",
    "        x = self.relu(self.layer_1(inputs))\n",
    "        x = self.batchnorm1(x)\n",
    "        x = self.relu(self.layer_2(x))\n",
    "        x = self.batchnorm2(x)\n",
    "        x = self.dropout(x)\n",
    "        x = self.relu(self.layer_3(x))\n",
    "        x = self.batchnorm3(x)\n",
    "        x = self.dropout(x)\n",
    "\n",
    "        x = self.layer_out(x)\n",
    "        \n",
    "        return x\n",
    "\n",
    "class BinaryClassificationLarge(nn.Module):\n",
    "    def __init__(self):\n",
    "        super(BinaryClassificationLarge, self).__init__()        # Number of input features is 600.\n",
    "        self.layer_1 = nn.Linear(600, 2048)\n",
    "        self.layer_2 = nn.Linear(2048, 1024)\n",
    "        self.layer_3 = nn.Linear(1024, 512)\n",
    "        self.layer_4 = nn.Linear(512, 256)\n",
    "        self.layer_out = nn.Linear(256, 1)\n",
    "        \n",
    "        self.relu = nn.ReLU()\n",
    "        self.dropout = nn.Dropout(p=0.1)\n",
    "        self.batchnorm1 = nn.BatchNorm1d(2048)\n",
    "        self.batchnorm2 = nn.BatchNorm1d(1024)\n",
    "        self.batchnorm3 = nn.BatchNorm1d(512)\n",
    "        self.batchnorm4 = nn.BatchNorm1d(256)\n",
    "        \n",
    "    def forward(self, inputs):\n",
    "        x = self.relu(self.layer_1(inputs))\n",
    "        x = self.batchnorm1(x)\n",
    "        x = self.relu(self.layer_2(x))\n",
    "        x = self.batchnorm2(x)\n",
    "        x = self.dropout(x)\n",
    "        x = self.relu(self.layer_3(x))\n",
    "        x = self.dropout(x)\n",
    "        x = self.relu(self.layer_4(x))\n",
    "        x = self.batchnorm4(x)\n",
    "        x = self.dropout(x)\n",
    "\n",
    "        x = self.layer_out(x)\n",
    "        \n",
    "        return x\n",
    "\n",
    "class BinaryClassificationFat(nn.Module):\n",
    "    def __init__(self):\n",
    "        super(BinaryClassificationFat, self).__init__()        # Number of input features is 600.\n",
    "        self.layer_1 = nn.Linear(600, 4096)\n",
    "        self.layer_2 = nn.Linear(4096, 2048)\n",
    "        self.layer_out = nn.Linear(2048, 1)\n",
    "        \n",
    "        self.relu = nn.ReLU()\n",
    "        self.dropout = nn.Dropout(p=0.25)\n",
    "        self.batchnorm1 = nn.BatchNorm1d(4096)\n",
    "        self.batchnorm2 = nn.BatchNorm1d(2048)\n",
    "        \n",
    "    def forward(self, inputs):\n",
    "        x = self.relu(self.layer_1(inputs))\n",
    "        x = self.batchnorm1(x)\n",
    "        x = self.relu(self.layer_2(x))\n",
    "        x = self.batchnorm2(x)\n",
    "        x = self.dropout(x)\n",
    "\n",
    "        x = self.layer_out(x)\n",
    "        \n",
    "        return x\n",
    "\n",
    "def binary_acc(y_pred, y_test):\n",
    "    y_pred_tag = torch.round(torch.sigmoid(y_pred))\n",
    "    correct_results_sum = (y_pred_tag == y_test).sum().float()\n",
    "    acc = correct_results_sum/y_test.shape[0]\n",
    "    acc = torch.round(acc * 100)\n",
    "    return acc"
   ]
  },
  {
   "cell_type": "code",
   "execution_count": 31,
   "metadata": {},
   "outputs": [
    {
     "name": "stdout",
     "output_type": "stream",
     "text": [
      "cuda\n",
      "BinaryClassification(\n",
      "  (layer_1): Linear(in_features=600, out_features=1024, bias=True)\n",
      "  (layer_2): Linear(in_features=1024, out_features=512, bias=True)\n",
      "  (layer_3): Linear(in_features=512, out_features=256, bias=True)\n",
      "  (layer_out): Linear(in_features=256, out_features=1, bias=True)\n",
      "  (relu): ReLU()\n",
      "  (dropout): Dropout(p=0.1, inplace=False)\n",
      "  (batchnorm1): BatchNorm1d(1024, eps=1e-05, momentum=0.1, affine=True, track_running_stats=True)\n",
      "  (batchnorm2): BatchNorm1d(512, eps=1e-05, momentum=0.1, affine=True, track_running_stats=True)\n",
      "  (batchnorm3): BatchNorm1d(256, eps=1e-05, momentum=0.1, affine=True, track_running_stats=True)\n",
      ")\n",
      "Model Size:  32\n"
     ]
    }
   ],
   "source": [
    "device = torch.device(\"cuda\" if torch.cuda.is_available() else \"cpu\")\n",
    "#device = torch.device(\"cuda\")\n",
    "print(device)\n",
    "\n",
    "# Define Model\n",
    "model = BinaryClassification()\n",
    "model.cuda()\n",
    "print(model)\n",
    "print(\"Model Size: \", model.__sizeof__())"
   ]
  },
  {
   "cell_type": "code",
   "execution_count": 38,
   "metadata": {},
   "outputs": [
    {
     "name": "stdout",
     "output_type": "stream",
     "text": [
      "cuda\n",
      "Epoch 001: | Loss: 0.25638 | Acc: 89.114 | Val Acc: 0.9002507706177145\n",
      "Epoch 002: | Loss: 0.25644 | Acc: 89.143 | Val Acc: 0.9025065251538282\n",
      "Epoch 003: | Loss: 0.25476 | Acc: 89.209 | Val Acc: 0.9007586106441695\n",
      "Epoch 004: | Loss: 0.25512 | Acc: 89.180 | Val Acc: 0.8979162811937784\n",
      "Epoch 005: | Loss: 0.25352 | Acc: 89.280 | Val Acc: 0.9031285307676258\n",
      "Epoch 006: | Loss: 0.25374 | Acc: 89.251 | Val Acc: 0.9020616730376313\n",
      "Epoch 007: | Loss: 0.25198 | Acc: 89.346 | Val Acc: 0.8990894310223332\n",
      "Epoch 008: | Loss: 0.25112 | Acc: 89.376 | Val Acc: 0.8987863017042167\n",
      "Epoch 009: | Loss: 0.25121 | Acc: 89.387 | Val Acc: 0.9017427967419503\n",
      "Epoch 010: | Loss: 0.24973 | Acc: 89.448 | Val Acc: 0.9065968025762056\n",
      "Epoch 011: | Loss: 0.24961 | Acc: 89.465 | Val Acc: 0.9053094871603081\n",
      "Epoch 012: | Loss: 0.24879 | Acc: 89.499 | Val Acc: 0.9038725754575481\n",
      "Epoch 013: | Loss: 0.24873 | Acc: 89.481 | Val Acc: 0.9043686052508296\n",
      "Epoch 014: | Loss: 0.24782 | Acc: 89.540 | Val Acc: 0.9051520173846632\n",
      "Applying Early Stop\n",
      "Keeping model from epoch: 10\n"
     ]
    }
   ],
   "source": [
    "from sklearn.metrics import accuracy_score\n",
    "### Train the model\n",
    "# Model Parameters\n",
    "EPOCHS = 70\n",
    "BATCH_SIZE = 64\n",
    "LEARNING_RATE = 0.001\n",
    "EARLY_STOPPING = 5\n",
    "\n",
    "criterion = nn.BCEWithLogitsLoss()\n",
    "optimizer = optim.Adam(model.parameters(), lr=LEARNING_RATE)\n",
    "bad_progress_counter = 0\n",
    "model_epoch = 0\n",
    "best_val_acc = 0\n",
    "# Create Loaders\n",
    "train_loader = DataLoader(dataset=train_data, batch_size=BATCH_SIZE, shuffle=True)\n",
    "test_loader = DataLoader(dataset=test_data, batch_size=1)\n",
    "val_loader = DataLoader(dataset=val_data, batch_size=1)\n",
    "print(device)\n",
    "\n",
    "for e in range(1, EPOCHS+1):\n",
    "    if e > 5:\n",
    "        BATCH_SIZE = 32\n",
    "        LEARNING_RATE = 0.0005\n",
    "    elif e > 60:\n",
    "        BATCH_SIZE = 16\n",
    "    model.train()\n",
    "    epoch_loss = 0\n",
    "    epoch_acc = 0\n",
    "    for X_batch, y_batch in train_loader:\n",
    "        X_batch, y_batch = X_batch.to(device), y_batch.to(device)\n",
    "        optimizer.zero_grad()  \n",
    "        y_pred = model(X_batch)\n",
    "        \n",
    "        loss = criterion(y_pred, y_batch.unsqueeze(1))\n",
    "        acc = binary_acc(y_pred, y_batch.unsqueeze(1))\n",
    "        \n",
    "        loss.backward()\n",
    "        optimizer.step()\n",
    "        \n",
    "        epoch_loss += loss.item()\n",
    "        epoch_acc += acc.item()\n",
    "        \n",
    "    # validation\n",
    "    model.eval()\n",
    "    y_pred_list = []\n",
    "    with torch.no_grad():\n",
    "        for X_batch in val_loader:\n",
    "            X_batch = X_batch.to(device)\n",
    "            y_val_pred = model(X_batch)\n",
    "            y_val_pred = torch.sigmoid(y_val_pred)\n",
    "            y_pred_tag = torch.round(y_val_pred)\n",
    "            y_pred_list.append(y_pred_tag.cpu().numpy())\n",
    "        y_pred_list = [a.squeeze().tolist() for a in y_pred_list]\n",
    "    val_acc = accuracy_score(y_pred_list, y_val)\n",
    "    if e==1: \n",
    "        best_val_acc = val_acc\n",
    "    elif best_val_acc <= val_acc:\n",
    "        bad_progress_counter = 0\n",
    "    else:\n",
    "        bad_progress_counter +=1\n",
    "    \n",
    "    if bad_progress_counter == EARLY_STOPPING:\n",
    "        print(\"Applying Early Stop\")\n",
    "        break\n",
    "    # End of validation step\n",
    "    print(f'Epoch {e+0:03}: | Loss: {epoch_loss/len(train_loader):.5f} | Acc: {epoch_acc/len(train_loader):.3f} | Val Acc: {val_acc}')\n",
    "    if(val_acc > best_val_acc):\n",
    "        mol2vec_model = model   #Store model\n",
    "        model_epoch = e\n",
    "        best_val_acc = val_acc\n",
    "    \n",
    "print(\"Keeping model from epoch: {}\".format(model_epoch))"
   ]
  },
  {
   "cell_type": "code",
   "execution_count": 33,
   "metadata": {},
   "outputs": [
    {
     "name": "stdout",
     "output_type": "stream",
     "text": [
      "              precision    recall  f1-score   support\n",
      "\n",
      "           0       0.91      0.89      0.90    870700\n",
      "           1       0.88      0.91      0.89    797468\n",
      "\n",
      "    accuracy                           0.90   1668168\n",
      "   macro avg       0.90      0.90      0.90   1668168\n",
      "weighted avg       0.90      0.90      0.90   1668168\n",
      "\n"
     ]
    }
   ],
   "source": [
    "### Test the model\n",
    "model = mol2vec_model\n",
    "y_pred_list = []\n",
    "model.eval()\n",
    "with torch.no_grad():\n",
    "    for X_batch in test_loader:\n",
    "        X_batch = X_batch.to(device)\n",
    "        y_test_pred = model(X_batch)\n",
    "        y_test_pred = torch.sigmoid(y_test_pred)\n",
    "        y_pred_tag = torch.round(y_test_pred)\n",
    "        y_pred_list.append(y_pred_tag.cpu().numpy())\n",
    "y_pred_list = [a.squeeze().tolist() for a in y_pred_list]\n",
    "\n",
    "print(classification_report(y_test, y_pred_list))"
   ]
  },
  {
   "cell_type": "code",
   "execution_count": 34,
   "metadata": {},
   "outputs": [
    {
     "data": {
      "text/plain": [
       "<AxesSubplot:>"
      ]
     },
     "execution_count": 34,
     "metadata": {},
     "output_type": "execute_result"
    },
    {
     "data": {
      "image/png": "[encoded data removed]",
      "text/plain": [
       "<Figure size 720x504 with 2 Axes>"
      ]
     },
     "metadata": {
      "needs_background": "light"
     },
     "output_type": "display_data"
    }
   ],
   "source": [
    "cm=confusion_matrix(y_test, y_pred_list)\n",
    "plt.figure(figsize = (10,7))\n",
    "sns.heatmap(cm, annot=True)"
   ]
  },
  {
   "cell_type": "code",
   "execution_count": 6,
   "metadata": {},
   "outputs": [],
   "source": [
    "### SAVE Result Data\n",
    "# with open('drugbank_experiment_pickles/mol2vec_large2_full_results.pickle', 'wb') as handle:\n",
    "#     pickle.dump((test_pairs, y_test, y_pred_list), handle, protocol=pickle.HIGHEST_PROTOCOL)\n",
    "\n",
    "### LOAD Data from Pickles --- folder: drugbank_experiment_pickless\n",
    "with open('drugbank_experiment_pickles/mol2vec_large2_full_results.pickle', 'rb') as handle:\n",
    "    test_pairs_m, y_test_m, y_pred_list_m = pickle.load(handle)\n",
    "test_pairs, y_test, y_pred_list = test_pairs_m, y_test_m, y_pred_list_m"
   ]
  },
  {
   "cell_type": "code",
   "execution_count": 7,
   "metadata": {},
   "outputs": [
    {
     "name": "stdout",
     "output_type": "stream",
     "text": [
      "Mean Correct Degrees: 801.4563186123078\n",
      "Mean MIN Correct Degrees: 519.6601452683562\n",
      "Mean MAX Correct Degrees: 1083.252491956259\n",
      "Mean Correct Core Differences: 228.50635215016408\n",
      "Mean Correct Betweenus Centrality: 1.388185973238613e-06\n",
      "Mean False Degrees: 827.544405667865\n",
      "Mean MIN False Degrees: 518.0624328866894\n",
      "Mean MAX False Degrees: 1137.0263784490405\n",
      "Mean False Core Differences: 237.17191512208785\n",
      "Mean False Betweenus Centrality: 4.575102032375192e-06\n"
     ]
    }
   ],
   "source": [
    "from statistics import mean\n",
    "###### Compute Useful Test Results regadring Graph Properites on the Test Set's Nodes\n",
    "# test_pairs, degreeNodes, y_test, y_pred\n",
    "correct_degrees, min_correct_degrees, max_correct_degrees = [], [], []\n",
    "false_degrees, min_false_degrees, max_false_degrees = [], [], []\n",
    "correct_core_diffs, false_core_diffs = [], []\n",
    "correct_b_centrality, false_b_centrality = [], []\n",
    "pairs = test_pairs.values\n",
    "test_values = y_test.values\n",
    "for i in range(len(pairs)):\n",
    "    scid, ocid = pairs[i][0], pairs[i][1]\n",
    "    sdegree, odegree = degreeNodes[scid], degreeNodes[ocid]\n",
    "    score, ocore = core_dict[scid], core_dict[ocid]\n",
    "    if int(test_values[i]) == int(y_pred_list[i]):   # Correct decision for NN\n",
    "        correct_degrees.append(1.0*(sdegree + odegree)/2)\n",
    "        min_correct_degrees.append(min(sdegree, odegree))\n",
    "        max_correct_degrees.append(max(sdegree, odegree))\n",
    "        correct_core_diffs.append(abs(score-ocore))\n",
    "        try: # will only work if edge really exists \n",
    "            correct_b_centrality.append(edge_betweeness_centrality[(scid, ocid)] if ((scid, ocid) in edge_betweeness_centrality.keys()) else edge_betweeness_centrality[(ocid, scid)])\n",
    "        except:\n",
    "            continue\n",
    "    else:\n",
    "        false_degrees.append(1.0*(sdegree + odegree)/2)\n",
    "        min_false_degrees.append(min(sdegree, odegree))\n",
    "        max_false_degrees.append(max(sdegree, odegree))\n",
    "        false_core_diffs.append(abs(score-ocore))\n",
    "        try: # will only work if edge really exists \n",
    "            false_b_centrality.append(edge_betweeness_centrality[(scid, ocid)] if ((scid, ocid) in edge_betweeness_centrality.keys()) else edge_betweeness_centrality[(ocid, scid)])\n",
    "        except:\n",
    "            continue\n",
    "\n",
    "print(\"Mean Correct Degrees: {}\".format(mean(correct_degrees)))\n",
    "print(\"Mean MIN Correct Degrees: {}\".format(mean(min_correct_degrees)))\n",
    "print(\"Mean MAX Correct Degrees: {}\".format(mean(max_correct_degrees)))\n",
    "print(\"Mean Correct Core Differences: {}\".format(mean(correct_core_diffs)))\n",
    "print(\"Mean Correct Betweenus Centrality: {}\".format(mean(correct_b_centrality)))\n",
    "print(\"Mean False Degrees: {}\".format(mean(false_degrees)))\n",
    "print(\"Mean MIN False Degrees: {}\".format(mean(min_false_degrees)))\n",
    "print(\"Mean MAX False Degrees: {}\".format(mean(max_false_degrees)))\n",
    "print(\"Mean False Core Differences: {}\".format(mean(false_core_diffs)))\n",
    "print(\"Mean False Betweenus Centrality: {}\".format(mean(false_b_centrality)))"
   ]
  },
  {
   "cell_type": "code",
   "execution_count": 8,
   "metadata": {},
   "outputs": [
    {
     "name": "stderr",
     "output_type": "stream",
     "text": [
      "100%|██████████| 1668168/1668168 [00:13<00:00, 127239.08it/s]\n"
     ]
    }
   ],
   "source": [
    "### Prepare for Plots\n",
    "resolution = 1000\n",
    "b_centrality_limit = 3\n",
    "distribution_dict = {}\n",
    "for i in tqdm(range(len(pairs))):\n",
    "   scid, ocid = pairs[i][0], pairs[i][1]\n",
    "   sdegree, odegree = degreeNodes[scid], degreeNodes[ocid]\n",
    "   score, ocore = core_dict[scid], core_dict[ocid]\n",
    "   is_positive =  int(test_values[i])\n",
    "   correctly_identified = int(test_values[i]) == int(y_pred_list[i])\n",
    "   mean_degree = 1.0*(sdegree + odegree)/2\n",
    "   min_degree = min(sdegree, odegree)\n",
    "   max_degree = max(sdegree, odegree)\n",
    "   core_diff = abs(score-ocore)\n",
    "   try:\n",
    "      b_centrallity = 10**6*edge_betweeness_centrality[(scid, ocid)] if ((scid, ocid) in edge_betweeness_centrality.keys()) else edge_betweeness_centrality[(ocid, scid)]\n",
    "   except: \n",
    "      b_centrallity = None\n",
    "   distribution_dict[(scid, ocid)] = [is_positive, correctly_identified, mean_degree, min_degree, max_degree, core_diff, b_centrallity]\n",
    "\n",
    "distribution_df = pd.DataFrame.from_dict(data = distribution_dict, orient = 'index' , columns= ['is_positive', 'correctly_identified', 'mean_degree', 'min_degree', 'max_degree', 'core_diff', 'b_centrality'])"
   ]
  },
  {
   "cell_type": "code",
   "execution_count": 8,
   "metadata": {},
   "outputs": [
    {
     "name": "stderr",
     "output_type": "stream",
     "text": [
      "100%|██████████| 1668168/1668168 [00:12<00:00, 131874.64it/s]\n"
     ]
    },
    {
     "name": "stdout",
     "output_type": "stream",
     "text": [
      "Total Negative Correctly Identified Samples:     387254\n",
      "Total Negative Incorrectly Identified Samples:   48096\n",
      "Total Positive Correctly Identified Samples:     361154\n",
      "Total Positive Incorrectly Identified Samples:   37580\n",
      "\n",
      "B centrality plots where limited on samples with b_centrality < 3\n",
      "Total nodes with b_centrality <  3:   380881\n",
      "Total nodes with b_centrality >= 3:   17853\n",
      "\n",
      "KL Divergence Results\n",
      "KL Divergence between distributions from Classifier choices\n",
      "---mean_degree ~ KL(Correct | False): 0.28905432867637165\n",
      "---mean_degree ~ KL(False | Correct): 0.17764438627751333\n",
      "---min_degree ~ KL(Correct | False): 0.3608011963433506\n",
      "---min_degree ~ KL(False | Correct): 0.30323878090056133\n",
      "---max_degree ~ KL(Correct | False): 0.22150053180377605\n",
      "---max_degree ~ KL(False | Correct): 0.13355018137036834\n",
      "---core_diff ~ KL(Correct | False): 0.2515681254522361\n",
      "---core_diff ~ KL(False | Correct): 0.2000683739477416\n",
      "---b_centrality ~ KL(Correct | False): 0.2232737016246336\n",
      "---b_centrality ~ KL(False | Correct): 0.13493512273210898\n",
      "Total approved Drugs in Test Samples:  714148 --- Model Accuracy 0.8918319451990344\n",
      "\t\tapproved Drugs in Positive Interactions: 361738    Accuracy:0.9087267580403496\n",
      "\t\tapproved Drugs in Negative Interactions: 352410    Accuracy:0.8744899406940779\n",
      "Total investigational Drugs in Test Samples:  210424 --- Model Accuracy 0.9101480819678364\n",
      "\t\tinvestigational Drugs in Positive Interactions: 68959    Accuracy:0.8765788367000682\n",
      "\t\tinvestigational Drugs in Negative Interactions: 141465    Accuracy:0.9265118580567632\n",
      "Total experimental Drugs in Test Samples:  298199 --- Model Accuracy 0.9132760337895164\n",
      "\t\texperimental Drugs in Positive Interactions: 118697    Accuracy:0.9109244547039942\n",
      "\t\texperimental Drugs in Negative Interactions: 179502    Accuracy:0.9148310325233145\n",
      "Total illicit Drugs in Test Samples:  7133 --- Model Accuracy 0.92008972381887\n",
      "\t\tillicit Drugs in Positive Interactions: 3834    Accuracy:0.9486176317162233\n",
      "\t\tillicit Drugs in Negative Interactions: 3299    Accuracy:0.886935434980297\n",
      "Total vet_approved Drugs in Test Samples:  22671 --- Model Accuracy 0.9247055709937806\n",
      "\t\tvet_approved Drugs in Positive Interactions: 7575    Accuracy:0.9066666666666666\n",
      "\t\tvet_approved Drugs in Negative Interactions: 15096    Accuracy:0.9337572866984631\n",
      "Total withdrawn Drugs in Test Samples:  21496 --- Model Accuracy 0.9030982508373651\n",
      "\t\twithdrawn Drugs in Positive Interactions: 12971    Accuracy:0.9410222804718218\n",
      "\t\twithdrawn Drugs in Negative Interactions: 8525    Accuracy:0.8453958944281524\n",
      "Total nutraceutical Drugs in Test Samples:  2592 --- Model Accuracy 0.9155092592592593\n",
      "\t\tnutraceutical Drugs in Positive Interactions: 484    Accuracy:0.7169421487603306\n",
      "\t\tnutraceutical Drugs in Negative Interactions: 2108    Accuracy:0.961100569259962\n"
     ]
    }
   ],
   "source": [
    "### Define parameters for results plots file save\n",
    "resultsPath = \"result_plots/large_drugbank_results/mol2vec/large_nn/\"   ### CHANGE THIS FOR EVERY EXPERIMENT\n",
    "metrics_dict = {\"mean_degree\":\"Mean Degree\", \"min_degree\":\"Min Degree\", \"max_degree\":\"Max Degree\", \"core_diff\":\"Core Difference\", \"b_centrality\":\"Betweenness Centrality\"}\n",
    "\n",
    "### Plot Group A: Histogram grouped by categories in same plot\n",
    "for x_axis_variable in ['mean_degree', 'min_degree', 'max_degree', 'core_diff', 'b_centrality']:\n",
    "\n",
    "    x1 = distribution_df[x_axis_variable][(distribution_df.is_positive==0) & (distribution_df.correctly_identified==True)]\n",
    "    x2 = distribution_df[x_axis_variable][(distribution_df.is_positive==0) & (distribution_df.correctly_identified==False)]\n",
    "    x3 = distribution_df[x_axis_variable][(distribution_df.is_positive==1) & (distribution_df.correctly_identified==True)]\n",
    "    x4 = distribution_df[x_axis_variable][(distribution_df.is_positive==1) & (distribution_df.correctly_identified==False)]\n",
    "\n",
    "    kwargs = dict(alpha=0.5, bins=100, density=False, stacked=True)\n",
    "    if x_axis_variable != \"b_centrality\":\n",
    "        plt.hist(x1, **kwargs, color='g', label='Negative Correctly Identified')\n",
    "        plt.hist(x2, **kwargs, color='b', label='Negative Incorrectly Identified')\n",
    "    else:\n",
    "        x3 = x3[x3.between(0,b_centrality_limit)]\n",
    "        x4 = x4[x4.between(0,b_centrality_limit)]\n",
    "    plt.hist(x3, **kwargs, color='r', label='Positive Correctly Identified')\n",
    "    plt.hist(x4, **kwargs, color='c', label='Positive Incorrectly Identified')\n",
    "    plt.gca().set(title=\"Frequency Histogram of Classifier's predictions\", ylabel='Frequency', xlabel = metrics_dict[x_axis_variable])\n",
    "    # plt.xlim(50,75)\n",
    "    plt.legend()\n",
    "    imageName = \"groupA_Frequency Histogram of Classifier's predictions_\" + x_axis_variable\n",
    "    plt.savefig(resultsPath + imageName +'.png', dpi=resolution, bbox_inches='tight')\n",
    "    plt.close()\n",
    "\n",
    "### Plot Group AX: Density grouped by categories in same plot\n",
    "for x_axis_variable in ['mean_degree', 'min_degree', 'max_degree', 'core_diff', 'b_centrality']:\n",
    "\n",
    "    x1 = distribution_df[x_axis_variable][(distribution_df.is_positive==0) & (distribution_df.correctly_identified==True)]\n",
    "    x2 = distribution_df[x_axis_variable][(distribution_df.is_positive==0) & (distribution_df.correctly_identified==False)]\n",
    "    x3 = distribution_df[x_axis_variable][(distribution_df.is_positive==1) & (distribution_df.correctly_identified==True)]\n",
    "    x4 = distribution_df[x_axis_variable][(distribution_df.is_positive==1) & (distribution_df.correctly_identified==False)]\n",
    "\n",
    "    # Normalize\n",
    "    kwargs = dict(alpha=0.5, bins=100, density=True, stacked=True)\n",
    "    if x_axis_variable != \"b_centrality\":\n",
    "        plt.hist(x1, **kwargs, color='g', label='Negative Correctly Identified')\n",
    "        plt.hist(x2, **kwargs, color='b', label='Negative Incorrectly Identified')\n",
    "    else:\n",
    "        x3 = x3[x3.between(0,b_centrality_limit)]\n",
    "        x4 = x4[x4.between(0,b_centrality_limit)]\n",
    "    plt.hist(x3, **kwargs, color='r', label='Positive Correctly Identified')\n",
    "    plt.hist(x4, **kwargs, color='c', label='Positive Incorrectly Identified')\n",
    "    plt.gca().set(title=\"Density Histogram of Classifier's predictions\", ylabel='Density', xlabel = metrics_dict[x_axis_variable])\n",
    "    # plt.xlim(50,75)\n",
    "    plt.legend()\n",
    "    imageName = \"groupAX_Density Histogram of Classifier's predictions_\" + x_axis_variable\n",
    "    plt.savefig(resultsPath + imageName +'.png', dpi=resolution, bbox_inches='tight')\n",
    "    plt.close()\n",
    "\n",
    "   \n",
    "### Plot Group B: Density grouped by categories in separate subplots\n",
    "\n",
    "param_list = []\n",
    "for pos in [0,1]:\n",
    "    for corr in [True, False]:\n",
    "        param_list.append((distribution_df.is_positive==pos) & (distribution_df.correctly_identified==corr))\n",
    "titles = ['Negative Correctly Identified', 'Negative Incorrectly Identified', 'Positive Correctly Identified', 'Positive Incorrectly Identified']\n",
    "colors = ['tab:green', 'tab:blue', 'tab:red', 'tab:cyan']\n",
    "for selector in ['mean_degree', 'min_degree', 'max_degree', 'core_diff']:\n",
    "    fig, axes = plt.subplots(1, 4, figsize=(15,2.5), dpi=resolution, sharex=True, sharey=True)\n",
    "    for i, (ax, param) in enumerate(zip(axes.flatten(), param_list)):\n",
    "        x = distribution_df[selector][param]\n",
    "        ax.hist(x, alpha=0.5, bins=100, density=True, stacked=True, label=str(titles[i]), color=colors[i])\n",
    "        ax.set_title(titles[i])\n",
    "        ax.set_ylabel = \"Density\"\n",
    "        ax.set_xlabel = selector\n",
    "    plt.suptitle('Classifier Predictions: Density of {}'.format(metrics_dict[selector]), y=1)\n",
    "    plt.tight_layout()\n",
    "    imageName = \"groupB_Density Histogram of Classifier's predictions_\" + selector\n",
    "    plt.savefig(resultsPath + imageName +'.png', dpi=resolution, bbox_inches='tight')\n",
    "    plt.close()\n",
    "\n",
    "############# Repeat for Distributions that recognize only positive edges\n",
    "param_list = []\n",
    "for pos in [1]:\n",
    "    for corr in [True, False]:\n",
    "        param_list.append((distribution_df.is_positive==pos) & (distribution_df.correctly_identified==corr))\n",
    "titles = ['Positive Correctly Identified', 'Positive Incorrectly Identified']\n",
    "\n",
    "for selector in ['b_centrality']:\n",
    "    fig, axes = plt.subplots(1, 2, figsize=(15,2.5), dpi=resolution, sharex=True, sharey=True)\n",
    "    for i, (ax, param) in enumerate(zip(axes.flatten(), param_list)):\n",
    "        x = distribution_df[selector][param]\n",
    "        x = x[x.between(0,b_centrality_limit)]\n",
    "\n",
    "        ax.hist(x, alpha=0.5, bins=100, density=True, stacked=True, label=str(titles[i]), color=colors[i])\n",
    "        ax.set_title(titles[i])\n",
    "        ax.set_ylabel = \"Density\"\n",
    "        ax.set_xlabel = selector\n",
    "    plt.suptitle('Classifier Predictions: Density of {}'.format(metrics_dict[selector]), y=1)\n",
    "    plt.tight_layout()\n",
    "    imageName = \"groupB_Density Histogram of Classifier's predictions_\" + selector\n",
    "    plt.savefig(resultsPath + imageName +'.png', dpi=resolution, bbox_inches='tight')\n",
    "    plt.close()\n",
    "\n",
    "### Plot Group C: KDE \n",
    "titles = ['Negative Correctly Identified', 'Negative Incorrectly Identified', 'Positive Correctly Identified', 'Positive Incorrectly Identified']\n",
    "\n",
    "for selector in ['mean_degree', 'min_degree', 'max_degree', 'core_diff']:\n",
    "    dv_list = []\n",
    "    i=0\n",
    "    for pos in [0,1]:\n",
    "        for corr in [True, False]:\n",
    "            dv = distribution_df[selector][(distribution_df.is_positive==pos) & (distribution_df.correctly_identified==corr)].value_counts()\n",
    "            #dv = dv/dv.sum()\n",
    "            dv = dv.rename(titles[i]+ \" -  \" + selector)\n",
    "            i += 1\n",
    "            dv = dv.sort_index()\n",
    "            dv_list.append(dv)\n",
    "\n",
    "    dist_df = pd.concat(dv_list, axis=1)\n",
    "    dist_df = pd.concat(dv_list, axis=1).fillna(0)\n",
    "    kwargs = dict(title=\"Kernel Density Estimate for Classifier's Predictions: {}\".format(metrics_dict[selector]), color=colors)\n",
    "    figSrc = dist_df.plot.kde(**kwargs, bw_method=0.03)\n",
    "    fig = figSrc.get_figure()\n",
    "    imageName = \"groupC_KDE of Classifier's predictions_\" + selector\n",
    "    fig.savefig(resultsPath + imageName + \".png\", dpi=resolution, bbox_inches='tight')\n",
    "    plt.close(fig)\n",
    "    \n",
    "    \n",
    "    \n",
    "\n",
    "############# Repeat for Distributions that recognize only positive edges\n",
    "for selector in ['b_centrality']:\n",
    "    dv_list = []\n",
    "    i=2\n",
    "    for pos in [1]:\n",
    "        for corr in [True, False]:\n",
    "            x = distribution_df[selector][(distribution_df.is_positive==pos) & (distribution_df.correctly_identified==corr)]\n",
    "            x = x[x.between(0,b_centrality_limit)]\n",
    "            dv = x.value_counts()\n",
    "            #dv = dv/dv.sum()\n",
    "            dv = dv.rename(titles[i]+ \" -  \" + selector)\n",
    "            i += 1\n",
    "            dv = dv.sort_index()\n",
    "            dv_list.append(dv)\n",
    "    dist_df = pd.concat(dv_list, axis=1)\n",
    "    dist_df = pd.concat(dv_list, axis=1).fillna(0)\n",
    "    kwargs = dict(title=\"Kernel Density Estimate for Classifier's Predictions: {}\".format(metrics_dict[selector]), color=colors)\n",
    "    figSrc = dist_df.plot.kde(**kwargs)\n",
    "    fig = figSrc.get_figure()\n",
    "    imageName = \"groupC_KDE of Classifier's predictions_\" + selector\n",
    "    fig.savefig(resultsPath + imageName + \".png\", dpi=resolution, bbox_inches='tight')\n",
    "    plt.close(fig)\n",
    "\n",
    "### Compute Stats\n",
    "print(\"Total Negative Correctly Identified Samples:     {}\".format(distribution_df[(distribution_df.is_positive==0) & (distribution_df.correctly_identified==True)].shape[0]))\n",
    "print(\"Total Negative Incorrectly Identified Samples:   {}\".format(distribution_df[(distribution_df.is_positive==0) & (distribution_df.correctly_identified==False)].shape[0]))\n",
    "print(\"Total Positive Correctly Identified Samples:     {}\".format(distribution_df[(distribution_df.is_positive==1) & (distribution_df.correctly_identified==True)].shape[0]))\n",
    "print(\"Total Positive Incorrectly Identified Samples:   {}\".format(distribution_df[(distribution_df.is_positive==1) & (distribution_df.correctly_identified==False)].shape[0]))\n",
    "\n",
    "#### B-centrality-stats\n",
    "print(\"\\nB centrality plots where limited on samples with b_centrality < {}\".format(b_centrality_limit))\n",
    "print(\"Total nodes with b_centrality <  {}:   {}\".format(b_centrality_limit, distribution_df[(distribution_df.b_centrality < b_centrality_limit)].shape[0]))\n",
    "print(\"Total nodes with b_centrality >= {}:   {}\".format(b_centrality_limit, distribution_df[(distribution_df.b_centrality >= b_centrality_limit)].shape[0]))\n",
    "\n",
    "\n",
    "print(\"\\nKL Divergence Results\")\n",
    "### KL Divergence Computation\n",
    "print(\"KL Divergence between distributions from Classifier choices\")\n",
    "kl_list = []\n",
    "for index, selector in enumerate(['mean_degree', 'min_degree', 'max_degree', 'core_diff', 'b_centrality']):\n",
    "    print(\"---\" + selector + \" ~ KL(Correct | False): {}\"\\\n",
    "        .format(KL(distribution_df[distribution_df.correctly_identified==True][selector], distribution_df[distribution_df.correctly_identified==False][selector])))\n",
    "    print(\"---\" + selector + \" ~ KL(False | Correct): {}\"\\\n",
    "        .format(KL(distribution_df[distribution_df.correctly_identified==False][selector], distribution_df[distribution_df.correctly_identified==True][selector])))\n",
    "\n",
    "####### Evaluate Model's Predictions on Drug Groups\n",
    "distribution_df['sgroup'] = distribution_df.index.map(lambda x: groups_dict[x[0]])\n",
    "distribution_df['ogroup'] =distribution_df.index.map(lambda x: groups_dict[x[1]])\n",
    "\n",
    "# Print (ordered) Accuracy and total samples for each category (when at least one drug on the interaction belongs to a category)\n",
    "group_names = ['approved', 'investigational', 'experimental', 'illicit', 'vet_approved', 'withdrawn', 'nutraceutical']\n",
    "\n",
    "for name in group_names:\n",
    "    temp_df = distribution_df[(distribution_df.sgroup==name) | (distribution_df.ogroup==name)]\n",
    "    accuracy = temp_df[temp_df.correctly_identified==True].shape[0] / temp_df.shape[0]\n",
    "    neg_samples = temp_df[((temp_df.sgroup==name) | (temp_df.ogroup==name)) & (temp_df.is_positive==0)].shape[0]\n",
    "    positive_samples = temp_df[((temp_df.sgroup==name) | (temp_df.ogroup==name)) & (temp_df.is_positive==1)].shape[0]\n",
    "    neg_acc =  temp_df[(temp_df.correctly_identified==True) & (temp_df.is_positive==0)].shape[0] / neg_samples\n",
    "    pos_acc =  temp_df[(temp_df.correctly_identified==True) & (temp_df.is_positive==1)].shape[0] / positive_samples\n",
    "    print(\"Total {} Drugs in Test Samples:  {} --- Model Accuracy {}\".format(name, temp_df.shape[0], accuracy))\n",
    "    print(\"\\t\\t{} Drugs in Positive Interactions: {}    Accuracy:{}\".format(name, positive_samples, pos_acc))\n",
    "    print(\"\\t\\t{} Drugs in Negative Interactions: {}    Accuracy:{}\".format(name, neg_samples, neg_acc))"
   ]
  },
  {
   "cell_type": "code",
   "execution_count": 20,
   "metadata": {},
   "outputs": [
    {
     "name": "stdout",
     "output_type": "stream",
     "text": [
      "Node2Vec Experiment b_centrality: 950.2148558947254\n"
     ]
    },
    {
     "name": "stderr",
     "output_type": "stream",
     "text": [
      "100%|██████████| 9504/9504 [39:22<00:00,  4.02it/s]  \n"
     ]
    }
   ],
   "source": [
    "#### Model Accuracy for pairs with min_degree < N\n",
    "N = distribution_df.max_degree.max()\n",
    "print(\"Node2Vec Experiment Min Degree: {}\".format(N))\n",
    "mol2vec_min_degree_recall_list = []\n",
    "mol2vec_min_degree_accuracy_list = []\n",
    "for n in tqdm(range(1,N+1)):\n",
    "    lddf = distribution_df[distribution_df.min_degree <= n] #low degree df\n",
    "    total_samples, correct, false, pos, neg = lddf.shape[0], lddf[lddf.correctly_identified == True].shape[0], lddf[lddf.correctly_identified == False].shape[0], lddf[lddf.is_positive == 1].shape[0], lddf[lddf.is_positive == 0].shape[0]\n",
    "    mol2vec_min_degree_recall_list.append(100.0*lddf[(lddf.is_positive == 1) & (lddf.correctly_identified == True)].shape[0] / lddf[lddf.is_positive == 1].shape[0])\n",
    "    mol2vec_min_degree_accuracy_list.append(100.0*correct/(correct + false))\n",
    "\n",
    "N = distribution_df.max_degree.max()\n",
    "print(\"Node2Vec Experiment Mean Degree: {}\".format(N))\n",
    "mol2vec_mean_degree_recall_list = []\n",
    "mol2vec_mean_degree_accuracy_list = []\n",
    "for n in tqdm(range(6,N+1)):\n",
    "    lddf = distribution_df[distribution_df.mean_degree <= n] #low degree df\n",
    "    total_samples, correct, false, pos, neg = lddf.shape[0], lddf[lddf.correctly_identified == True].shape[0], lddf[lddf.correctly_identified == False].shape[0], lddf[lddf.is_positive == 1].shape[0], lddf[lddf.is_positive == 0].shape[0]\n",
    "    mol2vec_mean_degree_recall_list.append(100.0*lddf[(lddf.is_positive == 1) & (lddf.correctly_identified == True)].shape[0] / lddf[lddf.is_positive == 1].shape[0])\n",
    "    mol2vec_mean_degree_accuracy_list.append(100.0*correct/(correct + false))\n",
    "\n",
    "N = distribution_df.max_degree.max()\n",
    "print(\"Node2Vec Experiment Max Degree: {}\".format(N))\n",
    "mol2vec_max_degree_recall_list = []\n",
    "mol2vec_max_degree_accuracy_list = []\n",
    "for n in tqdm(range(11,N+1)):\n",
    "    lddf = distribution_df[distribution_df.max_degree <= n] #low degree df\n",
    "    total_samples, correct, false, pos, neg = lddf.shape[0], lddf[lddf.correctly_identified == True].shape[0], lddf[lddf.correctly_identified == False].shape[0], lddf[lddf.is_positive == 1].shape[0], lddf[lddf.is_positive == 0].shape[0]\n",
    "    mol2vec_max_degree_recall_list.append(100.0*lddf[(lddf.is_positive == 1) & (lddf.correctly_identified == True)].shape[0] / lddf[lddf.is_positive == 1].shape[0])\n",
    "    mol2vec_max_degree_accuracy_list.append(100.0*correct/(correct + false))\n",
    "\n",
    "C = distribution_df.core_diff.max()\n",
    "mol2vec_core_diff_recall_list = []\n",
    "mol2vec_core_diff_accuracy_list = []\n",
    "print(\"Node2Vec Experiment Max Core Difference: {}\".format(C))\n",
    "for c in tqdm(range(0,C+1)):\n",
    "    lddf = distribution_df[distribution_df.core_diff <= c] #low degree df\n",
    "    total_samples, correct, false, pos, neg = lddf.shape[0], lddf[lddf.correctly_identified == True].shape[0], lddf[lddf.correctly_identified == False].shape[0], lddf[lddf.is_positive == 1].shape[0], lddf[lddf.is_positive == 0].shape[0]\n",
    "    mol2vec_core_diff_recall_list.append(100.0*lddf[(lddf.is_positive == 1) & (lddf.correctly_identified == True)].shape[0] / lddf[lddf.is_positive == 1].shape[0])\n",
    "    mol2vec_core_diff_accuracy_list.append(100.0*correct/(correct + false))\n",
    "\n",
    "B = distribution_df.b_centrality.max()\n",
    "mol2vec_b_centrality_recall_list = []\n",
    "mol2vec_b_centrality_accuracy_list = []\n",
    "print(\"Node2Vec Experiment b_centrality: {}\".format(B))\n",
    "for c in tqdm(np.arange(0.01,B+0.1, 0.1)):\n",
    "    lddf = distribution_df[distribution_df.b_centrality <= c] #low degree df\n",
    "    total_samples, correct, false, pos, neg = lddf.shape[0], lddf[lddf.correctly_identified == True].shape[0], lddf[lddf.correctly_identified == False].shape[0], lddf[lddf.is_positive == 1].shape[0], lddf[lddf.is_positive == 0].shape[0]\n",
    "    mol2vec_b_centrality_recall_list.append(100.0*lddf[(lddf.is_positive == 1) & (lddf.correctly_identified == True)].shape[0] / lddf[lddf.is_positive == 1].shape[0])\n",
    "    mol2vec_b_centrality_accuracy_list.append(100.0*correct/(correct + false))"
   ]
  },
  {
   "cell_type": "code",
   "execution_count": 21,
   "metadata": {},
   "outputs": [],
   "source": [
    "### Save distribution_df for mol2vec\n",
    "m2v_distribution_df = distribution_df"
   ]
  },
  {
   "cell_type": "code",
   "execution_count": 4,
   "metadata": {},
   "outputs": [
    {
     "name": "stdout",
     "output_type": "stream",
     "text": [
      "cuda\n"
     ]
    }
   ],
   "source": [
    "import numpy as np\n",
    "import pandas as pd\n",
    "import seaborn as sns\n",
    "import matplotlib.pyplot as plt\n",
    "\n",
    "import torch\n",
    "import torch.nn as nn\n",
    "import torch.optim as optim\n",
    "from torch.utils.data import Dataset, DataLoader\n",
    "\n",
    "from sklearn.preprocessing import StandardScaler    \n",
    "from sklearn.metrics import accuracy_score\n",
    "from sklearn.model_selection import train_test_split\n",
    "from sklearn.metrics import confusion_matrix, classification_report\n",
    "device = torch.device(\"cuda\" if torch.cuda.is_available() else \"cpu\")\n",
    "#device = torch.device(\"cuda\")\n",
    "print(device)"
   ]
  },
  {
   "cell_type": "code",
   "execution_count": 5,
   "metadata": {},
   "outputs": [
    {
     "name": "stdout",
     "output_type": "stream",
     "text": [
      "Creating graph for relation: Interactions --- Nodes: 3753, Edges: 1207953\n",
      "Size of connected components\n",
      "#Connected components 1\n"
     ]
    },
    {
     "data": {
      "image/png": "[encoded data removed]",
      "text/plain": [
       "<Figure size 432x288 with 1 Axes>"
      ]
     },
     "metadata": {
      "needs_background": "light"
     },
     "output_type": "display_data"
    },
    {
     "data": {
      "image/png": "[encoded data removed]",
      "text/plain": [
       "<Figure size 432x288 with 1 Axes>"
      ]
     },
     "metadata": {
      "needs_background": "light"
     },
     "output_type": "display_data"
    },
    {
     "name": "stderr",
     "output_type": "stream",
     "text": [
      "C:\\Users\\user\\AppData\\Local\\Temp/ipykernel_21788/3391246012.py:43: RuntimeWarning: divide by zero encountered in log10\n",
      "  plt.plot((np.arange(1,len(hg)+1)),sorted(np.log10(hg),reverse=True),'.')\n"
     ]
    },
    {
     "data": {
      "image/png": "[encoded data removed]",
      "text/plain": [
       "<Figure size 432x288 with 1 Axes>"
      ]
     },
     "metadata": {
      "needs_background": "light"
     },
     "output_type": "display_data"
    }
   ],
   "source": [
    "###################### GRAPH EMBEDDING EXPERIMENT ##########################\n",
    "import networkx as nx\n",
    "#cid_list = list(set(phsu_interacts_df.snode_cid.unique()).union(phsu_interacts_df.onode_cid.unique()))\n",
    "nodes_df = valid_interactions.SDID.unique()\n",
    "edges_df = valid_interactions[['SDID','ODID']]\n",
    "\n",
    "interactions_graph=nx.from_pandas_edgelist(edges_df, \"SDID\", \"ODID\")\n",
    "print(\"Creating graph for relation: Interactions --- Nodes: {}, Edges: {}\".format(len(interactions_graph.nodes()), len(interactions_graph.edges())))\n",
    "\n",
    "######## Study the Graph\n",
    "\n",
    "#print the conneted components\n",
    "print ('Size of connected components')\n",
    "comp=list(nx.connected_components(interactions_graph))\n",
    "print ('#Connected components', nx.number_connected_components(interactions_graph))\n",
    "\n",
    "#degree centrality\n",
    "degreeNodes=dict(nx.degree(interactions_graph))\n",
    "\n",
    "# core degrees of Nodes\n",
    "temp_graph = nx.Graph.copy(interactions_graph)\n",
    "temp_graph.remove_edges_from(nx.selfloop_edges(temp_graph))\n",
    "core_dict = nx.algorithms.core.core_number(temp_graph)\n",
    "\n",
    "# edge betweeness centrality --- Loaded from pickle\n",
    "# edge_betweeness_centrality = nx.algorithms.centrality.edge_betweenness_centrality(interactions_graph)\n",
    "\n",
    "# a histogram\n",
    "hg=nx.degree_histogram(interactions_graph)\n",
    "plt.plot(sorted(hg,reverse=True),'.')\n",
    "plt.xlabel('node degrees')\n",
    "plt.ylabel('Number of nodes')\n",
    "plt.show()\n",
    "\n",
    "numberOfNodes = np.sum(hg)\n",
    "hg=nx.degree_histogram(interactions_graph)\n",
    "plt.plot(sorted(hg,reverse=True)/numberOfNodes,'.')\n",
    "plt.xlabel('node degrees')\n",
    "plt.ylabel('Percentage of Nodes')\n",
    "plt.show()\n",
    "\n",
    "hg=nx.degree_histogram(interactions_graph)\n",
    "plt.plot((np.arange(1,len(hg)+1)),sorted(np.log10(hg),reverse=True),'.')\n",
    "plt.xlabel('node degrees')\n",
    "plt.ylabel('Number of nodes (log scale)')\n",
    "plt.show()\n",
    "\n"
   ]
  },
  {
   "cell_type": "code",
   "execution_count": 44,
   "metadata": {},
   "outputs": [
    {
     "data": {
      "text/plain": [
       "5"
      ]
     },
     "execution_count": 44,
     "metadata": {},
     "output_type": "execute_result"
    }
   ],
   "source": [
    "nx.diameter(interactions_graph)"
   ]
  },
  {
   "cell_type": "code",
   "execution_count": 45,
   "metadata": {},
   "outputs": [
    {
     "name": "stdout",
     "output_type": "stream",
     "text": [
      "All edges: 1207953\n"
     ]
    },
    {
     "name": "stderr",
     "output_type": "stream",
     "text": [
      "C:\\Users\\user\\AppData\\Local\\Temp/ipykernel_15732/1991475543.py:6: DeprecationWarning: Sampling from a set deprecated\n",
      "since Python 3.9 and will be removed in a subsequent version.\n",
      "  to_remove=sample(interactions_graph.edges(),k=floor(REMOVE_FACTOR*len(interactions_graph.edges()))) #removing of edges\n"
     ]
    },
    {
     "name": "stdout",
     "output_type": "stream",
     "text": [
      "Total edges after removing random samples: 12080\n"
     ]
    }
   ],
   "source": [
    "### Randomly remove edges\n",
    "from random import sample\n",
    "from math import floor\n",
    "REMOVE_FACTOR = 0.99\n",
    "print(\"All edges: {}\".format(len(interactions_graph.edges())))\n",
    "to_remove=sample(interactions_graph.edges(),k=floor(REMOVE_FACTOR*len(interactions_graph.edges()))) #removing of edges\n",
    "interactions_graph_filtered = interactions_graph.copy()\n",
    "interactions_graph_filtered.remove_edges_from(to_remove)\n",
    "print(\"Total edges after removing random samples: {}\".format(len(interactions_graph_filtered.edges())))\n",
    "# print(G.edges())\n",
    "removed_set = set(to_remove)"
   ]
  },
  {
   "cell_type": "code",
   "execution_count": 46,
   "metadata": {},
   "outputs": [
    {
     "name": "stdout",
     "output_type": "stream",
     "text": [
      "Size of connected components\n",
      "#Connected components 799\n"
     ]
    },
    {
     "data": {
      "image/png": "[encoded data removed]",
      "text/plain": [
       "<Figure size 432x288 with 1 Axes>"
      ]
     },
     "metadata": {
      "needs_background": "light"
     },
     "output_type": "display_data"
    },
    {
     "data": {
      "image/png": "[encoded data removed]",
      "text/plain": [
       "<Figure size 432x288 with 1 Axes>"
      ]
     },
     "metadata": {
      "needs_background": "light"
     },
     "output_type": "display_data"
    },
    {
     "name": "stderr",
     "output_type": "stream",
     "text": [
      "C:\\Users\\user\\AppData\\Local\\Temp/ipykernel_15732/1898195536.py:31: RuntimeWarning: divide by zero encountered in log10\n",
      "  plt.plot((np.arange(1,len(hg)+1)),sorted(np.log10(hg),reverse=True),'.')\n"
     ]
    },
    {
     "data": {
      "image/png": "[encoded data removed]",
      "text/plain": [
       "<Figure size 432x288 with 1 Axes>"
      ]
     },
     "metadata": {
      "needs_background": "light"
     },
     "output_type": "display_data"
    }
   ],
   "source": [
    "######## Study the Filtered Graph\n",
    "\n",
    "#print the conneted components\n",
    "print ('Size of connected components')\n",
    "comp=list(nx.connected_components(interactions_graph_filtered))\n",
    "print ('#Connected components', nx.number_connected_components(interactions_graph_filtered))\n",
    "\n",
    "#degree centrality\n",
    "degreeNodesFiltered=dict(nx.degree(interactions_graph_filtered))\n",
    "\n",
    "# core degrees of Nodes\n",
    "temp_graph = nx.Graph.copy(interactions_graph_filtered)\n",
    "temp_graph.remove_edges_from(nx.selfloop_edges(temp_graph))\n",
    "core_dictFiltered = nx.algorithms.core.core_number(temp_graph)\n",
    "\n",
    "# a histogram\n",
    "hg=nx.degree_histogram(interactions_graph_filtered)\n",
    "plt.plot(sorted(hg,reverse=True),'.')\n",
    "plt.xlabel('node degrees')\n",
    "plt.ylabel('Number of nodes')\n",
    "plt.show()\n",
    "\n",
    "numberOfNodes = np.sum(hg)\n",
    "hg=nx.degree_histogram(interactions_graph_filtered)\n",
    "plt.plot(sorted(hg,reverse=True)/numberOfNodes,'.')\n",
    "plt.xlabel('node degrees')\n",
    "plt.ylabel('Percentage of Nodes')\n",
    "plt.show()\n",
    "\n",
    "hg=nx.degree_histogram(interactions_graph_filtered)\n",
    "plt.plot((np.arange(1,len(hg)+1)),sorted(np.log10(hg),reverse=True),'.')\n",
    "plt.xlabel('node degrees')\n",
    "plt.ylabel('Number of nodes (log scale)')\n",
    "plt.show()\n"
   ]
  },
  {
   "cell_type": "code",
   "execution_count": 47,
   "metadata": {},
   "outputs": [
    {
     "ename": "NetworkXError",
     "evalue": "Found infinite path length because the graph is not connected",
     "output_type": "error",
     "traceback": [
      "\u001b[1;31m---------------------------------------------------------------------------\u001b[0m",
      "\u001b[1;31mNetworkXError\u001b[0m                             Traceback (most recent call last)",
      "\u001b[1;32m~\\AppData\\Local\\Temp/ipykernel_15732/1433821079.py\u001b[0m in \u001b[0;36m<module>\u001b[1;34m\u001b[0m\n\u001b[1;32m----> 1\u001b[1;33m \u001b[0mnx\u001b[0m\u001b[1;33m.\u001b[0m\u001b[0mdiameter\u001b[0m\u001b[1;33m(\u001b[0m\u001b[0minteractions_graph_filtered\u001b[0m\u001b[1;33m)\u001b[0m\u001b[1;33m\u001b[0m\u001b[1;33m\u001b[0m\u001b[0m\n\u001b[0m",
      "\u001b[1;32mc:\\Users\\user\\anaconda3\\envs\\tf_rdkit_gpu\\lib\\site-packages\\networkx\\algorithms\\distance_measures.py\u001b[0m in \u001b[0;36mdiameter\u001b[1;34m(G, e, usebounds)\u001b[0m\n\u001b[0;32m    297\u001b[0m         \u001b[1;32mreturn\u001b[0m \u001b[0mextrema_bounding\u001b[0m\u001b[1;33m(\u001b[0m\u001b[0mG\u001b[0m\u001b[1;33m,\u001b[0m \u001b[0mcompute\u001b[0m\u001b[1;33m=\u001b[0m\u001b[1;34m\"diameter\"\u001b[0m\u001b[1;33m)\u001b[0m\u001b[1;33m\u001b[0m\u001b[1;33m\u001b[0m\u001b[0m\n\u001b[0;32m    298\u001b[0m     \u001b[1;32mif\u001b[0m \u001b[0me\u001b[0m \u001b[1;32mis\u001b[0m \u001b[1;32mNone\u001b[0m\u001b[1;33m:\u001b[0m\u001b[1;33m\u001b[0m\u001b[1;33m\u001b[0m\u001b[0m\n\u001b[1;32m--> 299\u001b[1;33m         \u001b[0me\u001b[0m \u001b[1;33m=\u001b[0m \u001b[0meccentricity\u001b[0m\u001b[1;33m(\u001b[0m\u001b[0mG\u001b[0m\u001b[1;33m)\u001b[0m\u001b[1;33m\u001b[0m\u001b[1;33m\u001b[0m\u001b[0m\n\u001b[0m\u001b[0;32m    300\u001b[0m     \u001b[1;32mreturn\u001b[0m \u001b[0mmax\u001b[0m\u001b[1;33m(\u001b[0m\u001b[0me\u001b[0m\u001b[1;33m.\u001b[0m\u001b[0mvalues\u001b[0m\u001b[1;33m(\u001b[0m\u001b[1;33m)\u001b[0m\u001b[1;33m)\u001b[0m\u001b[1;33m\u001b[0m\u001b[1;33m\u001b[0m\u001b[0m\n\u001b[0;32m    301\u001b[0m \u001b[1;33m\u001b[0m\u001b[0m\n",
      "\u001b[1;32mc:\\Users\\user\\anaconda3\\envs\\tf_rdkit_gpu\\lib\\site-packages\\networkx\\algorithms\\distance_measures.py\u001b[0m in \u001b[0;36meccentricity\u001b[1;34m(G, v, sp)\u001b[0m\n\u001b[0;32m    262\u001b[0m             \u001b[1;32melse\u001b[0m\u001b[1;33m:\u001b[0m\u001b[1;33m\u001b[0m\u001b[1;33m\u001b[0m\u001b[0m\n\u001b[0;32m    263\u001b[0m                 \u001b[0mmsg\u001b[0m \u001b[1;33m=\u001b[0m \u001b[1;34m\"Found infinite path length because the graph is not\"\u001b[0m \u001b[1;34m\" connected\"\u001b[0m\u001b[1;33m\u001b[0m\u001b[1;33m\u001b[0m\u001b[0m\n\u001b[1;32m--> 264\u001b[1;33m             \u001b[1;32mraise\u001b[0m \u001b[0mnx\u001b[0m\u001b[1;33m.\u001b[0m\u001b[0mNetworkXError\u001b[0m\u001b[1;33m(\u001b[0m\u001b[0mmsg\u001b[0m\u001b[1;33m)\u001b[0m\u001b[1;33m\u001b[0m\u001b[1;33m\u001b[0m\u001b[0m\n\u001b[0m\u001b[0;32m    265\u001b[0m \u001b[1;33m\u001b[0m\u001b[0m\n\u001b[0;32m    266\u001b[0m         \u001b[0me\u001b[0m\u001b[1;33m[\u001b[0m\u001b[0mn\u001b[0m\u001b[1;33m]\u001b[0m \u001b[1;33m=\u001b[0m \u001b[0mmax\u001b[0m\u001b[1;33m(\u001b[0m\u001b[0mlength\u001b[0m\u001b[1;33m.\u001b[0m\u001b[0mvalues\u001b[0m\u001b[1;33m(\u001b[0m\u001b[1;33m)\u001b[0m\u001b[1;33m)\u001b[0m\u001b[1;33m\u001b[0m\u001b[1;33m\u001b[0m\u001b[0m\n",
      "\u001b[1;31mNetworkXError\u001b[0m: Found infinite path length because the graph is not connected"
     ]
    }
   ],
   "source": [
    "nx.diameter(interactions_graph_filtered)"
   ]
  },
  {
   "cell_type": "code",
   "execution_count": 12,
   "metadata": {},
   "outputs": [
    {
     "name": "stdout",
     "output_type": "stream",
     "text": [
      "Making walks... Done, T=4.24\n",
      "Mapping Walk Names... Done, T=2.63\n",
      "Training W2V... Done, T=116.52\n"
     ]
    }
   ],
   "source": [
    "#from node2vec import Node2Vec\n",
    "from nodevectors import Node2Vec\n",
    "# Generate walks with Original Node2Vec\n",
    "# node2vec = Node2Vec(interactions_graph_filtered, dimensions=128, walk_length=16, num_walks=100, workers = 1)\n",
    "# model = node2vec.fit(window=10, min_count=1)\n",
    "\n",
    "# Generate walks with Graph2Vec (nodevectors lib)\n",
    "# Fit embedding model to graph\n",
    "g2v = Node2Vec(n_components=128, walklen=16, epochs=100)\n",
    "# way faster than other node2vec implementations\n",
    "# Graph edge weights are handled automatically\n",
    "g2v.fit(interactions_graph_filtered)"
   ]
  },
  {
   "cell_type": "code",
   "execution_count": 13,
   "metadata": {},
   "outputs": [],
   "source": [
    "node_ids = g2v.model.wv.index2word  # list of node IDs\n",
    "# perform conversion of ids to ints\n",
    "node_ids = list(node_ids)\n",
    "embedding_vectors = g2v.model.wv.vectors\n",
    "n2v_df = pd.DataFrame(list(zip(node_ids, embedding_vectors)),columns=['DATABASE_ID','node2vec'])\n",
    "# using dictionary comprehension\n",
    "# to convert lists to dictionary\n",
    "cid2node_vec_dict = {node_ids[i]: embedding_vectors[i] for i in range(len(node_ids))}\n",
    "### uddate substances df with node2vec vector\n",
    "structures_df[\"node2vec\"] = structures_df[\"DATABASE_ID\"].map(cid2node_vec_dict)\n",
    "########### RUN UP TO THIS CELL FOR HYBRID EXPERIMENT ##############################"
   ]
  },
  {
   "cell_type": "code",
   "execution_count": 14,
   "metadata": {},
   "outputs": [
    {
     "name": "stderr",
     "output_type": "stream",
     "text": [
      "100%|██████████| 2415906/2415906 [04:54<00:00, 8194.04it/s] \n"
     ]
    },
    {
     "name": "stdout",
     "output_type": "stream",
     "text": [
      "Classification Train DF shape:(1218924, 4)\n",
      "Classification Test DF shape:(1196982, 4)\n"
     ]
    }
   ],
   "source": [
    "from tqdm import tqdm\n",
    "from random import random\n",
    "#### Create Classification Dataframe with true samples {features_vector, 1} ####\n",
    "classification_train_rows_list = []\n",
    "classification_test_rows_list = []\n",
    "MOVE_TO_TRAIN_PROB = 0.50\n",
    "\n",
    "for index, row in tqdm(valid_interactions.iterrows(), total=valid_interactions.shape[0]):\n",
    "    s_node2vec = cid2node_vec_dict[row['SDID']]\n",
    "    scid = row['SDID']\n",
    "    o_node2vec = cid2node_vec_dict[row['ODID']]\n",
    "    ocid = row['ODID']\n",
    "    is_test = (row['SDID'],row['ODID']) in removed_set or (row['ODID'], row['SDID']) in removed_set\n",
    "    try:   \n",
    "        fv_direct = np.concatenate((s_node2vec.tolist(), o_node2vec.tolist()))\n",
    "        if is_test and (random() > MOVE_TO_TRAIN_PROB): # with prob to move to train\n",
    "            # fv_opposite = np.concatenate((o_node2vec, s_node2vec)) ### track opposite direction of interacts relationship\n",
    "            classification_test_rows_list.append([fv_direct, 1, scid, ocid])\n",
    "            # classification_test_rows_list.append([fv_opposite, 1])  ### opposite is not needed since neo4j contains reverse of each edge\n",
    "        else:\n",
    "            classification_train_rows_list.append([fv_direct, 1, scid, ocid])\n",
    "    except IndexError:\n",
    "        print(\"IndexError on index: {} for subject: {} and object: {}\".format(index, s_node2vec, o_node2vec))\n",
    "\n",
    "    \n",
    "classification_train_df = pd.DataFrame(data = classification_train_rows_list, columns=['features_vector', 'class', 'SDID', 'ODID']) \n",
    "classification_test_df = pd.DataFrame(data = classification_test_rows_list, columns=['features_vector', 'class', 'SDID', 'ODID']) \n",
    "# Remove duplicates\n",
    "#classification_df = classification_df[~classification_df['features_vector'].apply(tuple).duplicated()]\n",
    "print(\"Classification Train DF shape:{}\".format(classification_train_df.shape))\n",
    "print(\"Classification Test DF shape:{}\".format(classification_test_df.shape))"
   ]
  },
  {
   "cell_type": "code",
   "execution_count": 15,
   "metadata": {},
   "outputs": [
    {
     "name": "stdout",
     "output_type": "stream",
     "text": [
      "Initiating Multithreading Execution\n",
      "Exited Multithreaded Section\n",
      "Creating Dataframe with negative samples\n",
      "Removing Duplicate vectors\n"
     ]
    }
   ],
   "source": [
    "from random import randrange, choice\n",
    "# Add samples with substances that do not interact\n",
    "# Generate random tuples from the substances list, and if they do not appear on the interactions_df add them as a non interaction\n",
    "\n",
    "def getSetWithAllPairs(df, col1, col2):\n",
    "    return set(list(zip(df[col1],df[col2])))\n",
    " \n",
    "def getNegSamples(pairs_to_avoid, substances_df, neg_sample_size, result_list, result_idx, bad_cids):\n",
    "    subs_cid_list = list(set().union(valid_interactions['SDID'].unique(), valid_interactions['ODID'].unique()))\n",
    "    neg_examples = []\n",
    "    while len(neg_examples) < neg_sample_size:\n",
    "        # Generate random pair\n",
    "        cid_a = choice(subs_cid_list)\n",
    "        cid_b = choice(subs_cid_list)\n",
    "        if((cid_a in bad_cids) or (cid_b in bad_cids)):\n",
    "            continue\n",
    "        # flag1 = not phsu_interacts_df.loc[(phsu_interacts_df['snode_cid'] == cid_a) & (phsu_interacts_df['onode_cid'] == cid_b)].any().all()\n",
    "        # flag2 = not phsu_interacts_df.loc[(phsu_interacts_df['snode_cid'] == cid_b) & (phsu_interacts_df['onode_cid'] == cid_a)].any().all()\n",
    "        flag1 = (cid_a, cid_b) not in pairs_to_avoid\n",
    "        flag2 = (cid_b, cid_a) not in pairs_to_avoid\n",
    "        if(cid_a != cid_b and flag1 and flag2):\n",
    "            s_node2vec = cid2node_vec_dict[cid_a]\n",
    "            o_node2vec = cid2node_vec_dict[cid_b]\n",
    "            try:   \n",
    "                # fv_direct = np.concatenate((s_node2vec.tolist(), o_node2vec.tolist()))\n",
    "                # fv_opposite = np.concatenate((o_node2vec.tolist(), s_node2vec.tolist())) ### track opposite direction of interacts relationship\n",
    "                neg_examples.append([0, cid_a, cid_b])\n",
    "                neg_examples.append([0, cid_b, cid_a])\n",
    "            except IndexError:\n",
    "                print(\"IndexError on index: {} for subject: {} and object: {}\".format(index, s_node2vec, o_node2vec))\n",
    "    result_list[result_idx-1] = neg_examples\n",
    "    return\n",
    "\n",
    "thread_list = []\n",
    "NEG_SAMPLE_SIZE = 700000 # For each thread\n",
    "THREADS = 4\n",
    "result_list = [None]*THREADS\n",
    "pairs_2_avoid = getSetWithAllPairs(valid_interactions, 'SDID', 'ODID')\n",
    "bad_cids = {2122, 6227}\n",
    "print(\"Initiating Multithreading Execution\")\n",
    "for i in range(THREADS):\n",
    "    thread = Thread(target = getNegSamples, args = [pairs_2_avoid,valid_interactions, NEG_SAMPLE_SIZE, result_list, i, bad_cids])\n",
    "    thread_list.append(thread)\n",
    "    thread.start()\n",
    "\n",
    "for t in thread_list:\n",
    "    t.join()\n",
    "\n",
    "print(\"Exited Multithreaded Section\")\n",
    "\n",
    "neg_examples = []\n",
    "for l in result_list:\n",
    "    if l != None: neg_examples.extend(l)\n",
    "            \n",
    "print(\"Creating Dataframe with negative samples\")\n",
    "neg_examples_df = pd.DataFrame(data = neg_examples, columns=['class', 'SDID', 'ODID'])\n",
    "print(\"Removing Duplicate vectors\") \n",
    "#Remove duplicates\n",
    "# neg_examples_df = neg_examples_df[~neg_examples_df['features_vector'].apply(str).duplicated()] \n",
    "neg_examples_df = neg_examples_df.drop_duplicates()\n",
    "\n",
    "# Create features_vector column\n",
    "neg_examples_df[\"features_vector\"] = neg_examples_df.apply(lambda r: np.concatenate((cid2node_vec_dict[r.SDID].tolist(), cid2node_vec_dict[r.ODID].tolist())), axis = 1)"
   ]
  },
  {
   "cell_type": "code",
   "execution_count": 17,
   "metadata": {},
   "outputs": [
    {
     "name": "stdout",
     "output_type": "stream",
     "text": [
      "Shape of X_train: 2453723 ------ Class_0: class    1416939\n",
      "dtype: int64 -- Class_1: class    1036784\n",
      "dtype: int64\n",
      "Shape of X_test: 2018440  ------ Class_0: class    821458\n",
      "dtype: int64 -- Class_1: class    1196982\n",
      "dtype: int64\n",
      "Shape of X_val: 433011  ------ Class_0: class    250871\n",
      "dtype: int64  -- Class_1: class    182140\n",
      "dtype: int64\n",
      "Plotting counts for Test Data\n"
     ]
    },
    {
     "data": {
      "text/plain": [
       "<AxesSubplot:xlabel='class', ylabel='count'>"
      ]
     },
     "execution_count": 17,
     "metadata": {},
     "output_type": "execute_result"
    },
    {
     "data": {
      "image/png": "[encoded data removed]",
      "text/plain": [
       "<Figure size 432x288 with 1 Axes>"
      ]
     },
     "metadata": {
      "needs_background": "light"
     },
     "output_type": "display_data"
    }
   ],
   "source": [
    "from sklearn.preprocessing import StandardScaler    \n",
    "from sklearn.model_selection import train_test_split\n",
    "from sklearn.metrics import confusion_matrix, classification_report\n",
    "### Split negative examples df to train and test\n",
    "from math import floor\n",
    "test_sample_factor = 0.33\n",
    "neg_examples_test = neg_examples_df.sample(floor(test_sample_factor * neg_examples_df.shape[0]))\n",
    "neg_examples_train = neg_examples_df.drop(neg_examples_test.index)\n",
    "\n",
    "### Create train and test dataframes\n",
    "train_df = pd.concat([classification_train_df, neg_examples_train], axis = 0).sample(frac = 1)\n",
    "test_df = pd.concat([classification_test_df, neg_examples_test], axis = 0).sample(frac = 1)\n",
    "\n",
    "X_train, y_train, train_pairs = train_df[['features_vector']], train_df[['class']], train_df[['SDID', 'ODID']]\n",
    "X_train, X_val, y_train, y_val = train_test_split(X_train, y_train, test_size=0.15, random_state=69)\n",
    "X_test, y_test, test_pairs = test_df[['features_vector']], test_df[['class']], test_df[['SDID', 'ODID']]\n",
    "### Create Test Dataframe with positive and negative examples of interactions\n",
    "\n",
    "print(\"Shape of X_train: {} ------ Class_0: {} -- Class_1: {}\".format(X_train.shape[0],  y_train[(y_train.values==0)].count(), y_train[(y_train.values==1)].count()))\n",
    "print(\"Shape of X_test: {}  ------ Class_0: {} -- Class_1: {}\".format(X_test.shape[0], y_test[(y_test.values==0)].count(), y_test[(y_test.values==1)].count()))\n",
    "print(\"Shape of X_val: {}  ------ Class_0: {}  -- Class_1: {}\".format(X_val.shape[0], y_val[(y_val.values==0)].count(), y_val[(y_val.values==1)].count()))\n",
    "\n",
    "print(\"Plotting counts for Test Data\")\n",
    "sns.countplot(x = 'class', data=pd.DataFrame(data=y_test, columns=['class']))"
   ]
  },
  {
   "cell_type": "code",
   "execution_count": 14,
   "metadata": {},
   "outputs": [
    {
     "data": {
      "text/plain": [
       "<AxesSubplot:xlabel='class', ylabel='count'>"
      ]
     },
     "execution_count": 14,
     "metadata": {},
     "output_type": "execute_result"
    },
    {
     "data": {
      "image/png": "[encoded data removed]",
      "text/plain": [
       "<Figure size 432x288 with 1 Axes>"
      ]
     },
     "metadata": {
      "needs_background": "light"
     },
     "output_type": "display_data"
    }
   ],
   "source": [
    "sns.countplot(x = 'class', data=pd.DataFrame(data=y_train, columns=['class']))"
   ]
  },
  {
   "cell_type": "code",
   "execution_count": 15,
   "metadata": {},
   "outputs": [
    {
     "data": {
      "text/plain": [
       "<AxesSubplot:xlabel='class', ylabel='count'>"
      ]
     },
     "execution_count": 15,
     "metadata": {},
     "output_type": "execute_result"
    },
    {
     "data": {
      "image/png": "[encoded data removed]",
      "text/plain": [
       "<Figure size 432x288 with 1 Axes>"
      ]
     },
     "metadata": {
      "needs_background": "light"
     },
     "output_type": "display_data"
    }
   ],
   "source": [
    "sns.countplot(x = 'class', data=pd.DataFrame(data=y_val, columns=['class']))"
   ]
  },
  {
   "cell_type": "code",
   "execution_count": 16,
   "metadata": {},
   "outputs": [
    {
     "name": "stderr",
     "output_type": "stream",
     "text": [
      "C:\\Users\\user\\AppData\\Local\\Temp/ipykernel_10032/4006307011.py:16: UserWarning: Creating a tensor from a list of numpy.ndarrays is extremely slow. Please consider converting the list to a single numpy.ndarray with numpy.array() before converting to a tensor. (Triggered internally at  ..\\torch\\csrc\\utils\\tensor_new.cpp:201.)\n",
      "  train_data = TrainData(torch.FloatTensor(X_train.features_vector.values.tolist()),\n"
     ]
    }
   ],
   "source": [
    "## train dataclass TrainData(Dataset):\n",
    "\n",
    "class TrainData(Dataset):\n",
    "    \n",
    "    def __init__(self, X_data, y_data):\n",
    "        self.X_data = X_data\n",
    "        self.y_data = y_data\n",
    "        \n",
    "    def __getitem__(self, index):\n",
    "        return self.X_data[index], self.y_data[index]\n",
    "        \n",
    "    def __len__ (self):\n",
    "        return len(self.X_data)\n",
    "\n",
    "\n",
    "train_data = TrainData(torch.FloatTensor(X_train.features_vector.values.tolist()), \n",
    "                       torch.FloatTensor(list(map(lambda x: x[0], y_train.values.tolist()))))\n",
    "## test data    \n",
    "\n",
    "class TestData(Dataset):\n",
    "    \n",
    "    def __init__(self, X_data):\n",
    "        self.X_data = X_data\n",
    "        \n",
    "    def __getitem__(self, index):\n",
    "        return self.X_data[index]\n",
    "        \n",
    "    def __len__ (self):\n",
    "        return len(self.X_data)\n",
    "    \n",
    "\n",
    "test_data = TestData(torch.FloatTensor(X_test.features_vector.values.tolist()))\n",
    "val_data = TestData(torch.FloatTensor(X_val.features_vector.values.tolist()))"
   ]
  },
  {
   "cell_type": "code",
   "execution_count": 17,
   "metadata": {},
   "outputs": [
    {
     "name": "stdout",
     "output_type": "stream",
     "text": [
      "cuda\n",
      "BinaryClassification(\n",
      "  (layer_1): Linear(in_features=256, out_features=512, bias=True)\n",
      "  (layer_2): Linear(in_features=512, out_features=256, bias=True)\n",
      "  (layer_3): Linear(in_features=256, out_features=128, bias=True)\n",
      "  (layer_out): Linear(in_features=128, out_features=1, bias=True)\n",
      "  (relu): ReLU()\n",
      "  (dropout): Dropout(p=0.1, inplace=False)\n",
      "  (batchnorm1): BatchNorm1d(512, eps=1e-05, momentum=0.1, affine=True, track_running_stats=True)\n",
      "  (batchnorm2): BatchNorm1d(256, eps=1e-05, momentum=0.1, affine=True, track_running_stats=True)\n",
      "  (batchnorm3): BatchNorm1d(128, eps=1e-05, momentum=0.1, affine=True, track_running_stats=True)\n",
      ")\n"
     ]
    }
   ],
   "source": [
    "class BinaryClassification(nn.Module):\n",
    "    def __init__(self):\n",
    "        super(BinaryClassification, self).__init__()        # Number of input features is 256.\n",
    "        self.layer_1 = nn.Linear(256, 512)\n",
    "        self.layer_2 = nn.Linear(512, 256)\n",
    "        self.layer_3 = nn.Linear(256, 128)\n",
    "        self.layer_out = nn.Linear(128, 1)\n",
    "        \n",
    "        self.relu = nn.ReLU()\n",
    "        self.dropout = nn.Dropout(p=0.1)\n",
    "        self.batchnorm1 = nn.BatchNorm1d(512)\n",
    "        self.batchnorm2 = nn.BatchNorm1d(256)\n",
    "        self.batchnorm3 = nn.BatchNorm1d(128)\n",
    "        \n",
    "    def forward(self, inputs):\n",
    "        x = self.relu(self.layer_1(inputs))\n",
    "        x = self.batchnorm1(x)\n",
    "        x = self.relu(self.layer_2(x))\n",
    "        x = self.batchnorm2(x)\n",
    "        x = self.dropout(x)\n",
    "        x = self.relu(self.layer_3(x))\n",
    "        x = self.batchnorm3(x)\n",
    "        x = self.dropout(x)\n",
    "\n",
    "        x = self.layer_out(x)\n",
    "        \n",
    "        return x\n",
    "\n",
    "def binary_acc(y_pred, y_test):\n",
    "    y_pred_tag = torch.round(torch.sigmoid(y_pred))\n",
    "\n",
    "    correct_results_sum = (y_pred_tag == y_test).sum().float()\n",
    "    acc = correct_results_sum/y_test.shape[0]\n",
    "    acc = torch.round(acc * 100)\n",
    "    \n",
    "    return acc\n",
    "\n",
    "\n",
    "device = torch.device(\"cuda\" if torch.cuda.is_available() else \"cpu\")\n",
    "#device = torch.device(\"cuda\")\n",
    "print(device)\n",
    "\n",
    "\n",
    "# Define Model\n",
    "model = BinaryClassification()\n",
    "model.cuda()\n",
    "model.to(device)\n",
    "print(model)"
   ]
  },
  {
   "cell_type": "code",
   "execution_count": 18,
   "metadata": {},
   "outputs": [
    {
     "name": "stdout",
     "output_type": "stream",
     "text": [
      "cuda\n",
      "Epoch 001: | Loss: 0.33719 | Acc: 85.125 | Val Acc: 0.8745634384774303\n",
      "Epoch 002: | Loss: 0.26042 | Acc: 88.731 | Val Acc: 0.8924783306210542\n",
      "Epoch 003: | Loss: 0.22988 | Acc: 90.094 | Val Acc: 0.9001742783606292\n",
      "Epoch 004: | Loss: 0.20908 | Acc: 91.002 | Val Acc: 0.907306995371813\n",
      "Epoch 005: | Loss: 0.19329 | Acc: 91.714 | Val Acc: 0.9104393892178249\n",
      "Epoch 006: | Loss: 0.18079 | Acc: 92.280 | Val Acc: 0.9147421026511086\n",
      "Epoch 007: | Loss: 0.17024 | Acc: 92.743 | Val Acc: 0.9178283300439736\n",
      "Epoch 008: | Loss: 0.16114 | Acc: 93.169 | Val Acc: 0.9200235448911048\n",
      "Epoch 009: | Loss: 0.15350 | Acc: 93.489 | Val Acc: 0.9232621215793544\n",
      "Epoch 010: | Loss: 0.14676 | Acc: 93.782 | Val Acc: 0.9251664877716608\n",
      "Epoch 011: | Loss: 0.14051 | Acc: 94.059 | Val Acc: 0.9260390337361356\n",
      "Epoch 012: | Loss: 0.13499 | Acc: 94.304 | Val Acc: 0.927544060108722\n",
      "Epoch 013: | Loss: 0.13014 | Acc: 94.528 | Val Acc: 0.9287536211811687\n",
      "Epoch 014: | Loss: 0.12554 | Acc: 94.703 | Val Acc: 0.9284050644599102\n",
      "Epoch 015: | Loss: 0.12155 | Acc: 94.886 | Val Acc: 0.9308011033782302\n",
      "Epoch 016: | Loss: 0.11753 | Acc: 95.045 | Val Acc: 0.9314635919808871\n",
      "Epoch 017: | Loss: 0.11379 | Acc: 95.213 | Val Acc: 0.9322645799429844\n",
      "Epoch 018: | Loss: 0.11064 | Acc: 95.347 | Val Acc: 0.9324007709797676\n",
      "Epoch 019: | Loss: 0.10759 | Acc: 95.474 | Val Acc: 0.9333010168161305\n",
      "Epoch 020: | Loss: 0.10489 | Acc: 95.586 | Val Acc: 0.9328070357674596\n",
      "Epoch 021: | Loss: 0.10202 | Acc: 95.712 | Val Acc: 0.9341204713594866\n",
      "Epoch 022: | Loss: 0.09981 | Acc: 95.804 | Val Acc: 0.9350114839052203\n",
      "Epoch 023: | Loss: 0.09716 | Acc: 95.920 | Val Acc: 0.9351822997818635\n",
      "Epoch 024: | Loss: 0.09503 | Acc: 96.017 | Val Acc: 0.9350022506145909\n",
      "Epoch 025: | Loss: 0.09282 | Acc: 96.085 | Val Acc: 0.9362164283323523\n",
      "Epoch 026: | Loss: 0.09095 | Acc: 96.179 | Val Acc: 0.9360340708424224\n",
      "Epoch 027: | Loss: 0.08901 | Acc: 96.249 | Val Acc: 0.9357455305102548\n",
      "Applying Early Stop\n",
      "Keeping model from epoch: 25\n"
     ]
    }
   ],
   "source": [
    "from sklearn.metrics import accuracy_score\n",
    "### Train the model\n",
    "# Model Parameters\n",
    "EPOCHS = 30\n",
    "BATCH_SIZE = 64\n",
    "LEARNING_RATE = 0.001\n",
    "EARLY_STOPPING = 3\n",
    "\n",
    "criterion = nn.BCEWithLogitsLoss()\n",
    "optimizer = optim.Adam(model.parameters(), lr=LEARNING_RATE)\n",
    "bad_progress_counter = 0\n",
    "model_epoch = 0\n",
    "best_val_acc = 0\n",
    "\n",
    "# Create Loaders\n",
    "train_loader = DataLoader(dataset=train_data, batch_size=BATCH_SIZE, shuffle=True)\n",
    "test_loader = DataLoader(dataset=test_data, batch_size=1)\n",
    "val_loader = DataLoader(dataset=val_data, batch_size=1)\n",
    "\n",
    "print(device)\n",
    "model.train()\n",
    "\n",
    "for e in range(1, EPOCHS+1):\n",
    "    epoch_loss = 0\n",
    "    epoch_acc = 0\n",
    "    for X_batch, y_batch in train_loader:\n",
    "        X_batch, y_batch = X_batch.to(device), y_batch.to(device)\n",
    "        optimizer.zero_grad()        \n",
    "        y_pred = model(X_batch.cuda()).to(device)\n",
    "        \n",
    "        loss = criterion(y_pred, y_batch.unsqueeze(1)).to(device)\n",
    "        acc = binary_acc(y_pred, y_batch.unsqueeze(1)).to(device)\n",
    "        \n",
    "        loss.backward()\n",
    "        optimizer.step()\n",
    "        \n",
    "        epoch_loss += loss.item()\n",
    "        epoch_acc += acc.item()\n",
    "    # validation\n",
    "    model.eval()\n",
    "    y_pred_list = []\n",
    "    with torch.no_grad():\n",
    "        for X_batch in val_loader:\n",
    "            X_batch = X_batch.to(device)\n",
    "            y_val_pred = model(X_batch)\n",
    "            y_val_pred = torch.sigmoid(y_val_pred)\n",
    "            y_pred_tag = torch.round(y_val_pred)\n",
    "            y_pred_list.append(y_pred_tag.cpu().numpy())\n",
    "        y_pred_list = [a.squeeze().tolist() for a in y_pred_list]\n",
    "    val_acc = accuracy_score(y_pred_list, y_val)\n",
    "    if e==1: \n",
    "        best_val_acc = val_acc\n",
    "    elif best_val_acc <= val_acc:\n",
    "        bad_progress_counter = 0\n",
    "    else:\n",
    "        bad_progress_counter +=1\n",
    "    \n",
    "    if bad_progress_counter == EARLY_STOPPING:\n",
    "        print(\"Applying Early Stop\")\n",
    "        break\n",
    "    # End of validation step\n",
    "\n",
    "    print(f'Epoch {e+0:03}: | Loss: {epoch_loss/len(train_loader):.5f} | Acc: {epoch_acc/len(train_loader):.3f} | Val Acc: {val_acc}')\n",
    "    if(val_acc > best_val_acc):\n",
    "        node2vec = model   #Store model\n",
    "        model_epoch = e\n",
    "        best_val_acc = val_acc\n",
    "    \n",
    "print(\"Keeping model from epoch: {}\".format(model_epoch))"
   ]
  },
  {
   "cell_type": "code",
   "execution_count": 19,
   "metadata": {},
   "outputs": [
    {
     "name": "stderr",
     "output_type": "stream",
     "text": [
      "100%|██████████| 2017580/2017580 [36:54<00:00, 911.00it/s] \n"
     ]
    },
    {
     "name": "stdout",
     "output_type": "stream",
     "text": [
      "              precision    recall  f1-score   support\n",
      "\n",
      "           0       0.90      0.94      0.92    821623\n",
      "           1       0.96      0.93      0.94   1195957\n",
      "\n",
      "    accuracy                           0.93   2017580\n",
      "   macro avg       0.93      0.94      0.93   2017580\n",
      "weighted avg       0.93      0.93      0.93   2017580\n",
      "\n"
     ]
    }
   ],
   "source": [
    "### Test the model\n",
    "y_pred_list = []\n",
    "node2vec.eval()\n",
    "with torch.no_grad():\n",
    "    for X_batch in tqdm(test_loader, total = len(test_loader)):\n",
    "        X_batch = X_batch.to(device)\n",
    "        y_test_pred = node2vec(X_batch)\n",
    "        y_test_pred = torch.sigmoid(y_test_pred)\n",
    "        y_pred_tag = torch.round(y_test_pred)\n",
    "        y_pred_list.append(y_pred_tag.cpu().numpy())\n",
    "y_pred_list = [a.squeeze().tolist() for a in y_pred_list]\n",
    "\n",
    "print(classification_report(y_test, y_pred_list))"
   ]
  },
  {
   "cell_type": "code",
   "execution_count": 20,
   "metadata": {},
   "outputs": [
    {
     "data": {
      "text/plain": [
       "<AxesSubplot:>"
      ]
     },
     "execution_count": 20,
     "metadata": {},
     "output_type": "execute_result"
    },
    {
     "data": {
      "image/png": "[encoded data removed]",
      "text/plain": [
       "<Figure size 720x504 with 2 Axes>"
      ]
     },
     "metadata": {
      "needs_background": "light"
     },
     "output_type": "display_data"
    }
   ],
   "source": [
    "cm=confusion_matrix(y_test, y_pred_list)\n",
    "plt.figure(figsize = (10,7))\n",
    "sns.heatmap(cm, annot=True)"
   ]
  },
  {
   "cell_type": "code",
   "execution_count": 32,
   "metadata": {},
   "outputs": [],
   "source": [
    "### SAVE Result Data\n",
    "# with open('drugbank_experiment_pickles/node2vec_large_full_results.pickle', 'wb') as handle:\n",
    "#     pickle.dump((test_pairs, y_test, y_pred_list), handle, protocol=pickle.HIGHEST_PROTOCOL)\n",
    "\n",
    "### LOAD Data from Pickles --- folder: drugbank_experiment_pickless\n",
    "with open('drugbank_experiment_pickles/node2vec_large_full_results.pickle', 'rb') as handle:\n",
    "    test_pairs_n, y_test_n, y_pred_list_n = pickle.load(handle)\n",
    "test_pairs, y_test, y_pred_list = test_pairs_n, y_test_n, y_pred_list_n"
   ]
  },
  {
   "cell_type": "code",
   "execution_count": 33,
   "metadata": {},
   "outputs": [
    {
     "name": "stdout",
     "output_type": "stream",
     "text": [
      "Mean Correct Degrees: 868.7135665322955\n",
      "Mean MIN Correct Degrees: 593.4589506312083\n",
      "Mean MAX Correct Degrees: 1143.9681824333827\n",
      "Mean Correct Core Differences: 196.0109416507217\n",
      "Mean Correct Betweenus Centrality: 1.2909670129892695e-06\n",
      "Mean False Degrees: 806.5886362785124\n",
      "Mean MIN False Degrees: 470.07917150455074\n",
      "Mean MAX False Degrees: 1143.0981010524738\n",
      "Mean False Core Differences: 266.1020113112851\n",
      "Mean False Betweenus Centrality: 6.994947537197992e-06\n"
     ]
    }
   ],
   "source": [
    "from statistics import mean\n",
    "###### Compute Useful Test Results regadring Graph Properites on the Test Set's Nodes\n",
    "# test_pairs, degreeNodes, y_test, y_pred\n",
    "correct_degrees, min_correct_degrees, max_correct_degrees = [], [], []\n",
    "false_degrees, min_false_degrees, max_false_degrees = [], [], []\n",
    "correct_core_diffs, false_core_diffs = [], []\n",
    "correct_b_centrality, false_b_centrality = [], []\n",
    "pairs = test_pairs.values\n",
    "test_values = y_test.values\n",
    "for i in range(len(pairs)):\n",
    "    scid, ocid = pairs[i][0], pairs[i][1]\n",
    "    sdegree, odegree = degreeNodes[scid], degreeNodes[ocid]\n",
    "    score, ocore = core_dict[scid], core_dict[ocid]\n",
    "    if int(test_values[i][0]) == int(y_pred_list[i]):   # Correct decision for NN\n",
    "        correct_degrees.append(1.0*(sdegree + odegree)/2)\n",
    "        min_correct_degrees.append(min(sdegree, odegree))\n",
    "        max_correct_degrees.append(max(sdegree, odegree))\n",
    "        correct_core_diffs.append(abs(score-ocore))\n",
    "        try: # will only work if edge really exists \n",
    "            correct_b_centrality.append(edge_betweeness_centrality[(scid, ocid)] if ((scid, ocid) in edge_betweeness_centrality.keys()) else edge_betweeness_centrality[(ocid, scid)])\n",
    "        except:\n",
    "            continue\n",
    "    else:\n",
    "        false_degrees.append(1.0*(sdegree + odegree)/2)\n",
    "        min_false_degrees.append(min(sdegree, odegree))\n",
    "        max_false_degrees.append(max(sdegree, odegree))\n",
    "        false_core_diffs.append(abs(score-ocore))\n",
    "        try: # will only work if edge really exists \n",
    "            false_b_centrality.append(edge_betweeness_centrality[(scid, ocid)] if ((scid, ocid) in edge_betweeness_centrality.keys()) else edge_betweeness_centrality[(ocid, scid)])\n",
    "        except:\n",
    "            continue\n",
    "\n",
    "print(\"Mean Correct Degrees: {}\".format(mean(correct_degrees)))\n",
    "print(\"Mean MIN Correct Degrees: {}\".format(mean(min_correct_degrees)))\n",
    "print(\"Mean MAX Correct Degrees: {}\".format(mean(max_correct_degrees)))\n",
    "print(\"Mean Correct Core Differences: {}\".format(mean(correct_core_diffs)))\n",
    "print(\"Mean Correct Betweenus Centrality: {}\".format(mean(correct_b_centrality)))\n",
    "print(\"Mean False Degrees: {}\".format(mean(false_degrees)))\n",
    "print(\"Mean MIN False Degrees: {}\".format(mean(min_false_degrees)))\n",
    "print(\"Mean MAX False Degrees: {}\".format(mean(max_false_degrees)))\n",
    "print(\"Mean False Core Differences: {}\".format(mean(false_core_diffs)))\n",
    "print(\"Mean False Betweenus Centrality: {}\".format(mean(false_b_centrality)))"
   ]
  },
  {
   "cell_type": "code",
   "execution_count": 34,
   "metadata": {},
   "outputs": [
    {
     "name": "stderr",
     "output_type": "stream",
     "text": [
      "100%|██████████| 2017580/2017580 [00:19<00:00, 101091.62it/s]\n"
     ]
    }
   ],
   "source": [
    "### Prepare for Plots\n",
    "resolution = 1000\n",
    "b_centrality_limit = 3\n",
    "distribution_dict = {}\n",
    "for i in tqdm(range(len(pairs))):\n",
    "   scid, ocid = pairs[i][0], pairs[i][1]\n",
    "   sdegree, odegree = degreeNodes[scid], degreeNodes[ocid]\n",
    "   score, ocore = core_dict[scid], core_dict[ocid]\n",
    "   is_positive =  int(test_values[i])\n",
    "   correctly_identified = int(test_values[i]) == int(y_pred_list[i])\n",
    "   mean_degree = 1.0*(sdegree + odegree)/2\n",
    "   min_degree = min(sdegree, odegree)\n",
    "   max_degree = max(sdegree, odegree)\n",
    "   core_diff = abs(score-ocore)\n",
    "   try:\n",
    "      b_centrallity = 10**6*edge_betweeness_centrality[(scid, ocid)] if ((scid, ocid) in edge_betweeness_centrality.keys()) else edge_betweeness_centrality[(ocid, scid)]\n",
    "   except: \n",
    "      b_centrallity = None\n",
    "   distribution_dict[(scid, ocid)] = [is_positive, correctly_identified, mean_degree, min_degree, max_degree, core_diff, b_centrallity]\n",
    "\n",
    "distribution_df = pd.DataFrame.from_dict(data = distribution_dict, orient = 'index' , columns= ['is_positive', 'correctly_identified', 'mean_degree', 'min_degree', 'max_degree', 'core_diff', 'b_centrality'])\n"
   ]
  },
  {
   "cell_type": "code",
   "execution_count": 20,
   "metadata": {},
   "outputs": [
    {
     "name": "stderr",
     "output_type": "stream",
     "text": [
      "100%|██████████| 2017580/2017580 [00:18<00:00, 111205.41it/s]\n"
     ]
    },
    {
     "name": "stdout",
     "output_type": "stream",
     "text": [
      "Total Negative Correctly Identified Samples:     773654\n",
      "Total Negative Incorrectly Identified Samples:   47969\n",
      "Total Positive Correctly Identified Samples:     1110431\n",
      "Total Positive Incorrectly Identified Samples:   85526\n",
      "\n",
      "B centrality plots where limited on samples with b_centrality < 3\n",
      "Total nodes with b_centrality <  3:   1153662\n",
      "Total nodes with b_centrality >= 3:   42295\n",
      "\n",
      "KL Divergence Results\n",
      "KL Divergence between distributions from Classifier choices\n",
      "---mean_degree ~ KL(Correct | False): 0.23843751867273796\n",
      "---mean_degree ~ KL(False | Correct): 0.15878694969134272\n",
      "---min_degree ~ KL(Correct | False): 0.6118667800059967\n",
      "---min_degree ~ KL(False | Correct): 0.44105671561530124\n",
      "---max_degree ~ KL(Correct | False): 0.28767271053982685\n",
      "---max_degree ~ KL(False | Correct): 0.1988213738031716\n",
      "---core_diff ~ KL(Correct | False): 0.6153763566490409\n",
      "---core_diff ~ KL(False | Correct): 0.3688756818717805\n",
      "---b_centrality ~ KL(Correct | False): 0.366090784329807\n",
      "---b_centrality ~ KL(False | Correct): 0.19804964130337385\n",
      "Total approved Drugs in Test Samples:  1750771 --- Model Accuracy 0.930639129846222\n",
      "\t\tapproved Drugs in Positive Interactions: 1084681    Accuracy:0.9290362788690869\n",
      "\t\tapproved Drugs in Negative Interactions: 666090    Accuracy:0.933249260610428\n",
      "Total investigational Drugs in Test Samples:  473938 --- Model Accuracy 0.9422160704564733\n",
      "\t\tinvestigational Drugs in Positive Interactions: 206718    Accuracy:0.9118654398746118\n",
      "\t\tinvestigational Drugs in Negative Interactions: 267220    Accuracy:0.965694933013996\n",
      "Total experimental Drugs in Test Samples:  694346 --- Model Accuracy 0.9398210690347464\n",
      "\t\texperimental Drugs in Positive Interactions: 356408    Accuracy:0.9218508002065049\n",
      "\t\texperimental Drugs in Negative Interactions: 337938    Accuracy:0.9587735028318805\n",
      "Total illicit Drugs in Test Samples:  18005 --- Model Accuracy 0.9529575118022772\n",
      "\t\tillicit Drugs in Positive Interactions: 11562    Accuracy:0.953208787407023\n",
      "\t\tillicit Drugs in Negative Interactions: 6443    Accuracy:0.9525065963060686\n",
      "Total vet_approved Drugs in Test Samples:  51208 --- Model Accuracy 0.9392868301827839\n",
      "\t\tvet_approved Drugs in Positive Interactions: 22983    Accuracy:0.9127180959839881\n",
      "\t\tvet_approved Drugs in Negative Interactions: 28225    Accuracy:0.9609211691762621\n",
      "Total withdrawn Drugs in Test Samples:  54759 --- Model Accuracy 0.955988969849705\n",
      "\t\twithdrawn Drugs in Positive Interactions: 38899    Accuracy:0.9573510887169336\n",
      "\t\twithdrawn Drugs in Negative Interactions: 15860    Accuracy:0.9526481715006305\n",
      "Total nutraceutical Drugs in Test Samples:  5433 --- Model Accuracy 0.8961899503036996\n",
      "\t\tnutraceutical Drugs in Positive Interactions: 1412    Accuracy:0.7181303116147308\n",
      "\t\tnutraceutical Drugs in Negative Interactions: 4021    Accuracy:0.9587167371300671\n"
     ]
    }
   ],
   "source": [
    "### Define parameters for results plots file save\n",
    "resultsPath = \"result_plots/large_drugbank_results/graph2vec/train_with_01_percent/\"   ### CHANGE THIS FOR EVERY EXPERIMENT\n",
    "metrics_dict = {\"mean_degree\":\"Mean Degree\", \"min_degree\":\"Min Degree\", \"max_degree\":\"Max Degree\", \"core_diff\":\"Core Difference\", \"b_centrality\":\"Betweenness Centrality\"}\n",
    "\n",
    "### Plot Group A: Histogram grouped by categories in same plot\n",
    "for x_axis_variable in ['mean_degree', 'min_degree', 'max_degree', 'core_diff', 'b_centrality']:\n",
    "\n",
    "    x1 = distribution_df[x_axis_variable][(distribution_df.is_positive==0) & (distribution_df.correctly_identified==True)]\n",
    "    x2 = distribution_df[x_axis_variable][(distribution_df.is_positive==0) & (distribution_df.correctly_identified==False)]\n",
    "    x3 = distribution_df[x_axis_variable][(distribution_df.is_positive==1) & (distribution_df.correctly_identified==True)]\n",
    "    x4 = distribution_df[x_axis_variable][(distribution_df.is_positive==1) & (distribution_df.correctly_identified==False)]\n",
    "\n",
    "    kwargs = dict(alpha=0.5, bins=100, density=False, stacked=True)\n",
    "    if x_axis_variable != \"b_centrality\":\n",
    "        plt.hist(x1, **kwargs, color='g', label='Negative Correctly Identified')\n",
    "        plt.hist(x2, **kwargs, color='b', label='Negative Incorrectly Identified')\n",
    "    else:\n",
    "        x3 = x3[x3.between(0,b_centrality_limit)]\n",
    "        x4 = x4[x4.between(0,b_centrality_limit)]\n",
    "    plt.hist(x3, **kwargs, color='r', label='Positive Correctly Identified')\n",
    "    plt.hist(x4, **kwargs, color='c', label='Positive Incorrectly Identified')\n",
    "    plt.gca().set(title=\"Frequency Histogram of Classifier's predictions\", ylabel='Frequency', xlabel = metrics_dict[x_axis_variable])\n",
    "    # plt.xlim(50,75)\n",
    "    plt.legend()\n",
    "    imageName = \"groupA_Frequency Histogram of Classifier's predictions_\" + x_axis_variable\n",
    "    plt.savefig(resultsPath + imageName +'.png', dpi=resolution, bbox_inches='tight')\n",
    "    plt.close()\n",
    "\n",
    "### Plot Group AX: Density grouped by categories in same plot\n",
    "for x_axis_variable in ['mean_degree', 'min_degree', 'max_degree', 'core_diff', 'b_centrality']:\n",
    "\n",
    "    x1 = distribution_df[x_axis_variable][(distribution_df.is_positive==0) & (distribution_df.correctly_identified==True)]\n",
    "    x2 = distribution_df[x_axis_variable][(distribution_df.is_positive==0) & (distribution_df.correctly_identified==False)]\n",
    "    x3 = distribution_df[x_axis_variable][(distribution_df.is_positive==1) & (distribution_df.correctly_identified==True)]\n",
    "    x4 = distribution_df[x_axis_variable][(distribution_df.is_positive==1) & (distribution_df.correctly_identified==False)]\n",
    "\n",
    "    # Normalize\n",
    "    kwargs = dict(alpha=0.5, bins=100, density=True, stacked=True)\n",
    "    if x_axis_variable != \"b_centrality\":\n",
    "        plt.hist(x1, **kwargs, color='g', label='Negative Correctly Identified')\n",
    "        plt.hist(x2, **kwargs, color='b', label='Negative Incorrectly Identified')\n",
    "    else:\n",
    "        x3 = x3[x3.between(0,b_centrality_limit)]\n",
    "        x4 = x4[x4.between(0,b_centrality_limit)]\n",
    "    plt.hist(x3, **kwargs, color='r', label='Positive Correctly Identified')\n",
    "    plt.hist(x4, **kwargs, color='c', label='Positive Incorrectly Identified')\n",
    "    plt.gca().set(title=\"Density Histogram of Classifier's predictions\", ylabel='Density', xlabel = metrics_dict[x_axis_variable])\n",
    "    # plt.xlim(50,75)\n",
    "    plt.legend()\n",
    "    imageName = \"groupAX_Density Histogram of Classifier's predictions_\" + x_axis_variable\n",
    "    plt.savefig(resultsPath + imageName +'.png', dpi=resolution, bbox_inches='tight')\n",
    "    plt.close()\n",
    "\n",
    "   \n",
    "### Plot Group B: Density grouped by categories in separate subplots\n",
    "\n",
    "param_list = []\n",
    "for pos in [0,1]:\n",
    "    for corr in [True, False]:\n",
    "        param_list.append((distribution_df.is_positive==pos) & (distribution_df.correctly_identified==corr))\n",
    "titles = ['Negative Correctly Identified', 'Negative Incorrectly Identified', 'Positive Correctly Identified', 'Positive Incorrectly Identified']\n",
    "colors = ['tab:green', 'tab:blue', 'tab:red', 'tab:cyan']\n",
    "for selector in ['mean_degree', 'min_degree', 'max_degree', 'core_diff']:\n",
    "    fig, axes = plt.subplots(1, 4, figsize=(15,2.5), dpi=resolution, sharex=True, sharey=True)\n",
    "    for i, (ax, param) in enumerate(zip(axes.flatten(), param_list)):\n",
    "        x = distribution_df[selector][param]\n",
    "        ax.hist(x, alpha=0.5, bins=100, density=True, stacked=True, label=str(titles[i]), color=colors[i])\n",
    "        ax.set_title(titles[i])\n",
    "        ax.set_ylabel = \"Density\"\n",
    "        ax.set_xlabel = selector\n",
    "    plt.suptitle('Classifier Predictions: Density of {}'.format(metrics_dict[selector]), y=1)\n",
    "    plt.tight_layout()\n",
    "    imageName = \"groupB_Density Histogram of Classifier's predictions_\" + selector\n",
    "    plt.savefig(resultsPath + imageName +'.png', dpi=resolution, bbox_inches='tight')\n",
    "    plt.close()\n",
    "\n",
    "############# Repeat for Distributions that recognize only positive edges\n",
    "param_list = []\n",
    "for pos in [1]:\n",
    "    for corr in [True, False]:\n",
    "        param_list.append((distribution_df.is_positive==pos) & (distribution_df.correctly_identified==corr))\n",
    "titles = ['Positive Correctly Identified', 'Positive Incorrectly Identified']\n",
    "\n",
    "for selector in ['b_centrality']:\n",
    "    fig, axes = plt.subplots(1, 2, figsize=(15,2.5), dpi=resolution, sharex=True, sharey=True)\n",
    "    for i, (ax, param) in enumerate(zip(axes.flatten(), param_list)):\n",
    "        x = distribution_df[selector][param]\n",
    "        x = x[x.between(0,b_centrality_limit)]\n",
    "\n",
    "        ax.hist(x, alpha=0.5, bins=100, density=True, stacked=True, label=str(titles[i]), color=colors[i])\n",
    "        ax.set_title(titles[i])\n",
    "        ax.set_ylabel = \"Density\"\n",
    "        ax.set_xlabel = selector\n",
    "    plt.suptitle('Classifier Predictions: Density of {}'.format(metrics_dict[selector]), y=1)\n",
    "    plt.tight_layout()\n",
    "    imageName = \"groupB_Density Histogram of Classifier's predictions_\" + selector\n",
    "    plt.savefig(resultsPath + imageName +'.png', dpi=resolution, bbox_inches='tight')\n",
    "    plt.close()\n",
    "\n",
    "### Plot Group C: KDE \n",
    "titles = ['Negative Correctly Identified', 'Negative Incorrectly Identified', 'Positive Correctly Identified', 'Positive Incorrectly Identified']\n",
    "\n",
    "for selector in ['mean_degree', 'min_degree', 'max_degree', 'core_diff']:\n",
    "    dv_list = []\n",
    "    i=0\n",
    "    for pos in [0,1]:\n",
    "        for corr in [True, False]:\n",
    "            dv = distribution_df[selector][(distribution_df.is_positive==pos) & (distribution_df.correctly_identified==corr)].value_counts()\n",
    "            #dv = dv/dv.sum()\n",
    "            dv = dv.rename(titles[i]+ \" -  \" + selector)\n",
    "            i += 1\n",
    "            dv = dv.sort_index()\n",
    "            dv_list.append(dv)\n",
    "\n",
    "    dist_df = pd.concat(dv_list, axis=1)\n",
    "    dist_df = pd.concat(dv_list, axis=1).fillna(0)\n",
    "    kwargs = dict(title=\"Kernel Density Estimate for Classifier's Predictions: {}\".format(metrics_dict[selector]), color=colors)\n",
    "    figSrc = dist_df.plot.kde(**kwargs, bw_method=0.03)\n",
    "    fig = figSrc.get_figure()\n",
    "    imageName = \"groupC_KDE of Classifier's predictions_\" + selector\n",
    "    fig.savefig(resultsPath + imageName + \".png\", dpi=resolution, bbox_inches='tight')\n",
    "    plt.close(fig)\n",
    "    \n",
    "    \n",
    "    \n",
    "\n",
    "############# Repeat for Distributions that recognize only positive edges\n",
    "for selector in ['b_centrality']:\n",
    "    dv_list = []\n",
    "    i=2\n",
    "    for pos in [1]:\n",
    "        for corr in [True, False]:\n",
    "            x = distribution_df[selector][(distribution_df.is_positive==pos) & (distribution_df.correctly_identified==corr)]\n",
    "            x = x[x.between(0,b_centrality_limit)]\n",
    "            dv = x.value_counts()\n",
    "            #dv = dv/dv.sum()\n",
    "            dv = dv.rename(titles[i]+ \" -  \" + selector)\n",
    "            i += 1\n",
    "            dv = dv.sort_index()\n",
    "            dv_list.append(dv)\n",
    "    dist_df = pd.concat(dv_list, axis=1)\n",
    "    dist_df = pd.concat(dv_list, axis=1).fillna(0)\n",
    "    kwargs = dict(title=\"Kernel Density Estimate for Classifier's Predictions: {}\".format(metrics_dict[selector]), color=colors)\n",
    "    figSrc = dist_df.plot.kde(**kwargs)\n",
    "    fig = figSrc.get_figure()\n",
    "    imageName = \"groupC_KDE of Classifier's predictions_\" + selector\n",
    "    fig.savefig(resultsPath + imageName + \".png\", dpi=resolution, bbox_inches='tight')\n",
    "    plt.close(fig)\n",
    "\n",
    "### Compute Stats\n",
    "print(\"Total Negative Correctly Identified Samples:     {}\".format(distribution_df[(distribution_df.is_positive==0) & (distribution_df.correctly_identified==True)].shape[0]))\n",
    "print(\"Total Negative Incorrectly Identified Samples:   {}\".format(distribution_df[(distribution_df.is_positive==0) & (distribution_df.correctly_identified==False)].shape[0]))\n",
    "print(\"Total Positive Correctly Identified Samples:     {}\".format(distribution_df[(distribution_df.is_positive==1) & (distribution_df.correctly_identified==True)].shape[0]))\n",
    "print(\"Total Positive Incorrectly Identified Samples:   {}\".format(distribution_df[(distribution_df.is_positive==1) & (distribution_df.correctly_identified==False)].shape[0]))\n",
    "\n",
    "#### B-centrality-stats\n",
    "print(\"\\nB centrality plots where limited on samples with b_centrality < {}\".format(b_centrality_limit))\n",
    "print(\"Total nodes with b_centrality <  {}:   {}\".format(b_centrality_limit, distribution_df[(distribution_df.b_centrality < b_centrality_limit)].shape[0]))\n",
    "print(\"Total nodes with b_centrality >= {}:   {}\".format(b_centrality_limit, distribution_df[(distribution_df.b_centrality >= b_centrality_limit)].shape[0]))\n",
    "\n",
    "\n",
    "print(\"\\nKL Divergence Results\")\n",
    "### KL Divergence Computation\n",
    "print(\"KL Divergence between distributions from Classifier choices\")\n",
    "kl_list = []\n",
    "for index, selector in enumerate(['mean_degree', 'min_degree', 'max_degree', 'core_diff', 'b_centrality']):\n",
    "    print(\"---\" + selector + \" ~ KL(Correct | False): {}\"\\\n",
    "        .format(KL(distribution_df[distribution_df.correctly_identified==True][selector], distribution_df[distribution_df.correctly_identified==False][selector])))\n",
    "    print(\"---\" + selector + \" ~ KL(False | Correct): {}\"\\\n",
    "        .format(KL(distribution_df[distribution_df.correctly_identified==False][selector], distribution_df[distribution_df.correctly_identified==True][selector])))\n",
    "\n",
    "####### Evaluate Model's Predictions on Drug Groups\n",
    "distribution_df['sgroup'] = distribution_df.index.map(lambda x: groups_dict[x[0]])\n",
    "distribution_df['ogroup'] =distribution_df.index.map(lambda x: groups_dict[x[1]])\n",
    "\n",
    "# Print (ordered) Accuracy and total samples for each category (when at least one drug on the interaction belongs to a category)\n",
    "group_names = ['approved', 'investigational', 'experimental', 'illicit', 'vet_approved', 'withdrawn', 'nutraceutical']\n",
    "\n",
    "for name in group_names:\n",
    "    temp_df = distribution_df[(distribution_df.sgroup==name) | (distribution_df.ogroup==name)]\n",
    "    accuracy = temp_df[temp_df.correctly_identified==True].shape[0] / temp_df.shape[0]\n",
    "    neg_samples = temp_df[((temp_df.sgroup==name) | (temp_df.ogroup==name)) & (temp_df.is_positive==0)].shape[0]\n",
    "    positive_samples = temp_df[((temp_df.sgroup==name) | (temp_df.ogroup==name)) & (temp_df.is_positive==1)].shape[0]\n",
    "    neg_acc =  temp_df[(temp_df.correctly_identified==True) & (temp_df.is_positive==0)].shape[0] / neg_samples\n",
    "    pos_acc =  temp_df[(temp_df.correctly_identified==True) & (temp_df.is_positive==1)].shape[0] / positive_samples\n",
    "    print(\"Total {} Drugs in Test Samples:  {} --- Model Accuracy {}\".format(name, temp_df.shape[0], accuracy))\n",
    "    print(\"\\t\\t{} Drugs in Positive Interactions: {}    Accuracy:{}\".format(name, positive_samples, pos_acc))\n",
    "    print(\"\\t\\t{} Drugs in Negative Interactions: {}    Accuracy:{}\".format(name, neg_samples, neg_acc))"
   ]
  },
  {
   "cell_type": "code",
   "execution_count": 36,
   "metadata": {},
   "outputs": [
    {
     "name": "stdout",
     "output_type": "stream",
     "text": [
      "Node2Vec Experiment B Centrality Max: 1766.5901577324814\n"
     ]
    },
    {
     "name": "stderr",
     "output_type": "stream",
     "text": [
      "100%|██████████| 9501/9501 [1:49:02<00:00,  1.45it/s]\n"
     ]
    }
   ],
   "source": [
    "#### Model Accuracy for pairs with min_degree < N\n",
    "N = distribution_df.max_degree.max()\n",
    "print(\"Node2Vec Experiment Max Degree: {}\".format(N))\n",
    "node2vec_min_degree_recall_list = []\n",
    "node2vec_min_degree_accuracy_list = []\n",
    "for n in tqdm(range(1,N+1)):\n",
    "    lddf = distribution_df[distribution_df.min_degree <= n] #low degree df\n",
    "    total_samples, correct, false, pos, neg = lddf.shape[0], lddf[lddf.correctly_identified == True].shape[0], lddf[lddf.correctly_identified == False].shape[0], lddf[lddf.is_positive == 1].shape[0], lddf[lddf.is_positive == 0].shape[0]\n",
    "    node2vec_min_degree_recall_list.append(100.0*lddf[(lddf.is_positive == 1) & (lddf.correctly_identified == True)].shape[0] / lddf[lddf.is_positive == 1].shape[0])\n",
    "    node2vec_min_degree_accuracy_list.append(100.0*correct/(correct + false))\n",
    "\n",
    "node2vec_mean_degree_recall_list = []\n",
    "node2vec_mean_degree_accuracy_list = []\n",
    "for n in tqdm(range(6,N+1)):\n",
    "    lddf = distribution_df[distribution_df.mean_degree <= n] #low degree df\n",
    "    total_samples, correct, false, pos, neg = lddf.shape[0], lddf[lddf.correctly_identified == True].shape[0], lddf[lddf.correctly_identified == False].shape[0], lddf[lddf.is_positive == 1].shape[0], lddf[lddf.is_positive == 0].shape[0]\n",
    "    node2vec_mean_degree_recall_list.append(100.0*lddf[(lddf.is_positive == 1) & (lddf.correctly_identified == True)].shape[0] / lddf[lddf.is_positive == 1].shape[0])\n",
    "    node2vec_mean_degree_accuracy_list.append(100.0*correct/(correct + false))\n",
    "\n",
    "node2vec_max_degree_recall_list = []\n",
    "node2vec_max_degree_accuracy_list = []\n",
    "for n in tqdm(range(11,N+1)):\n",
    "    lddf = distribution_df[distribution_df.max_degree <= n] #low degree df\n",
    "    total_samples, correct, false, pos, neg = lddf.shape[0], lddf[lddf.correctly_identified == True].shape[0], lddf[lddf.correctly_identified == False].shape[0], lddf[lddf.is_positive == 1].shape[0], lddf[lddf.is_positive == 0].shape[0]\n",
    "    node2vec_max_degree_recall_list.append(100.0*lddf[(lddf.is_positive == 1) & (lddf.correctly_identified == True)].shape[0] / lddf[lddf.is_positive == 1].shape[0])\n",
    "    node2vec_max_degree_accuracy_list.append(100.0*correct/(correct + false))\n",
    "\n",
    "C = distribution_df.core_diff.max()\n",
    "node2vec_core_diff_recall_list = []\n",
    "node2vec_core_diff_accuracy_list = []\n",
    "print(\"Node2Vec Experiment Max Core Difference: {}\".format(C))\n",
    "for c in tqdm(range(0,C+1)):\n",
    "    lddf = distribution_df[distribution_df.core_diff <= c] #low degree df\n",
    "    total_samples, correct, false, pos, neg = lddf.shape[0], lddf[lddf.correctly_identified == True].shape[0], lddf[lddf.correctly_identified == False].shape[0], lddf[lddf.is_positive == 1].shape[0], lddf[lddf.is_positive == 0].shape[0]\n",
    "    node2vec_core_diff_recall_list.append(100.0*lddf[(lddf.is_positive == 1) & (lddf.correctly_identified == True)].shape[0] / lddf[lddf.is_positive == 1].shape[0])\n",
    "    node2vec_core_diff_accuracy_list.append(100.0*correct/(correct + false))\n",
    "\n",
    "B = distribution_df.b_centrality.max()\n",
    "node2vec_b_centrality_recall_list = []\n",
    "node2vec_b_centrality_accuracy_list = []\n",
    "print(\"Node2Vec Experiment B Centrality Max: {}\".format(B))\n",
    "for c in tqdm(np.arange(0.01,B+0.1, 0.1)):\n",
    "    lddf = distribution_df[distribution_df.b_centrality <= c] #low degree df\n",
    "    total_samples, correct, false, pos, neg = lddf.shape[0], lddf[lddf.correctly_identified == True].shape[0], lddf[lddf.correctly_identified == False].shape[0], lddf[lddf.is_positive == 1].shape[0], lddf[lddf.is_positive == 0].shape[0]\n",
    "    node2vec_b_centrality_recall_list.append(100.0*lddf[(lddf.is_positive == 1) & (lddf.correctly_identified == True)].shape[0] / lddf[lddf.is_positive == 1].shape[0])\n",
    "    node2vec_b_centrality_accuracy_list.append(100.0*correct/(correct + false))"
   ]
  },
  {
   "cell_type": "code",
   "execution_count": 25,
   "metadata": {},
   "outputs": [],
   "source": [
    "### Save node2vec distribution_df\n",
    "n2v_distribution_df = distribution_df"
   ]
  },
  {
   "cell_type": "code",
   "execution_count": 23,
   "metadata": {},
   "outputs": [
    {
     "name": "stdout",
     "output_type": "stream",
     "text": [
      "\n",
      "Cross-Experiment KL Divergence Results\n",
      "KL Divergence between distributions from Classifier choices\n",
      "---mean_degree ~ KL(N2V Correct | M2V Corrent): 0.017632281614255466\n",
      "---mean_degree ~ KL(M2V Correct | N2V Corrent): 0.018012517164554792\n",
      "---mean_degree ~ KL(N2V False | M2V False): 0.052268235303395326\n",
      "---mean_degree ~ KL(M2V False | N2V False): 0.04741029338167039\n",
      "\n",
      "---min_degree ~ KL(N2V Correct | M2V Corrent): 0.0188604312747472\n",
      "---min_degree ~ KL(M2V Correct | N2V Corrent): 0.019228732610609853\n",
      "---min_degree ~ KL(N2V False | M2V False): 0.1591666991328424\n",
      "---min_degree ~ KL(M2V False | N2V False): 0.1997241594641146\n",
      "\n",
      "---max_degree ~ KL(N2V Correct | M2V Corrent): 0.009616856999478424\n",
      "---max_degree ~ KL(M2V Correct | N2V Corrent): 0.010039933457282622\n",
      "---max_degree ~ KL(N2V False | M2V False): 0.09293503693410834\n",
      "---max_degree ~ KL(M2V False | N2V False): 0.11099922255014526\n",
      "\n",
      "---core_diff ~ KL(N2V Correct | M2V Corrent): 0.013483585587077795\n",
      "---core_diff ~ KL(M2V Correct | N2V Corrent): 0.013836909714646267\n",
      "---core_diff ~ KL(N2V False | M2V False): 0.0876251510165155\n",
      "---core_diff ~ KL(M2V False | N2V False): 0.10392407724466399\n",
      "\n",
      "---b_centrality ~ KL(N2V Correct | M2V Corrent): 0.17010723196331065\n",
      "---b_centrality ~ KL(M2V Correct | N2V Corrent): 0.10971670264410247\n",
      "---b_centrality ~ KL(N2V False | M2V False): 0.08553287100944912\n",
      "---b_centrality ~ KL(M2V False | N2V False): 0.07196098686012568\n",
      "\n"
     ]
    }
   ],
   "source": [
    "#### Cross-Experiment KL Divergence\n",
    "print(\"\\nCross-Experiment KL Divergence Results\")\n",
    "### KL Divergence Computation\n",
    "print(\"KL Divergence between distributions from Classifier choices\")\n",
    "kl_list = []\n",
    "for index, selector in enumerate(['mean_degree', 'min_degree', 'max_degree', 'core_diff', 'b_centrality']):\n",
    "    print(\"---\" + selector + \" ~ KL(N2V Correct | M2V Corrent): {}\"\\\n",
    "        .format(KL(n2v_distribution_df[n2v_distribution_df.correctly_identified==True][selector], m2v_distribution_df[m2v_distribution_df.correctly_identified==True][selector])))\n",
    "    print(\"---\" + selector + \" ~ KL(M2V Correct | N2V Corrent): {}\"\\\n",
    "        .format(KL(m2v_distribution_df[m2v_distribution_df.correctly_identified==True][selector], n2v_distribution_df[n2v_distribution_df.correctly_identified==True][selector])))\n",
    "    print(\"---\" + selector + \" ~ KL(N2V False | M2V False): {}\"\\\n",
    "        .format(KL(n2v_distribution_df[n2v_distribution_df.correctly_identified==False][selector], m2v_distribution_df[m2v_distribution_df.correctly_identified==False][selector])))\n",
    "    print(\"---\" + selector + \" ~ KL(M2V False | N2V False): {}\\n\"\\\n",
    "        .format(KL(m2v_distribution_df[m2v_distribution_df.correctly_identified==False][selector], n2v_distribution_df[n2v_distribution_df.correctly_identified==False][selector])))"
   ]
  },
  {
   "cell_type": "code",
   "execution_count": null,
   "metadata": {},
   "outputs": [],
   "source": [
    "############################### Hybrid Model Experiment ################################################"
   ]
  },
  {
   "cell_type": "code",
   "execution_count": 14,
   "metadata": {},
   "outputs": [],
   "source": [
    "structures_df = structures_df.dropna(subset = ['node2vec', 'mol2vec'])\n",
    "structures_df['mixedvec'] = structures_df.apply(lambda x: np.concatenate((x.node2vec, x.mol2vec.vec)), axis=1)"
   ]
  },
  {
   "cell_type": "code",
   "execution_count": 15,
   "metadata": {},
   "outputs": [
    {
     "name": "stderr",
     "output_type": "stream",
     "text": [
      "100%|██████████| 2415906/2415906 [03:45<00:00, 10727.56it/s]\n"
     ]
    },
    {
     "name": "stdout",
     "output_type": "stream",
     "text": [
      "Classification Train DF shape:(1699053, 4)\n",
      "Classification Test DF shape:(716853, 4)\n"
     ]
    }
   ],
   "source": [
    "from tqdm import tqdm\n",
    "from random import random\n",
    "#### Create Classification Dataframe with true samples {features_vector, 1} ####\n",
    "classification_train_rows_list = []\n",
    "classification_test_rows_list = []\n",
    "MOVE_TO_TRAIN_PROB = 0.70\n",
    "mv_dict = dict(zip(structures_df.DATABASE_ID, structures_df.mixedvec))\n",
    "\n",
    "for index, row in tqdm(valid_interactions.iterrows(), total=valid_interactions.shape[0]):\n",
    "    s_mv = mv_dict[row['SDID']]\n",
    "    scid = row['SDID']\n",
    "    o_mv = mv_dict[row['ODID']]\n",
    "    ocid = row['ODID']\n",
    "    is_test = (row['SDID'],row['ODID']) in removed_set or (row['ODID'], row['SDID']) in removed_set\n",
    "    try:   \n",
    "        fv_direct = np.concatenate((s_mv, o_mv))\n",
    "        if is_test and (random() > MOVE_TO_TRAIN_PROB): # with prob to move to train\n",
    "            # fv_opposite = np.concatenate((o_node2vec, s_node2vec)) ### track opposite direction of interacts relationship\n",
    "            classification_test_rows_list.append([fv_direct, 1, scid, ocid])\n",
    "            # classification_test_rows_list.append([fv_opposite, 1])  ### opposite is not needed since neo4j contains reverse of each edge\n",
    "        else:\n",
    "            classification_train_rows_list.append([fv_direct, 1, scid, ocid])\n",
    "    except IndexError:\n",
    "        print(\"IndexError on index: {} for subject: {} and object: {}\".format(index, scid, ocid))\n",
    "\n",
    "    \n",
    "classification_train_df = pd.DataFrame(data = classification_train_rows_list, columns=['features_vector', 'class', 'SDID', 'ODID']) \n",
    "classification_test_df = pd.DataFrame(data = classification_test_rows_list, columns=['features_vector', 'class', 'SDID', 'ODID']) \n",
    "# Remove duplicates\n",
    "#classification_df = classification_df[~classification_df['features_vector'].apply(tuple).duplicated()]\n",
    "print(\"Classification Train DF shape:{}\".format(classification_train_df.shape))\n",
    "print(\"Classification Test DF shape:{}\".format(classification_test_df.shape))"
   ]
  },
  {
   "cell_type": "code",
   "execution_count": 16,
   "metadata": {},
   "outputs": [
    {
     "name": "stdout",
     "output_type": "stream",
     "text": [
      "Initiating Multithreading Execution\n",
      "Exited Multithreaded Section\n",
      "Creating Dataframe with negative samples\n",
      "Removing Duplicate vectors\n"
     ]
    }
   ],
   "source": [
    "from random import randrange, choice\n",
    "# Add samples with substances that do not interact\n",
    "# Generate random tuples from the substances list, and if they do not appear on the interactions_df add them as a non interaction\n",
    "\n",
    "def getSetWithAllPairs(df, col1, col2):\n",
    "    return set(list(zip(df[col1],df[col2])))\n",
    " \n",
    "def getNegSamples(pairs_to_avoid, substances_df, neg_sample_size, result_list, result_idx, bad_cids):\n",
    "    subs_cid_list = list(set().union(valid_interactions['SDID'].unique(), valid_interactions['ODID'].unique()))\n",
    "    neg_examples = []\n",
    "    while len(neg_examples) < neg_sample_size:\n",
    "        # Generate random pair\n",
    "        cid_a = choice(subs_cid_list)\n",
    "        cid_b = choice(subs_cid_list)\n",
    "        if((cid_a in bad_cids) or (cid_b in bad_cids)):\n",
    "            continue\n",
    "        # flag1 = not phsu_interacts_df.loc[(phsu_interacts_df['snode_cid'] == cid_a) & (phsu_interacts_df['onode_cid'] == cid_b)].any().all()\n",
    "        # flag2 = not phsu_interacts_df.loc[(phsu_interacts_df['snode_cid'] == cid_b) & (phsu_interacts_df['onode_cid'] == cid_a)].any().all()\n",
    "        flag1 = (cid_a, cid_b) not in pairs_to_avoid\n",
    "        flag2 = (cid_b, cid_a) not in pairs_to_avoid\n",
    "        if(cid_a != cid_b and flag1 and flag2):\n",
    "            #s_mv = structures_df[structures_df.DATABASE_ID == row[cid_a]].mixedvec\n",
    "            #o_mv = structures_df[structures_df.DATABASE_ID == row[cid_b]].mixedvec\n",
    "            try:   \n",
    "                # fv_direct = np.concatenate((s_mv.tolist(), o_mv.tolist()))\n",
    "                # fv_opposite = np.concatenate((o_mv.tolist(), s_mv.tolist())) ### track opposite direction of interacts relationship\n",
    "                neg_examples.append([0, cid_a, cid_b])\n",
    "                neg_examples.append([0, cid_b, cid_a])\n",
    "            except IndexError:\n",
    "                print(\"IndexError on index: {} for subject: {} and object: {}\".format(index, cid_a, cid_b))\n",
    "    result_list[result_idx-1] = neg_examples\n",
    "    return\n",
    "\n",
    "thread_list = []\n",
    "NEG_SAMPLE_SIZE = 700000 # For each thread\n",
    "THREADS = 4\n",
    "result_list = [None]*THREADS\n",
    "pairs_2_avoid = getSetWithAllPairs(valid_interactions, 'SDID', 'ODID')\n",
    "bad_cids = {2122, 6227}\n",
    "print(\"Initiating Multithreading Execution\")\n",
    "for i in range(THREADS):\n",
    "    thread = Thread(target = getNegSamples, args = [pairs_2_avoid,valid_interactions, NEG_SAMPLE_SIZE, result_list, i, bad_cids])\n",
    "    thread_list.append(thread)\n",
    "    thread.start()\n",
    "\n",
    "for t in thread_list:\n",
    "    t.join()\n",
    "\n",
    "print(\"Exited Multithreaded Section\")\n",
    "\n",
    "neg_examples = []\n",
    "for l in result_list:\n",
    "    if l != None: neg_examples.extend(l)\n",
    "            \n",
    "print(\"Creating Dataframe with negative samples\")\n",
    "neg_examples_df = pd.DataFrame(data = neg_examples, columns=['class', 'SDID', 'ODID'])\n",
    "print(\"Removing Duplicate vectors\") \n",
    "#Remove duplicates\n",
    "# neg_examples_df = neg_examples_df[~neg_examples_df['features_vector'].apply(str).duplicated()] \n",
    "neg_examples_df = neg_examples_df.drop_duplicates()\n",
    "\n",
    "# Create features_vector column\n",
    "neg_examples_df[\"features_vector\"] = neg_examples_df.apply(lambda r: np.concatenate((mv_dict[r.SDID], mv_dict[r.ODID])), axis = 1)"
   ]
  },
  {
   "cell_type": "code",
   "execution_count": 17,
   "metadata": {},
   "outputs": [
    {
     "name": "stdout",
     "output_type": "stream",
     "text": [
      "Shape of X_train: 2862074 ------ Class_0: class    1417479\n",
      "dtype: int64 -- Class_1: class    1444595\n",
      "dtype: int64\n",
      "Shape of X_test: 1538451  ------ Class_0: class    821598\n",
      "dtype: int64 -- Class_1: class    716853\n",
      "dtype: int64\n",
      "Shape of X_val: 505073  ------ Class_0: class    250615\n",
      "dtype: int64  -- Class_1: class    254458\n",
      "dtype: int64\n",
      "Plotting counts for Test Data\n"
     ]
    },
    {
     "data": {
      "text/plain": [
       "<AxesSubplot:xlabel='class', ylabel='count'>"
      ]
     },
     "execution_count": 17,
     "metadata": {},
     "output_type": "execute_result"
    },
    {
     "data": {
      "image/png": "[encoded data removed]",
      "text/plain": [
       "<Figure size 432x288 with 1 Axes>"
      ]
     },
     "metadata": {
      "needs_background": "light"
     },
     "output_type": "display_data"
    }
   ],
   "source": [
    "from sklearn.preprocessing import StandardScaler    \n",
    "from sklearn.model_selection import train_test_split\n",
    "from sklearn.metrics import confusion_matrix, classification_report\n",
    "### Split negative examples df to train and test\n",
    "from math import floor\n",
    "test_sample_factor = 0.33\n",
    "neg_examples_test = neg_examples_df.sample(floor(test_sample_factor * neg_examples_df.shape[0]))\n",
    "neg_examples_train = neg_examples_df.drop(neg_examples_test.index)\n",
    "\n",
    "### Create train and test dataframes\n",
    "train_df = pd.concat([classification_train_df, neg_examples_train], axis = 0).sample(frac = 1)\n",
    "test_df = pd.concat([classification_test_df, neg_examples_test], axis = 0).sample(frac = 1)\n",
    "\n",
    "X_train, y_train, train_pairs = train_df[['features_vector']], train_df[['class']], train_df[['SDID', 'ODID']]\n",
    "X_train, X_val, y_train, y_val = train_test_split(X_train, y_train, test_size=0.15, random_state=69)\n",
    "X_test, y_test, test_pairs = test_df[['features_vector']], test_df[['class']], test_df[['SDID', 'ODID']]\n",
    "### Create Test Dataframe with positive and negative examples of interactions\n",
    "\n",
    "print(\"Shape of X_train: {} ------ Class_0: {} -- Class_1: {}\".format(X_train.shape[0],  y_train[(y_train.values==0)].count(), y_train[(y_train.values==1)].count()))\n",
    "print(\"Shape of X_test: {}  ------ Class_0: {} -- Class_1: {}\".format(X_test.shape[0], y_test[(y_test.values==0)].count(), y_test[(y_test.values==1)].count()))\n",
    "print(\"Shape of X_val: {}  ------ Class_0: {}  -- Class_1: {}\".format(X_val.shape[0], y_val[(y_val.values==0)].count(), y_val[(y_val.values==1)].count()))\n",
    "\n",
    "print(\"Plotting counts for Test Data\")\n",
    "sns.countplot(x = 'class', data=pd.DataFrame(data=y_test, columns=['class']))"
   ]
  },
  {
   "cell_type": "code",
   "execution_count": 18,
   "metadata": {},
   "outputs": [
    {
     "data": {
      "text/plain": [
       "<AxesSubplot:xlabel='class', ylabel='count'>"
      ]
     },
     "execution_count": 18,
     "metadata": {},
     "output_type": "execute_result"
    },
    {
     "data": {
      "image/png": "[encoded data removed]",
      "text/plain": [
       "<Figure size 432x288 with 1 Axes>"
      ]
     },
     "metadata": {
      "needs_background": "light"
     },
     "output_type": "display_data"
    }
   ],
   "source": [
    "sns.countplot(x = 'class', data=pd.DataFrame(data=y_train, columns=['class']))"
   ]
  },
  {
   "cell_type": "code",
   "execution_count": 19,
   "metadata": {},
   "outputs": [
    {
     "data": {
      "text/plain": [
       "<AxesSubplot:xlabel='class', ylabel='count'>"
      ]
     },
     "execution_count": 19,
     "metadata": {},
     "output_type": "execute_result"
    },
    {
     "data": {
      "image/png": "[encoded data removed]",
      "text/plain": [
       "<Figure size 432x288 with 1 Axes>"
      ]
     },
     "metadata": {
      "needs_background": "light"
     },
     "output_type": "display_data"
    }
   ],
   "source": [
    "sns.countplot(x = 'class', data=pd.DataFrame(data=y_val, columns=['class']))"
   ]
  },
  {
   "cell_type": "code",
   "execution_count": 20,
   "metadata": {},
   "outputs": [
    {
     "name": "stderr",
     "output_type": "stream",
     "text": [
      "C:\\Users\\user\\AppData\\Local\\Temp/ipykernel_7020/4006307011.py:16: UserWarning: Creating a tensor from a list of numpy.ndarrays is extremely slow. Please consider converting the list to a single numpy.ndarray with numpy.array() before converting to a tensor. (Triggered internally at  ..\\torch\\csrc\\utils\\tensor_new.cpp:201.)\n",
      "  train_data = TrainData(torch.FloatTensor(X_train.features_vector.values.tolist()),\n"
     ]
    }
   ],
   "source": [
    "## train dataclass TrainData(Dataset):\n",
    "\n",
    "class TrainData(Dataset):\n",
    "    \n",
    "    def __init__(self, X_data, y_data):\n",
    "        self.X_data = X_data\n",
    "        self.y_data = y_data\n",
    "        \n",
    "    def __getitem__(self, index):\n",
    "        return self.X_data[index], self.y_data[index]\n",
    "        \n",
    "    def __len__ (self):\n",
    "        return len(self.X_data)\n",
    "\n",
    "\n",
    "train_data = TrainData(torch.FloatTensor(X_train.features_vector.values.tolist()), \n",
    "                       torch.FloatTensor(list(map(lambda x: x[0], y_train.values.tolist()))))\n",
    "## test data    \n",
    "\n",
    "class TestData(Dataset):\n",
    "    \n",
    "    def __init__(self, X_data):\n",
    "        self.X_data = X_data\n",
    "        \n",
    "    def __getitem__(self, index):\n",
    "        return self.X_data[index]\n",
    "        \n",
    "    def __len__ (self):\n",
    "        return len(self.X_data)\n",
    "    \n",
    "\n",
    "test_data = TestData(torch.FloatTensor(X_test.features_vector.values.tolist()))\n",
    "val_data = TestData(torch.FloatTensor(X_val.features_vector.values.tolist()))"
   ]
  },
  {
   "cell_type": "code",
   "execution_count": 21,
   "metadata": {},
   "outputs": [
    {
     "name": "stdout",
     "output_type": "stream",
     "text": [
      "cuda\n",
      "BinaryClassification(\n",
      "  (layer_1): Linear(in_features=856, out_features=2048, bias=True)\n",
      "  (layer_2): Linear(in_features=2048, out_features=1024, bias=True)\n",
      "  (layer_3): Linear(in_features=1024, out_features=512, bias=True)\n",
      "  (layer_out): Linear(in_features=512, out_features=1, bias=True)\n",
      "  (relu): ReLU()\n",
      "  (dropout): Dropout(p=0.1, inplace=False)\n",
      "  (batchnorm1): BatchNorm1d(2048, eps=1e-05, momentum=0.1, affine=True, track_running_stats=True)\n",
      "  (batchnorm2): BatchNorm1d(1024, eps=1e-05, momentum=0.1, affine=True, track_running_stats=True)\n",
      "  (batchnorm3): BatchNorm1d(512, eps=1e-05, momentum=0.1, affine=True, track_running_stats=True)\n",
      ")\n"
     ]
    }
   ],
   "source": [
    "class BinaryClassification(nn.Module):\n",
    "    def __init__(self):\n",
    "        super(BinaryClassification, self).__init__()        # Number of input features is 256.\n",
    "        self.layer_1 = nn.Linear(856, 2048)\n",
    "        self.layer_2 = nn.Linear(2048, 1024)\n",
    "        self.layer_3 = nn.Linear(1024, 512)\n",
    "        self.layer_out = nn.Linear(512, 1)\n",
    "        \n",
    "        self.relu = nn.ReLU()\n",
    "        self.dropout = nn.Dropout(p=0.1)\n",
    "        self.batchnorm1 = nn.BatchNorm1d(2048)\n",
    "        self.batchnorm2 = nn.BatchNorm1d(1024)\n",
    "        self.batchnorm3 = nn.BatchNorm1d(512)\n",
    "        \n",
    "    def forward(self, inputs):\n",
    "        x = self.relu(self.layer_1(inputs))\n",
    "        x = self.batchnorm1(x)\n",
    "        x = self.relu(self.layer_2(x))\n",
    "        x = self.batchnorm2(x)\n",
    "        x = self.dropout(x)\n",
    "        x = self.relu(self.layer_3(x))\n",
    "        x = self.batchnorm3(x)\n",
    "        x = self.dropout(x)\n",
    "\n",
    "        x = self.layer_out(x)\n",
    "        \n",
    "        return x\n",
    "\n",
    "def binary_acc(y_pred, y_test):\n",
    "    y_pred_tag = torch.round(torch.sigmoid(y_pred))\n",
    "\n",
    "    correct_results_sum = (y_pred_tag == y_test).sum().float()\n",
    "    acc = correct_results_sum/y_test.shape[0]\n",
    "    acc = torch.round(acc * 100)\n",
    "    \n",
    "    return acc\n",
    "\n",
    "\n",
    "device = torch.device(\"cuda\" if torch.cuda.is_available() else \"cpu\")\n",
    "#device = torch.device(\"cuda\")\n",
    "print(device)\n",
    "\n",
    "\n",
    "# Define Model\n",
    "model = BinaryClassification()\n",
    "model.cuda()\n",
    "model.to(device)\n",
    "print(model)"
   ]
  },
  {
   "cell_type": "code",
   "execution_count": 22,
   "metadata": {},
   "outputs": [
    {
     "name": "stdout",
     "output_type": "stream",
     "text": [
      "cuda\n",
      "Epoch 001: | Loss: 0.39186 | Acc: 81.967 | Val Acc: 0.8323133487634461\n",
      "Epoch 002: | Loss: 0.55015 | Acc: 82.159 | Val Acc: 0.8468617407780658\n",
      "Epoch 003: | Loss: 0.32247 | Acc: 85.641 | Val Acc: 0.8599073797253071\n",
      "Epoch 004: | Loss: 0.28707 | Acc: 87.320 | Val Acc: 0.8781542470098381\n",
      "Epoch 005: | Loss: 0.25980 | Acc: 88.646 | Val Acc: 0.8881805204396196\n",
      "Epoch 006: | Loss: 0.23868 | Acc: 89.670 | Val Acc: 0.891647346027208\n",
      "Epoch 007: | Loss: 0.22384 | Acc: 90.432 | Val Acc: 0.9045524112356036\n",
      "Epoch 008: | Loss: 0.23187 | Acc: 90.930 | Val Acc: 0.9072292520091155\n",
      "Epoch 009: | Loss: 0.19978 | Acc: 91.502 | Val Acc: 0.9109138678963239\n",
      "Epoch 010: | Loss: 0.18985 | Acc: 91.955 | Val Acc: 0.913465974225508\n",
      "Epoch 011: | Loss: 0.25467 | Acc: 92.403 | Val Acc: 0.9184474323513631\n",
      "Epoch 012: | Loss: 0.19377 | Acc: 92.763 | Val Acc: 0.9185602873248025\n",
      "Epoch 013: | Loss: 0.17671 | Acc: 92.824 | Val Acc: 0.9233892922409236\n",
      "Epoch 014: | Loss: 0.16050 | Acc: 93.278 | Val Acc: 0.9245119022398742\n",
      "Epoch 015: | Loss: 0.15410 | Acc: 93.569 | Val Acc: 0.9254068223801312\n",
      "Epoch 016: | Loss: 0.14845 | Acc: 93.815 | Val Acc: 0.927408513224821\n",
      "Epoch 017: | Loss: 0.32778 | Acc: 93.668 | Val Acc: 0.9292102329762233\n",
      "Epoch 018: | Loss: 0.13978 | Acc: 94.194 | Val Acc: 0.9307545641917109\n",
      "Epoch 019: | Loss: 0.13529 | Acc: 94.410 | Val Acc: 0.9338749052117219\n",
      "Epoch 020: | Loss: 0.13151 | Acc: 94.582 | Val Acc: 0.9304397582131692\n",
      "Epoch 021: | Loss: 0.12805 | Acc: 94.746 | Val Acc: 0.934914358914454\n",
      "Epoch 022: | Loss: 0.13005 | Acc: 94.895 | Val Acc: 0.9356845446103831\n",
      "Epoch 023: | Loss: 0.12079 | Acc: 95.035 | Val Acc: 0.937197197236835\n",
      "Epoch 024: | Loss: 0.11746 | Acc: 95.179 | Val Acc: 0.9381416151724602\n",
      "Epoch 025: | Loss: 0.11952 | Acc: 95.291 | Val Acc: 0.9402343819606275\n",
      "Epoch 026: | Loss: 0.11232 | Acc: 95.404 | Val Acc: 0.9393295622612969\n",
      "Epoch 027: | Loss: 0.10929 | Acc: 95.528 | Val Acc: 0.9389395196337955\n",
      "Epoch 028: | Loss: 0.10834 | Acc: 95.607 | Val Acc: 0.9387989458949498\n",
      "Epoch 029: | Loss: 0.10455 | Acc: 95.715 | Val Acc: 0.9423786264559777\n",
      "Epoch 030: | Loss: 0.10377 | Acc: 95.792 | Val Acc: 0.9427647092598496\n",
      "Epoch 031: | Loss: 0.10039 | Acc: 95.894 | Val Acc: 0.9435507342502965\n",
      "Epoch 032: | Loss: 0.11777 | Acc: 95.939 | Val Acc: 0.943837821463432\n",
      "Epoch 033: | Loss: 0.09623 | Acc: 96.052 | Val Acc: 0.9421350973027661\n",
      "Epoch 034: | Loss: 0.10234 | Acc: 96.079 | Val Acc: 0.9423627871614598\n",
      "Epoch 035: | Loss: 0.09249 | Acc: 96.208 | Val Acc: 0.9421212379200631\n",
      "Epoch 036: | Loss: 0.09104 | Acc: 96.296 | Val Acc: 0.9456217220085017\n",
      "Epoch 037: | Loss: 0.08867 | Acc: 96.363 | Val Acc: 0.9447822393990571\n",
      "Epoch 038: | Loss: 0.08783 | Acc: 96.426 | Val Acc: 0.9450495274940454\n",
      "Epoch 039: | Loss: 0.08578 | Acc: 96.488 | Val Acc: 0.9469482629243694\n",
      "Epoch 040: | Loss: 0.08531 | Acc: 96.539 | Val Acc: 0.9454118513561406\n",
      "Epoch 041: | Loss: 0.08470 | Acc: 96.621 | Val Acc: 0.9446000875121022\n",
      "Epoch 042: | Loss: 0.08145 | Acc: 96.662 | Val Acc: 0.9479698974207689\n",
      "Epoch 043: | Loss: 0.07969 | Acc: 96.731 | Val Acc: 0.9453267151481073\n",
      "Epoch 044: | Loss: 0.07848 | Acc: 96.787 | Val Acc: 0.9474986784088637\n",
      "Epoch 045: | Loss: 0.07734 | Acc: 96.834 | Val Acc: 0.9462275750238084\n",
      "Epoch 046: | Loss: 0.07577 | Acc: 96.883 | Val Acc: 0.9489558935045033\n",
      "Epoch 047: | Loss: 0.07534 | Acc: 96.924 | Val Acc: 0.9456791394511288\n",
      "Epoch 048: | Loss: 0.07409 | Acc: 96.978 | Val Acc: 0.9302041487072166\n",
      "Epoch 049: | Loss: 0.08241 | Acc: 96.966 | Val Acc: 0.9494053334864465\n",
      "Epoch 050: | Loss: 0.07141 | Acc: 97.065 | Val Acc: 0.9478253638582937\n",
      "Keeping model from epoch: 49\n"
     ]
    }
   ],
   "source": [
    "from sklearn.metrics import accuracy_score\n",
    "### Train the model\n",
    "# Model Parameters\n",
    "EPOCHS = 50\n",
    "BATCH_SIZE = 64\n",
    "LEARNING_RATE = 0.001\n",
    "EARLY_STOPPING = 5\n",
    "\n",
    "criterion = nn.BCEWithLogitsLoss()\n",
    "optimizer = optim.Adam(model.parameters(), lr=LEARNING_RATE)\n",
    "bad_progress_counter = 0\n",
    "model_epoch = 0\n",
    "best_val_acc = 0\n",
    "\n",
    "# Create Loaders\n",
    "train_loader = DataLoader(dataset=train_data, batch_size=BATCH_SIZE, shuffle=True)\n",
    "test_loader = DataLoader(dataset=test_data, batch_size=1)\n",
    "val_loader = DataLoader(dataset=val_data, batch_size=1)\n",
    "\n",
    "print(device)\n",
    "model.train()\n",
    "\n",
    "for e in range(1, EPOCHS+1):\n",
    "    epoch_loss = 0\n",
    "    epoch_acc = 0\n",
    "    for X_batch, y_batch in train_loader:\n",
    "        X_batch, y_batch = X_batch.to(device), y_batch.to(device)\n",
    "        optimizer.zero_grad()        \n",
    "        y_pred = model(X_batch.cuda()).to(device)\n",
    "        \n",
    "        loss = criterion(y_pred, y_batch.unsqueeze(1)).to(device)\n",
    "        acc = binary_acc(y_pred, y_batch.unsqueeze(1)).to(device)\n",
    "        \n",
    "        loss.backward()\n",
    "        optimizer.step()\n",
    "        \n",
    "        epoch_loss += loss.item()\n",
    "        epoch_acc += acc.item()\n",
    "    # validation\n",
    "    model.eval()\n",
    "    y_pred_list = []\n",
    "    with torch.no_grad():\n",
    "        for X_batch in val_loader:\n",
    "            X_batch = X_batch.to(device)\n",
    "            y_val_pred = model(X_batch)\n",
    "            y_val_pred = torch.sigmoid(y_val_pred)\n",
    "            y_pred_tag = torch.round(y_val_pred)\n",
    "            y_pred_list.append(y_pred_tag.cpu().numpy())\n",
    "        y_pred_list = [a.squeeze().tolist() for a in y_pred_list]\n",
    "    val_acc = accuracy_score(y_pred_list, y_val)\n",
    "    if e==1: \n",
    "        best_val_acc = val_acc\n",
    "    elif best_val_acc <= val_acc:\n",
    "        bad_progress_counter = 0\n",
    "    else:\n",
    "        bad_progress_counter +=1\n",
    "    \n",
    "    if bad_progress_counter == EARLY_STOPPING:\n",
    "        print(\"Applying Early Stop\")\n",
    "        break\n",
    "    # End of validation step\n",
    "\n",
    "    print(f'Epoch {e+0:03}: | Loss: {epoch_loss/len(train_loader):.5f} | Acc: {epoch_acc/len(train_loader):.3f} | Val Acc: {val_acc}')\n",
    "    if(val_acc > best_val_acc):\n",
    "        hybrid = model   #Store model\n",
    "        model_epoch = e\n",
    "        best_val_acc = val_acc\n",
    "    \n",
    "print(\"Keeping model from epoch: {}\".format(model_epoch))"
   ]
  },
  {
   "cell_type": "code",
   "execution_count": 29,
   "metadata": {},
   "outputs": [
    {
     "data": {
      "text/plain": [
       "49"
      ]
     },
     "execution_count": 29,
     "metadata": {},
     "output_type": "execute_result"
    }
   ],
   "source": [
    "model_epoch"
   ]
  },
  {
   "cell_type": "code",
   "execution_count": 33,
   "metadata": {},
   "outputs": [
    {
     "name": "stdout",
     "output_type": "stream",
     "text": [
      "cuda\n",
      "Epoch 051: | Loss: 0.34769 | Acc: 84.466 | Val Acc: 0.8733054429755699\n",
      "Applying Early Stop\n",
      "Keeping model from epoch: 49\n"
     ]
    }
   ],
   "source": [
    "########### Extra Training\n",
    "print(device)\n",
    "\n",
    "for e in range(51, 80):\n",
    "    model.train()\n",
    "    epoch_loss = 0\n",
    "    epoch_acc = 0\n",
    "    for X_batch, y_batch in train_loader:\n",
    "        X_batch, y_batch = X_batch.to(device), y_batch.to(device)\n",
    "        optimizer.zero_grad()        \n",
    "        y_pred = model(X_batch.cuda()).to(device)\n",
    "        \n",
    "        loss = criterion(y_pred, y_batch.unsqueeze(1)).to(device)\n",
    "        acc = binary_acc(y_pred, y_batch.unsqueeze(1)).to(device)\n",
    "        \n",
    "        loss.backward()\n",
    "        optimizer.step()\n",
    "        \n",
    "        epoch_loss += loss.item()\n",
    "        epoch_acc += acc.item()\n",
    "    # validation\n",
    "    model.eval()\n",
    "    y_pred_list = []\n",
    "    with torch.no_grad():\n",
    "        for X_batch in val_loader:\n",
    "            X_batch = X_batch.to(device)\n",
    "            y_val_pred = model(X_batch)\n",
    "            y_val_pred = torch.sigmoid(y_val_pred)\n",
    "            y_pred_tag = torch.round(y_val_pred)\n",
    "            y_pred_list.append(y_pred_tag.cpu().numpy())\n",
    "        y_pred_list = [a.squeeze().tolist() for a in y_pred_list]\n",
    "    val_acc = accuracy_score(y_pred_list, y_val)\n",
    "    if e==1: \n",
    "        best_val_acc = val_acc\n",
    "    elif best_val_acc <= val_acc:\n",
    "        bad_progress_counter = 0\n",
    "    else:\n",
    "        bad_progress_counter +=1\n",
    "    \n",
    "    if bad_progress_counter == EARLY_STOPPING:\n",
    "        print(\"Applying Early Stop\")\n",
    "        break\n",
    "    # End of validation step\n",
    "\n",
    "    print(f'Epoch {e+0:03}: | Loss: {epoch_loss/len(train_loader):.5f} | Acc: {epoch_acc/len(train_loader):.3f} | Val Acc: {val_acc}')\n",
    "    if(val_acc > best_val_acc):\n",
    "        hybrid = model   #Store model\n",
    "        model_epoch = e\n",
    "        best_val_acc = val_acc\n",
    "    \n",
    "print(\"Keeping model from epoch: {}\".format(model_epoch))"
   ]
  },
  {
   "cell_type": "code",
   "execution_count": 23,
   "metadata": {},
   "outputs": [
    {
     "name": "stderr",
     "output_type": "stream",
     "text": [
      "100%|██████████| 1538451/1538451 [28:14<00:00, 908.14it/s] \n"
     ]
    },
    {
     "name": "stdout",
     "output_type": "stream",
     "text": [
      "              precision    recall  f1-score   support\n",
      "\n",
      "           0       0.96      0.94      0.95    821598\n",
      "           1       0.93      0.95      0.94    716853\n",
      "\n",
      "    accuracy                           0.95   1538451\n",
      "   macro avg       0.95      0.95      0.95   1538451\n",
      "weighted avg       0.95      0.95      0.95   1538451\n",
      "\n"
     ]
    }
   ],
   "source": [
    "### Test the model\n",
    "y_pred_list = []\n",
    "hybrid.eval()\n",
    "with torch.no_grad():\n",
    "    for X_batch in tqdm(test_loader, total = len(test_loader)):\n",
    "        X_batch = X_batch.to(device)\n",
    "        y_test_pred = hybrid(X_batch)\n",
    "        y_test_pred = torch.sigmoid(y_test_pred)\n",
    "        y_pred_tag = torch.round(y_test_pred)\n",
    "        y_pred_list.append(y_pred_tag.cpu().numpy())\n",
    "y_pred_list = [a.squeeze().tolist() for a in y_pred_list]\n",
    "\n",
    "print(classification_report(y_test, y_pred_list))"
   ]
  },
  {
   "cell_type": "code",
   "execution_count": 24,
   "metadata": {},
   "outputs": [
    {
     "data": {
      "text/plain": [
       "<AxesSubplot:>"
      ]
     },
     "execution_count": 24,
     "metadata": {},
     "output_type": "execute_result"
    },
    {
     "data": {
      "image/png": "[encoded data removed]",
      "text/plain": [
       "<Figure size 720x504 with 2 Axes>"
      ]
     },
     "metadata": {
      "needs_background": "light"
     },
     "output_type": "display_data"
    }
   ],
   "source": [
    "cm=confusion_matrix(y_test, y_pred_list)\n",
    "plt.figure(figsize = (10,7))\n",
    "sns.heatmap(cm, annot=True)"
   ]
  },
  {
   "cell_type": "code",
   "execution_count": 26,
   "metadata": {},
   "outputs": [],
   "source": [
    "### SAVE Result Data\n",
    "# with open('drugbank_experiment_pickles/mixedvec_large_full_results.pickle', 'wb') as handle:\n",
    "#     pickle.dump((test_pairs, y_test, y_pred_list), handle, protocol=pickle.HIGHEST_PROTOCOL)\n",
    "\n",
    "### LOAD Data from Pickles --- folder: drugbank_experiment_pickless\n",
    "with open('drugbank_experiment_pickles/mixedvec_large_full_results.pickle', 'rb') as handle:\n",
    "    test_pairs_mixed, y_test_mixed, y_pred_list_mixed = pickle.load(handle)\n",
    "test_pairs, y_test, y_pred_list = test_pairs_mixed, y_test_mixed, y_pred_list_mixed"
   ]
  },
  {
   "cell_type": "code",
   "execution_count": 27,
   "metadata": {},
   "outputs": [
    {
     "name": "stdout",
     "output_type": "stream",
     "text": [
      "Mean Correct Degrees: 795.3818969831738\n",
      "Mean MIN Correct Degrees: 512.0931479331621\n",
      "Mean MAX Correct Degrees: 1078.6706460331857\n",
      "Mean Correct Core Differences: 231.8069864210897\n",
      "Mean Correct Betweenus Centrality: 1.4445836090574551e-06\n",
      "Mean False Degrees: 840.2274537591321\n",
      "Mean MIN False Degrees: 517.010237740367\n",
      "Mean MAX False Degrees: 1163.4446697778972\n",
      "Mean False Core Differences: 242.3429520854204\n",
      "Mean False Betweenus Centrality: 6.762802381509822e-06\n"
     ]
    }
   ],
   "source": [
    "from statistics import mean\n",
    "###### Compute Useful Test Results regadring Graph Properites on the Test Set's Nodes\n",
    "# test_pairs, degreeNodes, y_test, y_pred\n",
    "correct_degrees, min_correct_degrees, max_correct_degrees = [], [], []\n",
    "false_degrees, min_false_degrees, max_false_degrees = [], [], []\n",
    "correct_core_diffs, false_core_diffs = [], []\n",
    "correct_b_centrality, false_b_centrality = [], []\n",
    "pairs = test_pairs.values\n",
    "test_values = y_test.values\n",
    "for i in range(len(pairs)):\n",
    "    scid, ocid = pairs[i][0], pairs[i][1]\n",
    "    sdegree, odegree = degreeNodes[scid], degreeNodes[ocid]\n",
    "    score, ocore = core_dict[scid], core_dict[ocid]\n",
    "    if int(test_values[i][0]) == int(y_pred_list[i]):   # Correct decision for NN\n",
    "        correct_degrees.append(1.0*(sdegree + odegree)/2)\n",
    "        min_correct_degrees.append(min(sdegree, odegree))\n",
    "        max_correct_degrees.append(max(sdegree, odegree))\n",
    "        correct_core_diffs.append(abs(score-ocore))\n",
    "        try: # will only work if edge really exists \n",
    "            correct_b_centrality.append(edge_betweeness_centrality[(scid, ocid)] if ((scid, ocid) in edge_betweeness_centrality.keys()) else edge_betweeness_centrality[(ocid, scid)])\n",
    "        except:\n",
    "            continue\n",
    "    else:\n",
    "        false_degrees.append(1.0*(sdegree + odegree)/2)\n",
    "        min_false_degrees.append(min(sdegree, odegree))\n",
    "        max_false_degrees.append(max(sdegree, odegree))\n",
    "        false_core_diffs.append(abs(score-ocore))\n",
    "        try: # will only work if edge really exists \n",
    "            false_b_centrality.append(edge_betweeness_centrality[(scid, ocid)] if ((scid, ocid) in edge_betweeness_centrality.keys()) else edge_betweeness_centrality[(ocid, scid)])\n",
    "        except:\n",
    "            continue\n",
    "\n",
    "print(\"Mean Correct Degrees: {}\".format(mean(correct_degrees)))\n",
    "print(\"Mean MIN Correct Degrees: {}\".format(mean(min_correct_degrees)))\n",
    "print(\"Mean MAX Correct Degrees: {}\".format(mean(max_correct_degrees)))\n",
    "print(\"Mean Correct Core Differences: {}\".format(mean(correct_core_diffs)))\n",
    "print(\"Mean Correct Betweenus Centrality: {}\".format(mean(correct_b_centrality)))\n",
    "print(\"Mean False Degrees: {}\".format(mean(false_degrees)))\n",
    "print(\"Mean MIN False Degrees: {}\".format(mean(min_false_degrees)))\n",
    "print(\"Mean MAX False Degrees: {}\".format(mean(max_false_degrees)))\n",
    "print(\"Mean False Core Differences: {}\".format(mean(false_core_diffs)))\n",
    "print(\"Mean False Betweenus Centrality: {}\".format(mean(false_b_centrality)))"
   ]
  },
  {
   "cell_type": "code",
   "execution_count": 28,
   "metadata": {},
   "outputs": [
    {
     "name": "stderr",
     "output_type": "stream",
     "text": [
      "100%|██████████| 1538451/1538451 [00:14<00:00, 105666.33it/s]\n"
     ]
    }
   ],
   "source": [
    "### Prepare for Plots\n",
    "resolution = 1000\n",
    "b_centrality_limit = 3\n",
    "distribution_dict = {}\n",
    "for i in tqdm(range(len(pairs))):\n",
    "   scid, ocid = pairs[i][0], pairs[i][1]\n",
    "   sdegree, odegree = degreeNodes[scid], degreeNodes[ocid]\n",
    "   score, ocore = core_dict[scid], core_dict[ocid]\n",
    "   is_positive =  int(test_values[i])\n",
    "   correctly_identified = int(test_values[i]) == int(y_pred_list[i])\n",
    "   mean_degree = 1.0*(sdegree + odegree)/2\n",
    "   min_degree = min(sdegree, odegree)\n",
    "   max_degree = max(sdegree, odegree)\n",
    "   core_diff = abs(score-ocore)\n",
    "   try:\n",
    "      b_centrallity = 10**6*edge_betweeness_centrality[(scid, ocid)] if ((scid, ocid) in edge_betweeness_centrality.keys()) else edge_betweeness_centrality[(ocid, scid)]\n",
    "   except: \n",
    "      b_centrallity = None\n",
    "   distribution_dict[(scid, ocid)] = [is_positive, correctly_identified, mean_degree, min_degree, max_degree, core_diff, b_centrallity]\n",
    "\n",
    "distribution_df = pd.DataFrame.from_dict(data = distribution_dict, orient = 'index' , columns= ['is_positive', 'correctly_identified', 'mean_degree', 'min_degree', 'max_degree', 'core_diff', 'b_centrality'])\n",
    "\n",
    "### Save node2vec distribution_df\n",
    "hybrid_distribution_df = distribution_df"
   ]
  },
  {
   "cell_type": "code",
   "execution_count": 27,
   "metadata": {},
   "outputs": [
    {
     "name": "stderr",
     "output_type": "stream",
     "text": [
      "100%|██████████| 1538451/1538451 [00:10<00:00, 142597.01it/s]\n"
     ]
    },
    {
     "name": "stdout",
     "output_type": "stream",
     "text": [
      "Total Negative Correctly Identified Samples:     773715\n",
      "Total Negative Incorrectly Identified Samples:   47883\n",
      "Total Positive Correctly Identified Samples:     682882\n",
      "Total Positive Incorrectly Identified Samples:   33971\n",
      "\n",
      "B centrality plots where limited on samples with b_centrality < 3\n",
      "Total nodes with b_centrality <  3:   691321\n",
      "Total nodes with b_centrality >= 3:   25532\n",
      "\n",
      "KL Divergence Results\n",
      "KL Divergence between distributions from Classifier choices\n",
      "---mean_degree ~ KL(Correct | False): 0.24238601185316894\n",
      "---mean_degree ~ KL(False | Correct): 0.15015120496370388\n",
      "---min_degree ~ KL(Correct | False): 0.5745928670972233\n",
      "---min_degree ~ KL(False | Correct): 0.4159043890017511\n",
      "---max_degree ~ KL(Correct | False): 0.2933407233973909\n",
      "---max_degree ~ KL(False | Correct): 0.19800358330700685\n",
      "---core_diff ~ KL(Correct | False): 0.48306892214682584\n",
      "---core_diff ~ KL(False | Correct): 0.2967713867292542\n",
      "---b_centrality ~ KL(Correct | False): 0.2766220211953243\n",
      "---b_centrality ~ KL(False | Correct): 0.15427970585416478\n",
      "Total approved Drugs in Test Samples:  1316602 --- Model Accuracy 0.9419984171374493\n",
      "\t\tapproved Drugs in Positive Interactions: 650360    Accuracy:0.9513346454271481\n",
      "\t\tapproved Drugs in Negative Interactions: 666242    Accuracy:0.9328847475842111\n",
      "Total investigational Drugs in Test Samples:  391811 --- Model Accuracy 0.9555219225596014\n",
      "\t\tinvestigational Drugs in Positive Interactions: 123579    Accuracy:0.9393181689445618\n",
      "\t\tinvestigational Drugs in Negative Interactions: 268232    Accuracy:0.9629872647558829\n",
      "Total experimental Drugs in Test Samples:  550343 --- Model Accuracy 0.9613186685394381\n",
      "\t\texperimental Drugs in Positive Interactions: 213685    Accuracy:0.9597866017736387\n",
      "\t\texperimental Drugs in Negative Interactions: 336658    Accuracy:0.9622911084839808\n",
      "Total illicit Drugs in Test Samples:  13017 --- Model Accuracy 0.9648152416071292\n",
      "\t\tillicit Drugs in Positive Interactions: 6859    Accuracy:0.9692374981775769\n",
      "\t\tillicit Drugs in Negative Interactions: 6158    Accuracy:0.9598895745371874\n",
      "Total vet_approved Drugs in Test Samples:  41980 --- Model Accuracy 0.9733920914721296\n",
      "\t\tvet_approved Drugs in Positive Interactions: 13768    Accuracy:0.962521789657176\n",
      "\t\tvet_approved Drugs in Negative Interactions: 28212    Accuracy:0.9786970083652347\n",
      "Total withdrawn Drugs in Test Samples:  39540 --- Model Accuracy 0.9675771370763784\n",
      "\t\twithdrawn Drugs in Positive Interactions: 23466    Accuracy:0.9786499616466376\n",
      "\t\twithdrawn Drugs in Negative Interactions: 16074    Accuracy:0.9514122184894861\n",
      "Total nutraceutical Drugs in Test Samples:  5024 --- Model Accuracy 0.9655652866242038\n",
      "\t\tnutraceutical Drugs in Positive Interactions: 839    Accuracy:0.902264600715137\n",
      "\t\tnutraceutical Drugs in Negative Interactions: 4185    Accuracy:0.9782556750298685\n"
     ]
    }
   ],
   "source": [
    "### Define parameters for results plots file save\n",
    "resultsPath = \"result_plots/large_drugbank_results/hybrid/\"   ### CHANGE THIS FOR EVERY EXPERIMENT\n",
    "metrics_dict = {\"mean_degree\":\"Mean Degree\", \"min_degree\":\"Min Degree\", \"max_degree\":\"Max Degree\", \"core_diff\":\"Core Difference\", \"b_centrality\":\"Betweenness Centrality\"}\n",
    "\n",
    "### Plot Group A: Histogram grouped by categories in same plot\n",
    "for x_axis_variable in ['mean_degree', 'min_degree', 'max_degree', 'core_diff', 'b_centrality']:\n",
    "\n",
    "    x1 = distribution_df[x_axis_variable][(distribution_df.is_positive==0) & (distribution_df.correctly_identified==True)]\n",
    "    x2 = distribution_df[x_axis_variable][(distribution_df.is_positive==0) & (distribution_df.correctly_identified==False)]\n",
    "    x3 = distribution_df[x_axis_variable][(distribution_df.is_positive==1) & (distribution_df.correctly_identified==True)]\n",
    "    x4 = distribution_df[x_axis_variable][(distribution_df.is_positive==1) & (distribution_df.correctly_identified==False)]\n",
    "\n",
    "    kwargs = dict(alpha=0.5, bins=100, density=False, stacked=True)\n",
    "    if x_axis_variable != \"b_centrality\":\n",
    "        plt.hist(x1, **kwargs, color='g', label='Negative Correctly Identified')\n",
    "        plt.hist(x2, **kwargs, color='b', label='Negative Incorrectly Identified')\n",
    "    else:\n",
    "        x3 = x3[x3.between(0,b_centrality_limit)]\n",
    "        x4 = x4[x4.between(0,b_centrality_limit)]\n",
    "    plt.hist(x3, **kwargs, color='r', label='Positive Correctly Identified')\n",
    "    plt.hist(x4, **kwargs, color='c', label='Positive Incorrectly Identified')\n",
    "    plt.gca().set(title=\"Frequency Histogram of Classifier's predictions\", ylabel='Frequency', xlabel = metrics_dict[x_axis_variable])\n",
    "    # plt.xlim(50,75)\n",
    "    plt.legend()\n",
    "    imageName = \"groupA_Frequency Histogram of Classifier's predictions_\" + x_axis_variable\n",
    "    plt.savefig(resultsPath + imageName +'.png', dpi=resolution, bbox_inches='tight')\n",
    "    plt.close()\n",
    "\n",
    "### Plot Group AX: Density grouped by categories in same plot\n",
    "for x_axis_variable in ['mean_degree', 'min_degree', 'max_degree', 'core_diff', 'b_centrality']:\n",
    "\n",
    "    x1 = distribution_df[x_axis_variable][(distribution_df.is_positive==0) & (distribution_df.correctly_identified==True)]\n",
    "    x2 = distribution_df[x_axis_variable][(distribution_df.is_positive==0) & (distribution_df.correctly_identified==False)]\n",
    "    x3 = distribution_df[x_axis_variable][(distribution_df.is_positive==1) & (distribution_df.correctly_identified==True)]\n",
    "    x4 = distribution_df[x_axis_variable][(distribution_df.is_positive==1) & (distribution_df.correctly_identified==False)]\n",
    "\n",
    "    # Normalize\n",
    "    kwargs = dict(alpha=0.5, bins=100, density=True, stacked=True)\n",
    "    if x_axis_variable != \"b_centrality\":\n",
    "        plt.hist(x1, **kwargs, color='g', label='Negative Correctly Identified')\n",
    "        plt.hist(x2, **kwargs, color='b', label='Negative Incorrectly Identified')\n",
    "    else:\n",
    "        x3 = x3[x3.between(0,b_centrality_limit)]\n",
    "        x4 = x4[x4.between(0,b_centrality_limit)]\n",
    "    plt.hist(x3, **kwargs, color='r', label='Positive Correctly Identified')\n",
    "    plt.hist(x4, **kwargs, color='c', label='Positive Incorrectly Identified')\n",
    "    plt.gca().set(title=\"Density Histogram of Classifier's predictions\", ylabel='Density', xlabel = metrics_dict[x_axis_variable])\n",
    "    # plt.xlim(50,75)\n",
    "    plt.legend()\n",
    "    imageName = \"groupAX_Density Histogram of Classifier's predictions_\" + x_axis_variable\n",
    "    plt.savefig(resultsPath + imageName +'.png', dpi=resolution, bbox_inches='tight')\n",
    "    plt.close()\n",
    "\n",
    "   \n",
    "### Plot Group B: Density grouped by categories in separate subplots\n",
    "\n",
    "param_list = []\n",
    "for pos in [0,1]:\n",
    "    for corr in [True, False]:\n",
    "        param_list.append((distribution_df.is_positive==pos) & (distribution_df.correctly_identified==corr))\n",
    "titles = ['Negative Correctly Identified', 'Negative Incorrectly Identified', 'Positive Correctly Identified', 'Positive Incorrectly Identified']\n",
    "colors = ['tab:green', 'tab:blue', 'tab:red', 'tab:cyan']\n",
    "for selector in ['mean_degree', 'min_degree', 'max_degree', 'core_diff']:\n",
    "    fig, axes = plt.subplots(1, 4, figsize=(15,2.5), dpi=resolution, sharex=True, sharey=True)\n",
    "    for i, (ax, param) in enumerate(zip(axes.flatten(), param_list)):\n",
    "        x = distribution_df[selector][param]\n",
    "        ax.hist(x, alpha=0.5, bins=100, density=True, stacked=True, label=str(titles[i]), color=colors[i])\n",
    "        ax.set_title(titles[i])\n",
    "        ax.set_ylabel = \"Density\"\n",
    "        ax.set_xlabel = selector\n",
    "    plt.suptitle('Classifier Predictions: Density of {}'.format(metrics_dict[selector]), y=1)\n",
    "    plt.tight_layout()\n",
    "    imageName = \"groupB_Density Histogram of Classifier's predictions_\" + selector\n",
    "    plt.savefig(resultsPath + imageName +'.png', dpi=resolution, bbox_inches='tight')\n",
    "    plt.close()\n",
    "\n",
    "############# Repeat for Distributions that recognize only positive edges\n",
    "param_list = []\n",
    "for pos in [1]:\n",
    "    for corr in [True, False]:\n",
    "        param_list.append((distribution_df.is_positive==pos) & (distribution_df.correctly_identified==corr))\n",
    "titles = ['Positive Correctly Identified', 'Positive Incorrectly Identified']\n",
    "\n",
    "for selector in ['b_centrality']:\n",
    "    fig, axes = plt.subplots(1, 2, figsize=(15,2.5), dpi=resolution, sharex=True, sharey=True)\n",
    "    for i, (ax, param) in enumerate(zip(axes.flatten(), param_list)):\n",
    "        x = distribution_df[selector][param]\n",
    "        x = x[x.between(0,b_centrality_limit)]\n",
    "\n",
    "        ax.hist(x, alpha=0.5, bins=100, density=True, stacked=True, label=str(titles[i]), color=colors[i])\n",
    "        ax.set_title(titles[i])\n",
    "        ax.set_ylabel = \"Density\"\n",
    "        ax.set_xlabel = selector\n",
    "    plt.suptitle('Classifier Predictions: Density of {}'.format(metrics_dict[selector]), y=1)\n",
    "    plt.tight_layout()\n",
    "    imageName = \"groupB_Density Histogram of Classifier's predictions_\" + selector\n",
    "    plt.savefig(resultsPath + imageName +'.png', dpi=resolution, bbox_inches='tight')\n",
    "    plt.close()\n",
    "\n",
    "### Plot Group C: KDE \n",
    "titles = ['Negative Correctly Identified', 'Negative Incorrectly Identified', 'Positive Correctly Identified', 'Positive Incorrectly Identified']\n",
    "\n",
    "for selector in ['mean_degree', 'min_degree', 'max_degree', 'core_diff']:\n",
    "    dv_list = []\n",
    "    i=0\n",
    "    for pos in [0,1]:\n",
    "        for corr in [True, False]:\n",
    "            dv = distribution_df[selector][(distribution_df.is_positive==pos) & (distribution_df.correctly_identified==corr)].value_counts()\n",
    "            #dv = dv/dv.sum()\n",
    "            dv = dv.rename(titles[i]+ \" -  \" + selector)\n",
    "            i += 1\n",
    "            dv = dv.sort_index()\n",
    "            dv_list.append(dv)\n",
    "\n",
    "    dist_df = pd.concat(dv_list, axis=1)\n",
    "    dist_df = pd.concat(dv_list, axis=1).fillna(0)\n",
    "    kwargs = dict(title=\"Kernel Density Estimate for Classifier's Predictions: {}\".format(metrics_dict[selector]), color=colors)\n",
    "    figSrc = dist_df.plot.kde(**kwargs, bw_method=0.03)\n",
    "    fig = figSrc.get_figure()\n",
    "    imageName = \"groupC_KDE of Classifier's predictions_\" + selector\n",
    "    fig.savefig(resultsPath + imageName + \".png\", dpi=resolution, bbox_inches='tight')\n",
    "    plt.close(fig)\n",
    "    \n",
    "    \n",
    "    \n",
    "\n",
    "############# Repeat for Distributions that recognize only positive edges\n",
    "for selector in ['b_centrality']:\n",
    "    dv_list = []\n",
    "    i=2\n",
    "    for pos in [1]:\n",
    "        for corr in [True, False]:\n",
    "            x = distribution_df[selector][(distribution_df.is_positive==pos) & (distribution_df.correctly_identified==corr)]\n",
    "            x = x[x.between(0,b_centrality_limit)]\n",
    "            dv = x.value_counts()\n",
    "            #dv = dv/dv.sum()\n",
    "            dv = dv.rename(titles[i]+ \" -  \" + selector)\n",
    "            i += 1\n",
    "            dv = dv.sort_index()\n",
    "            dv_list.append(dv)\n",
    "    dist_df = pd.concat(dv_list, axis=1)\n",
    "    dist_df = pd.concat(dv_list, axis=1).fillna(0)\n",
    "    kwargs = dict(title=\"Kernel Density Estimate for Classifier's Predictions: {}\".format(metrics_dict[selector]), color=colors)\n",
    "    figSrc = dist_df.plot.kde(**kwargs)\n",
    "    fig = figSrc.get_figure()\n",
    "    imageName = \"groupC_KDE of Classifier's predictions_\" + selector\n",
    "    fig.savefig(resultsPath + imageName + \".png\", dpi=resolution, bbox_inches='tight')\n",
    "    plt.close(fig)\n",
    "\n",
    "### Compute Stats\n",
    "print(\"Total Negative Correctly Identified Samples:     {}\".format(distribution_df[(distribution_df.is_positive==0) & (distribution_df.correctly_identified==True)].shape[0]))\n",
    "print(\"Total Negative Incorrectly Identified Samples:   {}\".format(distribution_df[(distribution_df.is_positive==0) & (distribution_df.correctly_identified==False)].shape[0]))\n",
    "print(\"Total Positive Correctly Identified Samples:     {}\".format(distribution_df[(distribution_df.is_positive==1) & (distribution_df.correctly_identified==True)].shape[0]))\n",
    "print(\"Total Positive Incorrectly Identified Samples:   {}\".format(distribution_df[(distribution_df.is_positive==1) & (distribution_df.correctly_identified==False)].shape[0]))\n",
    "\n",
    "#### B-centrality-stats\n",
    "print(\"\\nB centrality plots where limited on samples with b_centrality < {}\".format(b_centrality_limit))\n",
    "print(\"Total nodes with b_centrality <  {}:   {}\".format(b_centrality_limit, distribution_df[(distribution_df.b_centrality < b_centrality_limit)].shape[0]))\n",
    "print(\"Total nodes with b_centrality >= {}:   {}\".format(b_centrality_limit, distribution_df[(distribution_df.b_centrality >= b_centrality_limit)].shape[0]))\n",
    "\n",
    "\n",
    "print(\"\\nKL Divergence Results\")\n",
    "### KL Divergence Computation\n",
    "print(\"KL Divergence between distributions from Classifier choices\")\n",
    "kl_list = []\n",
    "for index, selector in enumerate(['mean_degree', 'min_degree', 'max_degree', 'core_diff', 'b_centrality']):\n",
    "    print(\"---\" + selector + \" ~ KL(Correct | False): {}\"\\\n",
    "        .format(KL(distribution_df[distribution_df.correctly_identified==True][selector], distribution_df[distribution_df.correctly_identified==False][selector])))\n",
    "    print(\"---\" + selector + \" ~ KL(False | Correct): {}\"\\\n",
    "        .format(KL(distribution_df[distribution_df.correctly_identified==False][selector], distribution_df[distribution_df.correctly_identified==True][selector])))\n",
    "\n",
    "####### Evaluate Model's Predictions on Drug Groups\n",
    "distribution_df['sgroup'] = distribution_df.index.map(lambda x: groups_dict[x[0]])\n",
    "distribution_df['ogroup'] =distribution_df.index.map(lambda x: groups_dict[x[1]])\n",
    "\n",
    "# Print (ordered) Accuracy and total samples for each category (when at least one drug on the interaction belongs to a category)\n",
    "group_names = ['approved', 'investigational', 'experimental', 'illicit', 'vet_approved', 'withdrawn', 'nutraceutical']\n",
    "\n",
    "for name in group_names:\n",
    "    temp_df = distribution_df[(distribution_df.sgroup==name) | (distribution_df.ogroup==name)]\n",
    "    accuracy = temp_df[temp_df.correctly_identified==True].shape[0] / temp_df.shape[0]\n",
    "    neg_samples = temp_df[((temp_df.sgroup==name) | (temp_df.ogroup==name)) & (temp_df.is_positive==0)].shape[0]\n",
    "    positive_samples = temp_df[((temp_df.sgroup==name) | (temp_df.ogroup==name)) & (temp_df.is_positive==1)].shape[0]\n",
    "    neg_acc =  temp_df[(temp_df.correctly_identified==True) & (temp_df.is_positive==0)].shape[0] / neg_samples\n",
    "    pos_acc =  temp_df[(temp_df.correctly_identified==True) & (temp_df.is_positive==1)].shape[0] / positive_samples\n",
    "    print(\"Total {} Drugs in Test Samples:  {} --- Model Accuracy {}\".format(name, temp_df.shape[0], accuracy))\n",
    "    print(\"\\t\\t{} Drugs in Positive Interactions: {}    Accuracy:{}\".format(name, positive_samples, pos_acc))\n",
    "    print(\"\\t\\t{} Drugs in Negative Interactions: {}    Accuracy:{}\".format(name, neg_samples, neg_acc))"
   ]
  },
  {
   "cell_type": "code",
   "execution_count": 29,
   "metadata": {},
   "outputs": [
    {
     "name": "stdout",
     "output_type": "stream",
     "text": [
      "Node2Vec Experiment Max Degree: 2402\n"
     ]
    },
    {
     "name": "stderr",
     "output_type": "stream",
     "text": [
      "100%|██████████| 2402/2402 [17:42<00:00,  2.26it/s]\n",
      "100%|██████████| 2397/2397 [14:41<00:00,  2.72it/s]\n",
      "100%|██████████| 2392/2392 [12:24<00:00,  3.21it/s]\n"
     ]
    },
    {
     "name": "stdout",
     "output_type": "stream",
     "text": [
      "Node2Vec Experiment Max Core Difference: 715\n"
     ]
    },
    {
     "name": "stderr",
     "output_type": "stream",
     "text": [
      "100%|██████████| 716/716 [04:58<00:00,  2.40it/s]\n"
     ]
    },
    {
     "name": "stdout",
     "output_type": "stream",
     "text": [
      "Node2Vec Experiment Max Core Difference: 715\n"
     ]
    },
    {
     "name": "stderr",
     "output_type": "stream",
     "text": [
      "100%|██████████| 12362/12362 [1:33:53<00:00,  2.19it/s]\n"
     ]
    }
   ],
   "source": [
    "#### Model Accuracy for pairs with min_degree < N\n",
    "N = distribution_df.max_degree.max()\n",
    "print(\"Hybrid Experiment Max Degree: {}\".format(N))\n",
    "hybrid_min_degree_recall_list = []\n",
    "hybrid_min_degree_accuracy_list = []\n",
    "for n in tqdm(range(1,N+1)):\n",
    "    lddf = distribution_df[distribution_df.min_degree <= n] #low degree df\n",
    "    total_samples, correct, false, pos, neg = lddf.shape[0], lddf[lddf.correctly_identified == True].shape[0], lddf[lddf.correctly_identified == False].shape[0], lddf[lddf.is_positive == 1].shape[0], lddf[lddf.is_positive == 0].shape[0]\n",
    "    hybrid_min_degree_recall_list.append(100.0*lddf[(lddf.is_positive == 1) & (lddf.correctly_identified == True)].shape[0] / lddf[lddf.is_positive == 1].shape[0])\n",
    "    hybrid_min_degree_accuracy_list.append(100.0*correct/(correct + false))\n",
    "\n",
    "hybrid_mean_degree_recall_list = []\n",
    "hybrid_mean_degree_accuracy_list = []\n",
    "for n in tqdm(range(6,N+1)):\n",
    "    lddf = distribution_df[distribution_df.mean_degree <= n] #low degree df\n",
    "    total_samples, correct, false, pos, neg = lddf.shape[0], lddf[lddf.correctly_identified == True].shape[0], lddf[lddf.correctly_identified == False].shape[0], lddf[lddf.is_positive == 1].shape[0], lddf[lddf.is_positive == 0].shape[0]\n",
    "    hybrid_mean_degree_recall_list.append(100.0*lddf[(lddf.is_positive == 1) & (lddf.correctly_identified == True)].shape[0] / lddf[lddf.is_positive == 1].shape[0])\n",
    "    hybrid_mean_degree_accuracy_list.append(100.0*correct/(correct + false))\n",
    "\n",
    "hybrid_max_degree_recall_list = []\n",
    "hybrid_max_degree_accuracy_list = []\n",
    "for n in tqdm(range(11,N+1)):\n",
    "    lddf = distribution_df[distribution_df.max_degree <= n] #low degree df\n",
    "    total_samples, correct, false, pos, neg = lddf.shape[0], lddf[lddf.correctly_identified == True].shape[0], lddf[lddf.correctly_identified == False].shape[0], lddf[lddf.is_positive == 1].shape[0], lddf[lddf.is_positive == 0].shape[0]\n",
    "    hybrid_max_degree_recall_list.append(100.0*lddf[(lddf.is_positive == 1) & (lddf.correctly_identified == True)].shape[0] / lddf[lddf.is_positive == 1].shape[0])\n",
    "    hybrid_max_degree_accuracy_list.append(100.0*correct/(correct + false))\n",
    "\n",
    "C = distribution_df.core_diff.max()\n",
    "hybrid_core_diff_recall_list = []\n",
    "hybrid_core_diff_accuracy_list = []\n",
    "print(\"Hybrid Experiment Max Core Difference: {}\".format(C))\n",
    "for c in tqdm(range(0,C+1)):\n",
    "    lddf = distribution_df[distribution_df.core_diff <= c] #low degree df\n",
    "    total_samples, correct, false, pos, neg = lddf.shape[0], lddf[lddf.correctly_identified == True].shape[0], lddf[lddf.correctly_identified == False].shape[0], lddf[lddf.is_positive == 1].shape[0], lddf[lddf.is_positive == 0].shape[0]\n",
    "    hybrid_core_diff_recall_list.append(100.0*lddf[(lddf.is_positive == 1) & (lddf.correctly_identified == True)].shape[0] / lddf[lddf.is_positive == 1].shape[0])\n",
    "    hybrid_core_diff_accuracy_list.append(100.0*correct/(correct + false))\n",
    "\n",
    "B = distribution_df.b_centrality.max()\n",
    "hybrid_b_centrality_recall_list = []\n",
    "hybrid_b_centrality_accuracy_list = []\n",
    "print(\"Hybrid Experiment Max Core Difference: {}\".format(C))\n",
    "for c in tqdm(np.arange(0.01,B+0.1, 0.1)):\n",
    "    lddf = distribution_df[distribution_df.b_centrality <= c] #low degree df\n",
    "    total_samples, correct, false, pos, neg = lddf.shape[0], lddf[lddf.correctly_identified == True].shape[0], lddf[lddf.correctly_identified == False].shape[0], lddf[lddf.is_positive == 1].shape[0], lddf[lddf.is_positive == 0].shape[0]\n",
    "    hybrid_b_centrality_recall_list.append(100.0*lddf[(lddf.is_positive == 1) & (lddf.correctly_identified == True)].shape[0] / lddf[lddf.is_positive == 1].shape[0])\n",
    "    hybrid_b_centrality_accuracy_list.append(100.0*correct/(correct + false))"
   ]
  },
  {
   "cell_type": "code",
   "execution_count": 30,
   "metadata": {},
   "outputs": [
    {
     "ename": "NameError",
     "evalue": "name 'node2vec_min_degree_recall_list' is not defined",
     "output_type": "error",
     "traceback": [
      "\u001b[1;31m---------------------------------------------------------------------------\u001b[0m",
      "\u001b[1;31mNameError\u001b[0m                                 Traceback (most recent call last)",
      "\u001b[1;32m~\\AppData\\Local\\Temp/ipykernel_21788/756389560.py\u001b[0m in \u001b[0;36m<module>\u001b[1;34m\u001b[0m\n\u001b[0;32m      7\u001b[0m \u001b[1;33m\u001b[0m\u001b[0m\n\u001b[0;32m      8\u001b[0m \u001b[1;31m#### Plot recall from experiments (Min Degree)\u001b[0m\u001b[1;33m\u001b[0m\u001b[1;33m\u001b[0m\u001b[0m\n\u001b[1;32m----> 9\u001b[1;33m \u001b[0mrecall_df\u001b[0m \u001b[1;33m=\u001b[0m \u001b[0mpd\u001b[0m\u001b[1;33m.\u001b[0m\u001b[0mDataFrame\u001b[0m\u001b[1;33m(\u001b[0m\u001b[1;33m{\u001b[0m\u001b[1;34m'Mol2Vec'\u001b[0m\u001b[1;33m:\u001b[0m \u001b[0mmol2vec_min_degree_recall_list\u001b[0m\u001b[1;33m[\u001b[0m\u001b[1;33m:\u001b[0m\u001b[0mSL\u001b[0m\u001b[1;33m]\u001b[0m\u001b[1;33m,\u001b[0m\u001b[1;34m'Node2Vec'\u001b[0m\u001b[1;33m:\u001b[0m \u001b[0mnode2vec_min_degree_recall_list\u001b[0m\u001b[1;33m[\u001b[0m\u001b[1;33m:\u001b[0m\u001b[0mSL\u001b[0m\u001b[1;33m]\u001b[0m\u001b[1;33m,\u001b[0m \u001b[1;34m'Hybrid'\u001b[0m\u001b[1;33m:\u001b[0m \u001b[0mhybrid_min_degree_recall_list\u001b[0m\u001b[1;33m[\u001b[0m\u001b[1;33m:\u001b[0m\u001b[0mSL\u001b[0m\u001b[1;33m]\u001b[0m\u001b[1;33m}\u001b[0m\u001b[1;33m)\u001b[0m\u001b[1;33m\u001b[0m\u001b[1;33m\u001b[0m\u001b[0m\n\u001b[0m\u001b[0;32m     10\u001b[0m \u001b[0msns_plot\u001b[0m \u001b[1;33m=\u001b[0m \u001b[0msns\u001b[0m\u001b[1;33m.\u001b[0m\u001b[0mlineplot\u001b[0m\u001b[1;33m(\u001b[0m\u001b[0mdata\u001b[0m\u001b[1;33m=\u001b[0m\u001b[0mrecall_df\u001b[0m\u001b[1;33m)\u001b[0m\u001b[1;33m\u001b[0m\u001b[1;33m\u001b[0m\u001b[0m\n\u001b[0;32m     11\u001b[0m \u001b[0msns_plot\u001b[0m\u001b[1;33m.\u001b[0m\u001b[0mset_title\u001b[0m\u001b[1;33m(\u001b[0m\u001b[1;34m'Recall over Min Degree'\u001b[0m\u001b[1;33m)\u001b[0m\u001b[1;33m\u001b[0m\u001b[1;33m\u001b[0m\u001b[0m\n",
      "\u001b[1;31mNameError\u001b[0m: name 'node2vec_min_degree_recall_list' is not defined"
     ]
    }
   ],
   "source": [
    "import pandas as pd\n",
    "import seaborn as sns\n",
    "import matplotlib.pyplot as plt\n",
    "\n",
    "resultsPath = \"result_plots/large_drugbank_results/cross_experiment/groupD_\"   ### CHANGE THIS FOR EVERY EXPERIMENT\n",
    "SL = 500\n",
    "\n",
    "#### Plot recall from experiments (Min Degree)\n",
    "recall_df = pd.DataFrame({'Mol2Vec': mol2vec_min_degree_recall_list[:SL],'Node2Vec': node2vec_min_degree_recall_list[:SL], 'Hybrid': hybrid_min_degree_recall_list[:SL]})\n",
    "sns_plot = sns.lineplot(data=recall_df)\n",
    "sns_plot.set_title('Recall over Min Degree')\n",
    "sns_plot.set(xlabel='Minimum Degree of a Drug Interaction', ylabel='Recall (%)')\n",
    "sns_plot.figure.savefig(resultsPath + \"recall_minDegree_short.png\", dpi=1000)\n",
    "plt.clf()\n",
    "\n",
    "recall_df = pd.DataFrame({'Mol2Vec': mol2vec_min_degree_recall_list,'Node2Vec': node2vec_min_degree_recall_list, 'Hybrid': hybrid_min_degree_recall_list})\n",
    "sns_plot = sns.lineplot(data=recall_df)\n",
    "sns_plot.set_title('Recall over Min Degree')\n",
    "sns_plot.set(xlabel='Minimum Degree of a Drug Interaction', ylabel='Recall (%)')\n",
    "sns_plot.figure.savefig(resultsPath + \"recall_minDegree.png\", dpi=1000)\n",
    "plt.clf()\n",
    "\n",
    "#### Plot Accuracy lines from experiments (Min Degree)\n",
    "acc_df = pd.DataFrame({'Mol2Vec': mol2vec_min_degree_accuracy_list[:SL],'Node2Vec': node2vec_min_degree_accuracy_list[:SL], 'Hybrid': hybrid_min_degree_accuracy_list[:SL]})\n",
    "sns_plot = sns.lineplot(data=acc_df)\n",
    "sns_plot.set_title('Accuracy over Min Degree')\n",
    "sns_plot.set(xlabel='Minimum Degree of a Drug Interaction', ylabel='Accuracy (%)')\n",
    "sns_plot.figure.savefig(resultsPath + \"accuracy_minDegree_short.png\", dpi=1000)\n",
    "plt.clf()\n",
    "\n",
    "acc_df = pd.DataFrame({'Mol2Vec': mol2vec_min_degree_accuracy_list,'Node2Vec': node2vec_min_degree_accuracy_list, 'Hybrid': hybrid_min_degree_accuracy_list})\n",
    "sns_plot = sns.lineplot(data=acc_df)\n",
    "sns_plot.set_title('Accuracy over Min Degree')\n",
    "sns_plot.set(xlabel='Minimum Degree of a Drug Interaction', ylabel='Accuracy (%)')\n",
    "sns_plot.figure.savefig(resultsPath + \"accuracy_minDegree.png\", dpi=1000)\n",
    "plt.clf()\n",
    "\n",
    "#### Plot recall from experiments (Mean Degree)\n",
    "recall_df = pd.DataFrame({'Mol2Vec': mol2vec_mean_degree_recall_list[:SL],'Node2Vec': node2vec_mean_degree_recall_list[:SL], 'Hybrid': hybrid_mean_degree_recall_list[:SL]})\n",
    "sns_plot = sns.lineplot(data=recall_df)\n",
    "sns_plot.set_title('Recall over Average Degree')\n",
    "sns_plot.set(xlabel='Average Degree of a Drug Interaction', ylabel='Recall (%)')\n",
    "sns_plot.figure.savefig(resultsPath + \"recall_avgDegree_short.png\", dpi=1000)\n",
    "plt.clf()\n",
    "\n",
    "recall_df = pd.DataFrame({'Mol2Vec': mol2vec_mean_degree_recall_list,'Node2Vec': node2vec_mean_degree_recall_list, 'Hybrid': hybrid_mean_degree_recall_list})\n",
    "sns_plot = sns.lineplot(data=recall_df)\n",
    "sns_plot.set_title('Recall over Average Degree')\n",
    "sns_plot.set(xlabel='Average Degree of a Drug Interaction', ylabel='Recall (%)')\n",
    "sns_plot.figure.savefig(resultsPath + \"recall_avgDegree.png\", dpi=1000)\n",
    "plt.clf()\n",
    "\n",
    "#### Plot Accuracy lines from experiments (Mean Degree)\n",
    "acc_df = pd.DataFrame({'Mol2Vec': mol2vec_mean_degree_accuracy_list[:SL],'Node2Vec': node2vec_mean_degree_accuracy_list[:SL], 'Hybrid': hybrid_mean_degree_accuracy_list[:SL]})\n",
    "sns_plot = sns.lineplot(data=acc_df)\n",
    "sns_plot.set_title('Accuracy over Average Degree')\n",
    "sns_plot.set(xlabel='Average Degree of a Drug Interaction', ylabel='Accuracy (%)')\n",
    "sns_plot.figure.savefig(resultsPath + \"accuracy_avgDegree_short.png\", dpi=1000)\n",
    "plt.clf()\n",
    "\n",
    "acc_df = pd.DataFrame({'Mol2Vec': mol2vec_mean_degree_accuracy_list,'Node2Vec': node2vec_mean_degree_accuracy_list, 'Hybrid': hybrid_mean_degree_accuracy_list})\n",
    "sns_plot = sns.lineplot(data=acc_df)\n",
    "sns_plot.set_title('Accuracy over Average Degree')\n",
    "sns_plot.set(xlabel='Average Degree of a Drug Interaction', ylabel='Accuracy (%)')\n",
    "sns_plot.figure.savefig(resultsPath + \"accuracy_avgDegree.png\", dpi=1000)\n",
    "plt.clf()\n",
    "\n",
    "#### Plot recall from experiments (Max Degree)\n",
    "recall_df = pd.DataFrame({'Mol2Vec': mol2vec_max_degree_recall_list[:SL],'Node2Vec': node2vec_max_degree_recall_list[:SL], 'Hybrid': hybrid_max_degree_recall_list[:SL]})\n",
    "sns_plot = sns.lineplot(data=recall_df)\n",
    "sns_plot.set_title('Recall over Max Degree')\n",
    "sns_plot.set(xlabel='Maximum Degree of a Drug Interaction', ylabel='Recall (%)')\n",
    "sns_plot.figure.savefig(resultsPath + \"recall_maxDegree_short.png\", dpi=1000)\n",
    "plt.clf()\n",
    "\n",
    "recall_df = pd.DataFrame({'Mol2Vec': mol2vec_max_degree_recall_list,'Node2Vec': node2vec_max_degree_recall_list, 'Hybrid': hybrid_max_degree_recall_list})\n",
    "sns_plot = sns.lineplot(data=recall_df)\n",
    "sns_plot.set_title('Recall over Max Degree')\n",
    "sns_plot.set(xlabel='Maximum Degree of a Drug Interaction', ylabel='Recall (%)')\n",
    "sns_plot.figure.savefig(resultsPath + \"recall_maxDegree.png\", dpi=1000)\n",
    "plt.clf()\n",
    "\n",
    "#### Plot Accuracy lines from experiments (Max Degree)\n",
    "acc_df = pd.DataFrame({'Mol2Vec': mol2vec_max_degree_accuracy_list[:SL],'Node2Vec': node2vec_max_degree_accuracy_list[:SL], 'Hybrid': hybrid_max_degree_accuracy_list[:SL]})\n",
    "sns_plot = sns.lineplot(data=acc_df)\n",
    "sns_plot.set_title('Accuracy over Max Degree')\n",
    "sns_plot.set(xlabel='Maximum Degree of a Drug Interaction', ylabel='Accuracy (%)')\n",
    "sns_plot.figure.savefig(resultsPath + \"accuracy_maxDegree_short.png\", dpi=1000)\n",
    "plt.clf()\n",
    "\n",
    "acc_df = pd.DataFrame({'Mol2Vec': mol2vec_max_degree_accuracy_list,'Node2Vec': node2vec_max_degree_accuracy_list, 'Hybrid': hybrid_max_degree_accuracy_list})\n",
    "sns_plot = sns.lineplot(data=acc_df)\n",
    "sns_plot.set_title('Accuracy over Max Degree')\n",
    "sns_plot.set(xlabel='Maximum Degree of a Drug Interaction', ylabel='Accuracy (%)')\n",
    "sns_plot.figure.savefig(resultsPath + \"accuracy_maxDegree.png\", dpi=1000)\n",
    "plt.clf()\n",
    "\n",
    "#### Plot recall from experiments (Core Diff)\n",
    "recall_df = pd.DataFrame({'Mol2Vec': mol2vec_core_diff_recall_list[:SL],'Node2Vec': node2vec_core_diff_recall_list[:SL], 'Hybrid': hybrid_core_diff_recall_list[:SL]})\n",
    "sns_plot = sns.lineplot(data=recall_df)\n",
    "sns_plot.set_title('Recall over Core Difference')\n",
    "sns_plot.set(xlabel='Core Difference of Drugs inside Drug Interaction', ylabel='Recall (%)')\n",
    "sns_plot.figure.savefig(resultsPath + \"recall_core_diff_short.png\", dpi=1000)\n",
    "plt.clf()\n",
    "\n",
    "recall_df = pd.DataFrame({'Mol2Vec': mol2vec_core_diff_recall_list,'Node2Vec': node2vec_core_diff_recall_list, 'Hybrid': hybrid_core_diff_recall_list})\n",
    "sns_plot = sns.lineplot(data=recall_df)\n",
    "sns_plot.set_title('Recall over Core Difference')\n",
    "sns_plot.set(xlabel='Core Difference of Drugs inside Drug Interaction', ylabel='Recall (%)')\n",
    "sns_plot.figure.savefig(resultsPath + \"recall_core_diff.png\", dpi=1000)\n",
    "plt.clf()\n",
    "\n",
    "#### Plot Accuracy lines from experiments (Core Diff)\n",
    "acc_df = pd.DataFrame({'Mol2Vec': mol2vec_core_diff_accuracy_list[:SL],'Node2Vec': node2vec_core_diff_accuracy_list[:SL], 'Hybrid': hybrid_core_diff_accuracy_list[:SL]})\n",
    "sns_plot = sns.lineplot(data=acc_df)\n",
    "sns_plot.set_title('Accuracy over Core Difference')\n",
    "sns_plot.set(xlabel='Core Difference of Drugs inside Drug Interaction', ylabel='Accuracy (%)')\n",
    "sns_plot.figure.savefig(resultsPath + \"accuracy_core_diff_short.png\", dpi=1000)\n",
    "plt.clf()\n",
    "\n",
    "acc_df = pd.DataFrame({'Mol2Vec': mol2vec_core_diff_accuracy_list,'Node2Vec': node2vec_core_diff_accuracy_list, 'Hybrid': hybrid_core_diff_accuracy_list})\n",
    "sns_plot = sns.lineplot(data=acc_df)\n",
    "sns_plot.set_title('Accuracy over Core Difference')\n",
    "sns_plot.set(xlabel='Core Difference of Drugs inside Drug Interaction', ylabel='Accuracy (%)')\n",
    "sns_plot.figure.savefig(resultsPath + \"accuracy_core_diff.png\", dpi=1000)\n",
    "plt.clf()\n",
    "\n",
    "#### Plot recall from experiments (B Centrality)\n",
    "recall_df = pd.DataFrame({'Mol2Vec': mol2vec_b_centrality_recall_list,'Node2Vec': node2vec_b_centrality_recall_list, 'Hybrid': hybrid_b_centrality_recall_list})\n",
    "sns_plot = sns.lineplot(data=recall_df)\n",
    "sns_plot.set_title('Recall over Betweenness Centrality')\n",
    "sns_plot.set(xlabel='Betweenness Centrality of Drug Interaction', ylabel='Recall (%)')\n",
    "sns_plot.figure.savefig(resultsPath + \"recall_b_centrality.png\", dpi=1000)\n",
    "plt.clf()\n",
    "\n",
    "#### Plot Accuracy lines from experiments (Core Diff)\n",
    "acc_df = pd.DataFrame({'Mol2Vec': mol2vec_b_centrality_accuracy_list,'Node2Vec': node2vec_b_centrality_accuracy_list, 'Hybrid': hybrid_b_centrality_accuracy_list})\n",
    "sns_plot = sns.lineplot(data=acc_df)\n",
    "sns_plot.set_title('Accuracy over Core Betweenness Centrality')\n",
    "sns_plot.set(xlabel='Betweenness Centrality of Drug Interaction', ylabel='Accuracy (%)')\n",
    "sns_plot.figure.savefig(resultsPath + \"accuracy_b_centrality.png\", dpi=1000)\n",
    "plt.clf()\n"
   ]
  },
  {
   "cell_type": "code",
   "execution_count": null,
   "metadata": {},
   "outputs": [],
   "source": []
  }
 ],
 "metadata": {
  "interpreter": {
   "hash": "96ae755eca9209db9567e962320baa15fadc8d28f6666618a4050aab2e6023e7"
  },
  "kernelspec": {
   "display_name": "Python 3.9.7 ('tf_rdkit_gpu')",
   "language": "python",
   "name": "python3"
  },
  "language_info": {
   "codemirror_mode": {
    "name": "ipython",
    "version": 3
   },
   "file_extension": ".py",
   "mimetype": "text/x-python",
   "name": "python",
   "nbconvert_exporter": "python",
   "pygments_lexer": "ipython3",
   "version": "3.9.7"
  },
  "orig_nbformat": 4
 },
 "nbformat": 4,
 "nbformat_minor": 2
}
